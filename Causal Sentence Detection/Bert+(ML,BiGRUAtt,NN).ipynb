{
 "cells": [
  {
   "cell_type": "markdown",
   "id": "6a1d2e3a-f1b9-47ab-8348-7adaa737b84e",
   "metadata": {},
   "source": [
    "---\n",
    "---\n",
    "*<h1 align='center'> Causal Sentence Detection </h1>*\n",
    "*<h2 align='center'> Transfer-Learning Models: Bert+(ML/Bi-GRU-Att/NN) </h2>*\n",
    "\n",
    "---\n",
    "---\n",
    "`Bert encoding + (Machine Learning models / Bidirectional GRU with Attention / Neural Network)` <br>\n",
    "Name: Logesh.V <br>\n",
    "Email: vlogesh2001@gmail.com <br>\n",
    "DATASETS: \n",
    "- Causaly_small: https://archive.org/details/CausalySmall <br>\n",
    "About Dataset: The dataset contains 2000 manually annotated sentences derived from\n",
    "pubmed articles. 1113 out of 2000 sentences are annotated as Causal (Annotated_Causal = 1) and the rest (887) are annotated as non-Causal (Annotated_Causal = 0)."
   ]
  },
  {
   "cell_type": "code",
   "execution_count": 1,
   "id": "ba423dd7-6912-41da-bec6-1389533b5a83",
   "metadata": {},
   "outputs": [],
   "source": [
    "#Import Libraries\n",
    "import pandas as pd\n",
    "import numpy as np\n",
    "import random\n",
    "import matplotlib.pyplot as plt\n",
    "\n",
    "from tensorflow import keras\n",
    "import tensorflow as tf\n",
    "#tf.config.experimental.set_memory_growth(tf.config.list_physical_devices('GPU')[0], True)\n",
    "\n",
    "import warnings\n",
    "warnings.filterwarnings('ignore')"
   ]
  },
  {
   "cell_type": "markdown",
   "id": "bff3645d-2a16-443f-b50b-4a7f7f75be93",
   "metadata": {},
   "source": [
    "## Read File"
   ]
  },
  {
   "cell_type": "code",
   "execution_count": 2,
   "id": "3ac52981-05da-427e-9715-d0083d0f25ef",
   "metadata": {},
   "outputs": [],
   "source": [
    "import pandas as pd\n",
    "data = pd.read_csv(\"Causaly_small.csv\")\n",
    "\n",
    "#expanding the dispay of text sms column\n",
    "pd.set_option('display.max_colwidth', -1)"
   ]
  },
  {
   "cell_type": "code",
   "execution_count": 3,
   "id": "84686528-fbee-43f5-932d-5a136664f48c",
   "metadata": {},
   "outputs": [
    {
     "data": {
      "text/html": [
       "<div>\n",
       "<style scoped>\n",
       "    .dataframe tbody tr th:only-of-type {\n",
       "        vertical-align: middle;\n",
       "    }\n",
       "\n",
       "    .dataframe tbody tr th {\n",
       "        vertical-align: top;\n",
       "    }\n",
       "\n",
       "    .dataframe thead th {\n",
       "        text-align: right;\n",
       "    }\n",
       "</style>\n",
       "<table border=\"1\" class=\"dataframe\">\n",
       "  <thead>\n",
       "    <tr style=\"text-align: right;\">\n",
       "      <th></th>\n",
       "      <th>Sentence</th>\n",
       "      <th>Annotated_Causal</th>\n",
       "    </tr>\n",
       "  </thead>\n",
       "  <tbody>\n",
       "    <tr>\n",
       "      <th>0</th>\n",
       "      <td>Results indicated that boys with ADHD , relative to typically developing boys , exhibited greater motor activity across tasks , and both groups activity was greater during EF tasks relative to control tasks .</td>\n",
       "      <td>1</td>\n",
       "    </tr>\n",
       "    <tr>\n",
       "      <th>1</th>\n",
       "      <td>Ticagrelor appears to provide higher value for patients in several recognized high-risk subgroups .</td>\n",
       "      <td>0</td>\n",
       "    </tr>\n",
       "    <tr>\n",
       "      <th>2</th>\n",
       "      <td>Whatever the mechanism , active smoking is an important modifiable factor that seems to be associated with a poor response to MTX .</td>\n",
       "      <td>1</td>\n",
       "    </tr>\n",
       "    <tr>\n",
       "      <th>3</th>\n",
       "      <td>In this study , we examined whether use of an acellular scaffold treated with the small molecule Smoothened agonist could aid in critical-size mouse calvarial defect repair .</td>\n",
       "      <td>0</td>\n",
       "    </tr>\n",
       "    <tr>\n",
       "      <th>4</th>\n",
       "      <td>Using causal inference testing , we searched causal variants across eight cardiometabolic traits and identified several cis-eGenes that were causal mediators for the corresponding traits , as well as examples of trans-mediators .</td>\n",
       "      <td>0</td>\n",
       "    </tr>\n",
       "    <tr>\n",
       "      <th>...</th>\n",
       "      <td>...</td>\n",
       "      <td>...</td>\n",
       "    </tr>\n",
       "    <tr>\n",
       "      <th>1995</th>\n",
       "      <td>The obstacle of getting older men to undergo circumcision may also be associated with working schedules that may disclose one 's circumcision status .</td>\n",
       "      <td>1</td>\n",
       "    </tr>\n",
       "    <tr>\n",
       "      <th>1996</th>\n",
       "      <td>It could also clearly detect differences in SD rates of three monotherapy groups : patients treated with risperidone had the highest scores , followed by patients treated with olanzapine , whereas patients treated with aripiprazole had the lowest scores .</td>\n",
       "      <td>0</td>\n",
       "    </tr>\n",
       "    <tr>\n",
       "      <th>1997</th>\n",
       "      <td>These results in part explain the impairment of host-defense mechanisms seen in the perioperative period .</td>\n",
       "      <td>0</td>\n",
       "    </tr>\n",
       "    <tr>\n",
       "      <th>1998</th>\n",
       "      <td>Modern research makes frequent use of animal models , that is , organisms raised and bred experimentally in order to help the understanding of biological and chemical processes affecting organisms or whole environments .</td>\n",
       "      <td>0</td>\n",
       "    </tr>\n",
       "    <tr>\n",
       "      <th>1999</th>\n",
       "      <td>Vaccination rates for influenza , pneumococcus , and zoster in patients with rheumatoid arthritis have remained low .</td>\n",
       "      <td>0</td>\n",
       "    </tr>\n",
       "  </tbody>\n",
       "</table>\n",
       "<p>2000 rows × 2 columns</p>\n",
       "</div>"
      ],
      "text/plain": [
       "                                                                                                                                                                                                                                                             Sentence  \\\n",
       "0     Results indicated that boys with ADHD , relative to typically developing boys , exhibited greater motor activity across tasks , and both groups activity was greater during EF tasks relative to control tasks .                                                  \n",
       "1     Ticagrelor appears to provide higher value for patients in several recognized high-risk subgroups .                                                                                                                                                               \n",
       "2     Whatever the mechanism , active smoking is an important modifiable factor that seems to be associated with a poor response to MTX .                                                                                                                               \n",
       "3     In this study , we examined whether use of an acellular scaffold treated with the small molecule Smoothened agonist could aid in critical-size mouse calvarial defect repair .                                                                                    \n",
       "4     Using causal inference testing , we searched causal variants across eight cardiometabolic traits and identified several cis-eGenes that were causal mediators for the corresponding traits , as well as examples of trans-mediators .                             \n",
       "...                                                                                                                                                                                                                                     ...                             \n",
       "1995  The obstacle of getting older men to undergo circumcision may also be associated with working schedules that may disclose one 's circumcision status .                                                                                                            \n",
       "1996  It could also clearly detect differences in SD rates of three monotherapy groups : patients treated with risperidone had the highest scores , followed by patients treated with olanzapine , whereas patients treated with aripiprazole had the lowest scores .   \n",
       "1997  These results in part explain the impairment of host-defense mechanisms seen in the perioperative period .                                                                                                                                                        \n",
       "1998  Modern research makes frequent use of animal models , that is , organisms raised and bred experimentally in order to help the understanding of biological and chemical processes affecting organisms or whole environments .                                      \n",
       "1999  Vaccination rates for influenza , pneumococcus , and zoster in patients with rheumatoid arthritis have remained low .                                                                                                                                             \n",
       "\n",
       "      Annotated_Causal  \n",
       "0     1                 \n",
       "1     0                 \n",
       "2     1                 \n",
       "3     0                 \n",
       "4     0                 \n",
       "...  ..                 \n",
       "1995  1                 \n",
       "1996  0                 \n",
       "1997  0                 \n",
       "1998  0                 \n",
       "1999  0                 \n",
       "\n",
       "[2000 rows x 2 columns]"
      ]
     },
     "execution_count": 3,
     "metadata": {},
     "output_type": "execute_result"
    }
   ],
   "source": [
    "#Print the dataframe\n",
    "data"
   ]
  },
  {
   "cell_type": "markdown",
   "id": "b62d3708-f85e-4499-91af-c0471b62e6f8",
   "metadata": {},
   "source": [
    "## Exploratory Data Analysis"
   ]
  },
  {
   "cell_type": "code",
   "execution_count": 4,
   "id": "ea802975-04ea-4d25-bd17-fb9532db1e85",
   "metadata": {},
   "outputs": [
    {
     "name": "stdout",
     "output_type": "stream",
     "text": [
      "The percentage of Missing Values in each column is given by:\n"
     ]
    },
    {
     "data": {
      "text/plain": [
       "Sentence            0.0\n",
       "Annotated_Causal    0.0\n",
       "dtype: float64"
      ]
     },
     "execution_count": 4,
     "metadata": {},
     "output_type": "execute_result"
    }
   ],
   "source": [
    "#Missing values\n",
    "\n",
    "print(\"The percentage of Missing Values in each column is given by:\")\n",
    "data.isna().sum()/len(data)*100"
   ]
  },
  {
   "cell_type": "code",
   "execution_count": 5,
   "id": "458db98d-5897-4250-a545-c2f05a54ca09",
   "metadata": {},
   "outputs": [
    {
     "name": "stdout",
     "output_type": "stream",
     "text": [
      "Number of unique values in keyword = 2000\n",
      "Number of unique values in location = 2\n"
     ]
    }
   ],
   "source": [
    "#Unique values\n",
    "\n",
    "print(f'Number of unique values in keyword = {data[\"Sentence\"].nunique()}' )\n",
    "print(f'Number of unique values in location = {data[\"Annotated_Causal\"].nunique()}')"
   ]
  },
  {
   "cell_type": "code",
   "execution_count": 6,
   "id": "070dd505-a6ca-474d-bfc0-e838dfc13fa5",
   "metadata": {},
   "outputs": [
    {
     "data": {
      "image/png": "[encoded data removed]",
      "text/plain": [
       "<Figure size 680x340 with 2 Axes>"
      ]
     },
     "metadata": {
      "needs_background": "light"
     },
     "output_type": "display_data"
    }
   ],
   "source": [
    "import seaborn as sns\n",
    "\n",
    "fig, axes = plt.subplots(ncols=2, figsize=(8, 4), dpi=85)\n",
    "plt.tight_layout()\n",
    "\n",
    "data.groupby('Annotated_Causal').count()['Sentence'].plot(kind='pie', ax=axes[0], labels=['Not Causal', 'Causal'])\n",
    "sns.countplot(x=data['Annotated_Causal'], hue=data['Annotated_Causal'], ax=axes[1])\n",
    "\n",
    "axes[0].set_ylabel('')\n",
    "axes[1].set_ylabel('')\n",
    "axes[1].set_xticklabels(['Not Causal', 'Causal'])\n",
    "axes[0].tick_params(axis='x', labelsize=15)\n",
    "axes[0].tick_params(axis='y', labelsize=15)\n",
    "axes[1].tick_params(axis='x', labelsize=15)\n",
    "axes[1].tick_params(axis='y', labelsize=15)\n",
    "\n",
    "axes[0].set_title('Annotated_Causal Distribution in Training Set', fontsize=13)\n",
    "axes[1].set_title('Annotated_Causal Count in Training Set', fontsize=13)\n",
    "\n",
    "plt.show()"
   ]
  },
  {
   "cell_type": "markdown",
   "id": "118a2485-963d-4768-946a-c6432155ece9",
   "metadata": {},
   "source": [
    "## Bert Models"
   ]
  },
  {
   "cell_type": "code",
   "execution_count": 26,
   "id": "72e7767e-7409-4e47-bd1f-e5e3ba8b89d4",
   "metadata": {},
   "outputs": [
    {
     "name": "stdout",
     "output_type": "stream",
     "text": [
      "Available Pretrained Models:\n",
      "bert_en_uncased_L-12_H-768_A-12\n",
      "bert_en_cased_L-12_H-768_A-12\n",
      "bert_multi_cased_L-12_H-768_A-12\n",
      "small_bert/bert_en_uncased_L-2_H-128_A-2\n",
      "small_bert/bert_en_uncased_L-2_H-256_A-4\n",
      "small_bert/bert_en_uncased_L-2_H-512_A-8\n",
      "small_bert/bert_en_uncased_L-2_H-768_A-12\n",
      "small_bert/bert_en_uncased_L-4_H-128_A-2\n",
      "small_bert/bert_en_uncased_L-4_H-256_A-4\n",
      "small_bert/bert_en_uncased_L-4_H-512_A-8\n",
      "small_bert/bert_en_uncased_L-4_H-768_A-12\n",
      "small_bert/bert_en_uncased_L-6_H-128_A-2\n",
      "small_bert/bert_en_uncased_L-6_H-256_A-4\n",
      "small_bert/bert_en_uncased_L-6_H-512_A-8\n",
      "small_bert/bert_en_uncased_L-6_H-768_A-12\n",
      "small_bert/bert_en_uncased_L-8_H-128_A-2\n",
      "small_bert/bert_en_uncased_L-8_H-256_A-4\n",
      "small_bert/bert_en_uncased_L-8_H-512_A-8\n",
      "small_bert/bert_en_uncased_L-8_H-768_A-12\n",
      "small_bert/bert_en_uncased_L-10_H-128_A-2\n",
      "small_bert/bert_en_uncased_L-10_H-256_A-4\n",
      "small_bert/bert_en_uncased_L-10_H-512_A-8\n",
      "small_bert/bert_en_uncased_L-10_H-768_A-12\n",
      "small_bert/bert_en_uncased_L-12_H-128_A-2\n",
      "small_bert/bert_en_uncased_L-12_H-256_A-4\n",
      "small_bert/bert_en_uncased_L-12_H-512_A-8\n",
      "small_bert/bert_en_uncased_L-12_H-768_A-12\n",
      "albert_en_base\n",
      "electra_small\n",
      "electra_base\n",
      "experts_pubmed\n",
      "experts_wiki_books\n",
      "talking-heads_base\n"
     ]
    }
   ],
   "source": [
    "map_name_to_handle = {\n",
    "    'bert_en_uncased_L-12_H-768_A-12':\n",
    "        'https://tfhub.dev/tensorflow/bert_en_uncased_L-12_H-768_A-12/4',\n",
    "    'bert_en_cased_L-12_H-768_A-12':\n",
    "        'https://tfhub.dev/tensorflow/bert_en_cased_L-12_H-768_A-12/4',\n",
    "    'bert_multi_cased_L-12_H-768_A-12':\n",
    "        'https://tfhub.dev/tensorflow/bert_multi_cased_L-12_H-768_A-12/4',\n",
    "    'small_bert/bert_en_uncased_L-2_H-128_A-2':\n",
    "        'https://tfhub.dev/tensorflow/small_bert/bert_en_uncased_L-2_H-128_A-2/1',\n",
    "    'small_bert/bert_en_uncased_L-2_H-256_A-4':\n",
    "        'https://tfhub.dev/tensorflow/small_bert/bert_en_uncased_L-2_H-256_A-4/1',\n",
    "    'small_bert/bert_en_uncased_L-2_H-512_A-8':\n",
    "        'https://tfhub.dev/tensorflow/small_bert/bert_en_uncased_L-2_H-512_A-8/1',\n",
    "    'small_bert/bert_en_uncased_L-2_H-768_A-12':\n",
    "        'https://tfhub.dev/tensorflow/small_bert/bert_en_uncased_L-2_H-768_A-12/1',\n",
    "    'small_bert/bert_en_uncased_L-4_H-128_A-2':\n",
    "        'https://tfhub.dev/tensorflow/small_bert/bert_en_uncased_L-4_H-128_A-2/1',\n",
    "    'small_bert/bert_en_uncased_L-4_H-256_A-4':\n",
    "        'https://tfhub.dev/tensorflow/small_bert/bert_en_uncased_L-4_H-256_A-4/1',\n",
    "    'small_bert/bert_en_uncased_L-4_H-512_A-8':\n",
    "        'https://tfhub.dev/tensorflow/small_bert/bert_en_uncased_L-4_H-512_A-8/1',\n",
    "    'small_bert/bert_en_uncased_L-4_H-768_A-12':\n",
    "        'https://tfhub.dev/tensorflow/small_bert/bert_en_uncased_L-4_H-768_A-12/1',\n",
    "    'small_bert/bert_en_uncased_L-6_H-128_A-2':\n",
    "        'https://tfhub.dev/tensorflow/small_bert/bert_en_uncased_L-6_H-128_A-2/1',\n",
    "    'small_bert/bert_en_uncased_L-6_H-256_A-4':\n",
    "        'https://tfhub.dev/tensorflow/small_bert/bert_en_uncased_L-6_H-256_A-4/1',\n",
    "    'small_bert/bert_en_uncased_L-6_H-512_A-8':\n",
    "        'https://tfhub.dev/tensorflow/small_bert/bert_en_uncased_L-6_H-512_A-8/1',\n",
    "    'small_bert/bert_en_uncased_L-6_H-768_A-12':\n",
    "        'https://tfhub.dev/tensorflow/small_bert/bert_en_uncased_L-6_H-768_A-12/1',\n",
    "    'small_bert/bert_en_uncased_L-8_H-128_A-2':\n",
    "        'https://tfhub.dev/tensorflow/small_bert/bert_en_uncased_L-8_H-128_A-2/1',\n",
    "    'small_bert/bert_en_uncased_L-8_H-256_A-4':\n",
    "        'https://tfhub.dev/tensorflow/small_bert/bert_en_uncased_L-8_H-256_A-4/1',\n",
    "    'small_bert/bert_en_uncased_L-8_H-512_A-8':\n",
    "        'https://tfhub.dev/tensorflow/small_bert/bert_en_uncased_L-8_H-512_A-8/1',\n",
    "    'small_bert/bert_en_uncased_L-8_H-768_A-12':\n",
    "        'https://tfhub.dev/tensorflow/small_bert/bert_en_uncased_L-8_H-768_A-12/1',\n",
    "    'small_bert/bert_en_uncased_L-10_H-128_A-2':\n",
    "        'https://tfhub.dev/tensorflow/small_bert/bert_en_uncased_L-10_H-128_A-2/1',\n",
    "    'small_bert/bert_en_uncased_L-10_H-256_A-4':\n",
    "        'https://tfhub.dev/tensorflow/small_bert/bert_en_uncased_L-10_H-256_A-4/1',\n",
    "    'small_bert/bert_en_uncased_L-10_H-512_A-8':\n",
    "        'https://tfhub.dev/tensorflow/small_bert/bert_en_uncased_L-10_H-512_A-8/1',\n",
    "    'small_bert/bert_en_uncased_L-10_H-768_A-12':\n",
    "        'https://tfhub.dev/tensorflow/small_bert/bert_en_uncased_L-10_H-768_A-12/1',\n",
    "    'small_bert/bert_en_uncased_L-12_H-128_A-2':\n",
    "        'https://tfhub.dev/tensorflow/small_bert/bert_en_uncased_L-12_H-128_A-2/1',\n",
    "    'small_bert/bert_en_uncased_L-12_H-256_A-4':\n",
    "        'https://tfhub.dev/tensorflow/small_bert/bert_en_uncased_L-12_H-256_A-4/1',\n",
    "    'small_bert/bert_en_uncased_L-12_H-512_A-8':\n",
    "        'https://tfhub.dev/tensorflow/small_bert/bert_en_uncased_L-12_H-512_A-8/1',\n",
    "    'small_bert/bert_en_uncased_L-12_H-768_A-12':\n",
    "        'https://tfhub.dev/tensorflow/small_bert/bert_en_uncased_L-12_H-768_A-12/2',\n",
    "    'albert_en_base':\n",
    "        'https://tfhub.dev/tensorflow/albert_en_base/2',\n",
    "    'electra_small':\n",
    "        'https://tfhub.dev/google/electra_small/2',\n",
    "    'electra_base':\n",
    "        'https://tfhub.dev/google/electra_base/2',\n",
    "    'experts_pubmed':\n",
    "        'https://tfhub.dev/google/experts/bert/pubmed/2',\n",
    "    'experts_wiki_books':\n",
    "        'https://tfhub.dev/google/experts/bert/wiki_books/2',\n",
    "    'talking-heads_base':\n",
    "        'https://tfhub.dev/tensorflow/talkheads_ggelu_bert_en_base/1',\n",
    "}\n",
    "\n",
    "map_model_to_preprocess = {\n",
    "    'bert_en_uncased_L-12_H-768_A-12':\n",
    "        'https://tfhub.dev/tensorflow/bert_en_uncased_preprocess/3',\n",
    "    'bert_en_cased_L-12_H-768_A-12':\n",
    "        'https://tfhub.dev/tensorflow/bert_en_cased_preprocess/3',\n",
    "    'small_bert/bert_en_uncased_L-2_H-128_A-2':\n",
    "        'https://tfhub.dev/tensorflow/bert_en_uncased_preprocess/3',\n",
    "    'small_bert/bert_en_uncased_L-2_H-256_A-4':\n",
    "        'https://tfhub.dev/tensorflow/bert_en_uncased_preprocess/3',\n",
    "    'small_bert/bert_en_uncased_L-2_H-512_A-8':\n",
    "        'https://tfhub.dev/tensorflow/bert_en_uncased_preprocess/3',\n",
    "    'small_bert/bert_en_uncased_L-2_H-768_A-12':\n",
    "        'https://tfhub.dev/tensorflow/bert_en_uncased_preprocess/3',\n",
    "    'small_bert/bert_en_uncased_L-4_H-128_A-2':\n",
    "        'https://tfhub.dev/tensorflow/bert_en_uncased_preprocess/3',\n",
    "    'small_bert/bert_en_uncased_L-4_H-256_A-4':\n",
    "        'https://tfhub.dev/tensorflow/bert_en_uncased_preprocess/3',\n",
    "    'small_bert/bert_en_uncased_L-4_H-512_A-8':\n",
    "        'https://tfhub.dev/tensorflow/bert_en_uncased_preprocess/3',\n",
    "    'small_bert/bert_en_uncased_L-4_H-768_A-12':\n",
    "        'https://tfhub.dev/tensorflow/bert_en_uncased_preprocess/3',\n",
    "    'small_bert/bert_en_uncased_L-6_H-128_A-2':\n",
    "        'https://tfhub.dev/tensorflow/bert_en_uncased_preprocess/3',\n",
    "    'small_bert/bert_en_uncased_L-6_H-256_A-4':\n",
    "        'https://tfhub.dev/tensorflow/bert_en_uncased_preprocess/3',\n",
    "    'small_bert/bert_en_uncased_L-6_H-512_A-8':\n",
    "        'https://tfhub.dev/tensorflow/bert_en_uncased_preprocess/3',\n",
    "    'small_bert/bert_en_uncased_L-6_H-768_A-12':\n",
    "        'https://tfhub.dev/tensorflow/bert_en_uncased_preprocess/3',\n",
    "    'small_bert/bert_en_uncased_L-8_H-128_A-2':\n",
    "        'https://tfhub.dev/tensorflow/bert_en_uncased_preprocess/3',\n",
    "    'small_bert/bert_en_uncased_L-8_H-256_A-4':\n",
    "        'https://tfhub.dev/tensorflow/bert_en_uncased_preprocess/3',\n",
    "    'small_bert/bert_en_uncased_L-8_H-512_A-8':\n",
    "        'https://tfhub.dev/tensorflow/bert_en_uncased_preprocess/3',\n",
    "    'small_bert/bert_en_uncased_L-8_H-768_A-12':\n",
    "        'https://tfhub.dev/tensorflow/bert_en_uncased_preprocess/3',\n",
    "    'small_bert/bert_en_uncased_L-10_H-128_A-2':\n",
    "        'https://tfhub.dev/tensorflow/bert_en_uncased_preprocess/3',\n",
    "    'small_bert/bert_en_uncased_L-10_H-256_A-4':\n",
    "        'https://tfhub.dev/tensorflow/bert_en_uncased_preprocess/3',\n",
    "    'small_bert/bert_en_uncased_L-10_H-512_A-8':\n",
    "        'https://tfhub.dev/tensorflow/bert_en_uncased_preprocess/3',\n",
    "    'small_bert/bert_en_uncased_L-10_H-768_A-12':\n",
    "        'https://tfhub.dev/tensorflow/bert_en_uncased_preprocess/3',\n",
    "    'small_bert/bert_en_uncased_L-12_H-128_A-2':\n",
    "        'https://tfhub.dev/tensorflow/bert_en_uncased_preprocess/3',\n",
    "    'small_bert/bert_en_uncased_L-12_H-256_A-4':\n",
    "        'https://tfhub.dev/tensorflow/bert_en_uncased_preprocess/3',\n",
    "    'small_bert/bert_en_uncased_L-12_H-512_A-8':\n",
    "        'https://tfhub.dev/tensorflow/bert_en_uncased_preprocess/3',\n",
    "    'small_bert/bert_en_uncased_L-12_H-768_A-12':\n",
    "        'https://tfhub.dev/tensorflow/bert_en_uncased_preprocess/3',\n",
    "    'bert_multi_cased_L-12_H-768_A-12':\n",
    "        'https://tfhub.dev/tensorflow/bert_multi_cased_preprocess/3',\n",
    "    'albert_en_base':\n",
    "        'https://tfhub.dev/tensorflow/albert_en_preprocess/3',\n",
    "    'electra_small':\n",
    "        'https://tfhub.dev/tensorflow/bert_en_uncased_preprocess/3',\n",
    "    'electra_base':\n",
    "        'https://tfhub.dev/tensorflow/bert_en_uncased_preprocess/3',\n",
    "    'experts_pubmed':\n",
    "        'https://tfhub.dev/tensorflow/bert_en_uncased_preprocess/3',\n",
    "    'experts_wiki_books':\n",
    "        'https://tfhub.dev/tensorflow/bert_en_uncased_preprocess/3',\n",
    "    'talking-heads_base':\n",
    "        'https://tfhub.dev/tensorflow/bert_en_uncased_preprocess/3',\n",
    "}\n",
    "\n",
    "print('Available Pretrained Models:',*list(map_name_to_handle.keys()), sep = \"\\n\")"
   ]
  },
  {
   "cell_type": "code",
   "execution_count": 27,
   "id": "c08606f5-5304-46af-ab72-52e4d89caefa",
   "metadata": {},
   "outputs": [
    {
     "name": "stdout",
     "output_type": "stream",
     "text": [
      "BERT model selected           : https://tfhub.dev/tensorflow/small_bert/bert_en_uncased_L-12_H-768_A-12/2\n",
      "Preprocess model auto-selected: https://tfhub.dev/tensorflow/bert_en_uncased_preprocess/3\n"
     ]
    }
   ],
   "source": [
    "import tensorflow as tf\n",
    "import tensorflow_hub as hub\n",
    "import tensorflow_text as text\n",
    "\n",
    "# Choose the Model\n",
    "bert_model_name = 'small_bert/bert_en_uncased_L-12_H-768_A-12' \n",
    "\n",
    "tfhub_handle_encoder = map_name_to_handle[bert_model_name]\n",
    "tfhub_handle_preprocess = map_model_to_preprocess[bert_model_name]\n",
    "\n",
    "print(f'BERT model selected           : {tfhub_handle_encoder}')\n",
    "print(f'Preprocess model auto-selected: {tfhub_handle_preprocess}')\n",
    "\n",
    "#tf.compat.v1.disable_eager_execution()\n",
    "bert_preprocess = hub.KerasLayer(tfhub_handle_preprocess, name='preprocess', trainable=False)\n",
    "bert_encoder = hub.KerasLayer(tfhub_handle_encoder, name='encoder', trainable=False)"
   ]
  },
  {
   "cell_type": "markdown",
   "id": "933e3247-ec77-4646-953e-19efc4f52c0d",
   "metadata": {},
   "source": [
    "## Feature Extraction"
   ]
  },
  {
   "cell_type": "code",
   "execution_count": 9,
   "id": "e8b96210-2bdf-4047-b76f-ee531e3ed7b8",
   "metadata": {
    "scrolled": true,
    "tags": []
   },
   "outputs": [
    {
     "name": "stderr",
     "output_type": "stream",
     "text": [
      "100%|██████████████████████████████████████████████████████████████████████████████| 2000/2000 [08:22<00:00,  3.98it/s]\n"
     ]
    }
   ],
   "source": [
    "from tqdm import tqdm\n",
    "features = []\n",
    "for i in tqdm(data['Sentence']):\n",
    "    bert_results = bert_encoder(bert_preprocess([i]))\n",
    "    features.append(bert_results[\"pooled_output\"].numpy())\n",
    "features = np.array(features)"
   ]
  },
  {
   "cell_type": "code",
   "execution_count": 14,
   "id": "c795db4a-7f00-48f4-b44b-e0d79438295c",
   "metadata": {},
   "outputs": [
    {
     "data": {
      "text/plain": [
       "(2000, 768)"
      ]
     },
     "execution_count": 14,
     "metadata": {},
     "output_type": "execute_result"
    }
   ],
   "source": [
    "#Saving features\n",
    "features = features.reshape(len(data),768)\n",
    "np.save('bert-features',features)\n",
    "features.shape"
   ]
  },
  {
   "cell_type": "markdown",
   "id": "1e6dc618-eed8-40b3-b906-ed53184bf236",
   "metadata": {},
   "source": [
    "---"
   ]
  },
  {
   "cell_type": "markdown",
   "id": "3336aa72-a53d-47cf-8557-7d14596a5e38",
   "metadata": {},
   "source": [
    "# **Transfer Learning Approches**\n",
    "restart the kernel for faster run-time as features are extracted from bert transformer and saved"
   ]
  },
  {
   "cell_type": "code",
   "execution_count": 1,
   "id": "c8c071ca-ed2b-4571-b36b-14b6926a5616",
   "metadata": {},
   "outputs": [],
   "source": [
    "import numpy as np\n",
    "import warnings\n",
    "warnings.filterwarnings('ignore')\n",
    "\n",
    "# loading bert-features\n",
    "x = np.load('bert-features.npy')\n",
    "\n",
    "import pandas as pd\n",
    "data = pd.read_csv(\"Causaly_small.csv\")\n",
    "y = data['Annotated_Causal'].to_numpy()"
   ]
  },
  {
   "cell_type": "markdown",
   "id": "50a0889c-d629-4ead-93bc-b79357fd95e4",
   "metadata": {},
   "source": [
    "## Train/Test/Validation Data-Split"
   ]
  },
  {
   "cell_type": "code",
   "execution_count": 2,
   "id": "f292000c-17a2-4cd0-bef0-48e2a115be34",
   "metadata": {
    "tags": []
   },
   "outputs": [],
   "source": [
    "from sklearn.model_selection import train_test_split\n",
    "import matplotlib.pyplot as plt\n",
    "\n",
    "# split train dataset into train, validation and test sets\n",
    "train_features, test_features, train_labels, test_labels = train_test_split(x, y,\n",
    "                                                                            random_state=2022, \n",
    "                                                                            test_size=0.2, \n",
    "                                                                            stratify=y)\n",
    "\n",
    "class_names = ['Not Causal','Causal']"
   ]
  },
  {
   "cell_type": "markdown",
   "id": "349faad5-3133-488a-8baa-1b16842c9130",
   "metadata": {},
   "source": [
    "---\n",
    "## 1--> ML models with Hyper-parameter tuning\n",
    "\n",
    "---\n",
    "### *Searching for the best model*\n",
    "These above features-data is given as inputs for ML-Classifiers and best out them is found"
   ]
  },
  {
   "cell_type": "code",
   "execution_count": 3,
   "id": "d9c42c27-4a08-47c1-8e3f-86dbd88188b2",
   "metadata": {},
   "outputs": [],
   "source": [
    "from sklearn.naive_bayes import GaussianNB\n",
    "from sklearn.cluster import KMeans\n",
    "from sklearn.neural_network import MLPClassifier\n",
    "from sklearn.gaussian_process import GaussianProcessClassifier\n",
    "from sklearn.linear_model import LogisticRegression, SGDClassifier\n",
    "from sklearn.tree import DecisionTreeClassifier\n",
    "from sklearn.neighbors import KNeighborsClassifier\n",
    "from sklearn.ensemble import RandomForestClassifier, AdaBoostClassifier\n",
    "from sklearn.svm import SVC\n",
    "from sklearn.ensemble import GradientBoostingClassifier\n",
    "from sklearn.discriminant_analysis import QuadraticDiscriminantAnalysis\n",
    "from xgboost import XGBClassifier\n",
    "from lightgbm import LGBMClassifier\n",
    "from catboost import CatBoostClassifier\n",
    "\n",
    "names = [\"Linear SVM\", \"Poly SVM\", \"RBF SVM\", \"Sig SVM\", \"lbfgs Log-Reg\", \n",
    "         \"saga Log-Reg\", \"SGD\", \"Naive Bayes\",\"KMeans\", \"Gaussian Process\", \n",
    "         \"Decision Tree\", \"Random Forest\", \"KNN\", \"Neural Net\", \"AdaBoost\", \n",
    "         \"GradientBoost\", \"QDA\", \"LGBM\", \"XGB\", \"CatBoost\"]\n",
    "\n",
    "classifiers = [SVC(kernel='linear',max_iter=10000), SVC(kernel='poly',max_iter=10000), \n",
    "               SVC(kernel='rbf',max_iter=10000), SVC(kernel='sigmoid',max_iter=10000),\n",
    "               LogisticRegression(solver='lbfgs'), LogisticRegression(solver='saga'), SGDClassifier(), \n",
    "               GaussianNB(), KMeans(n_clusters=len(class_names)), GaussianProcessClassifier(), \n",
    "               DecisionTreeClassifier(max_depth=25), RandomForestClassifier(max_depth=25), KNeighborsClassifier(), \n",
    "               MLPClassifier(max_iter=2500,early_stopping=True), AdaBoostClassifier(), \n",
    "               GradientBoostingClassifier(max_depth=15), QuadraticDiscriminantAnalysis(),\n",
    "               LGBMClassifier(), XGBClassifier(), CatBoostClassifier(iterations=150,learning_rate=0.1,silent=True)]"
   ]
  },
  {
   "cell_type": "code",
   "execution_count": 4,
   "id": "955c6406-a82a-40c1-9df5-7f144eb5c5ca",
   "metadata": {
    "scrolled": true,
    "tags": []
   },
   "outputs": [],
   "source": [
    "from sklearn.metrics import accuracy_score, confusion_matrix, classification_report\n",
    "import time\n",
    "\n",
    "def runML():\n",
    "    for i in range(len(class_names)):\n",
    "        print(\"CLASS -\",i,\"-->\",class_names[i])\n",
    "\n",
    "    fig = plt.figure(figsize=(18,14))\n",
    "    fig.tight_layout()\n",
    "    nof_clsfrs = len(names)\n",
    "    Metrics = {}\n",
    "    \n",
    "    print('\\nClassification Report for each Classifier:')\n",
    "    for i in range(nof_clsfrs):\n",
    "        metric = []\n",
    "        classifier = classifiers[i]\n",
    "        plt.subplot(nof_clsfrs/5,5,i+1)\n",
    "        plt.xticks([])\n",
    "        plt.yticks([])\n",
    "    \n",
    "        print(f'\\n\\nClassifier: {str(classifier)[0:25]}...')\n",
    "        if 'KMeans' in str(classifier):\n",
    "            # for KMeans, we use the entire features data as it unsupervised\n",
    "            start_time = time.time(); classifier.fit(x, y); metric.append(time.time() - start_time);\n",
    "            metric.append(metric[-1]) # test run time is same\n",
    "        else:\n",
    "            start_time = time.time(); classifier.fit(train_features, train_labels); metric.append(time.time() - start_time); \n",
    "            start_time = time.time(); test_pred = classifier.predict(test_features); metric.append(time.time() - start_time);\n",
    "        acc = accuracy_score(test_labels,test_pred) *100; metric.append(acc);\n",
    "        Metrics[names[i]] = metric\n",
    "        #print(f'Accuracy  is {acc}%, Report:')\n",
    "        print(classification_report(test_labels, test_pred))\n",
    "    \n",
    "        plt.gca().set_title(names[i])\n",
    "        CM = confusion_matrix(test_labels, test_pred)\n",
    "        plt.imshow(CM,interpolation='nearest',cmap='summer')\n",
    "        for (i, j), z in np.ndenumerate(CM):\n",
    "            plt.text(j, i, z, ha='center', va='center')\n",
    "        plt.xticks(np.arange(len(class_names)),class_names, fontsize=8)\n",
    "        plt.yticks(np.arange(len(class_names)))\n",
    "        plt.grid(False)\n",
    "    plt.show()\n",
    "    return Metrics"
   ]
  },
  {
   "cell_type": "markdown",
   "id": "c496c5b8-3dbe-4198-885b-249071f50503",
   "metadata": {},
   "source": [
    "#### *Fitting and Ploting results*"
   ]
  },
  {
   "cell_type": "code",
   "execution_count": 5,
   "id": "d3051b5c-0b25-4153-b3ec-782898600fcd",
   "metadata": {
    "scrolled": true,
    "tags": []
   },
   "outputs": [
    {
     "name": "stdout",
     "output_type": "stream",
     "text": [
      "CLASS - 0 --> Not Causal\n",
      "CLASS - 1 --> Causal\n",
      "\n",
      "Classification Report for each Classifier:\n",
      "\n",
      "\n",
      "Classifier: SVC(kernel='linear', max_...\n",
      "              precision    recall  f1-score   support\n",
      "\n",
      "           0       0.73      0.71      0.72       177\n",
      "           1       0.77      0.79      0.78       223\n",
      "\n",
      "    accuracy                           0.75       400\n",
      "   macro avg       0.75      0.75      0.75       400\n",
      "weighted avg       0.75      0.75      0.75       400\n",
      "\n",
      "\n",
      "\n",
      "Classifier: SVC(kernel='poly', max_it...\n",
      "              precision    recall  f1-score   support\n",
      "\n",
      "           0       0.73      0.63      0.68       177\n",
      "           1       0.74      0.82      0.77       223\n",
      "\n",
      "    accuracy                           0.73       400\n",
      "   macro avg       0.73      0.72      0.73       400\n",
      "weighted avg       0.73      0.73      0.73       400\n",
      "\n",
      "\n",
      "\n",
      "Classifier: SVC(max_iter=10000)...\n",
      "              precision    recall  f1-score   support\n",
      "\n",
      "           0       0.74      0.60      0.66       177\n",
      "           1       0.73      0.83      0.77       223\n",
      "\n",
      "    accuracy                           0.73       400\n",
      "   macro avg       0.73      0.72      0.72       400\n",
      "weighted avg       0.73      0.73      0.73       400\n",
      "\n",
      "\n",
      "\n",
      "Classifier: SVC(kernel='sigmoid', max...\n",
      "              precision    recall  f1-score   support\n",
      "\n",
      "           0       0.72      0.59      0.65       177\n",
      "           1       0.71      0.82      0.76       223\n",
      "\n",
      "    accuracy                           0.72       400\n",
      "   macro avg       0.72      0.70      0.71       400\n",
      "weighted avg       0.72      0.72      0.71       400\n",
      "\n",
      "\n",
      "\n",
      "Classifier: LogisticRegression()...\n",
      "              precision    recall  f1-score   support\n",
      "\n",
      "           0       0.74      0.70      0.72       177\n",
      "           1       0.77      0.81      0.79       223\n",
      "\n",
      "    accuracy                           0.76       400\n",
      "   macro avg       0.76      0.75      0.76       400\n",
      "weighted avg       0.76      0.76      0.76       400\n",
      "\n",
      "\n",
      "\n",
      "Classifier: LogisticRegression(solver...\n",
      "              precision    recall  f1-score   support\n",
      "\n",
      "           0       0.73      0.69      0.71       177\n",
      "           1       0.77      0.79      0.78       223\n",
      "\n",
      "    accuracy                           0.75       400\n",
      "   macro avg       0.75      0.74      0.75       400\n",
      "weighted avg       0.75      0.75      0.75       400\n",
      "\n",
      "\n",
      "\n",
      "Classifier: SGDClassifier()...\n",
      "              precision    recall  f1-score   support\n",
      "\n",
      "           0       0.74      0.60      0.66       177\n",
      "           1       0.73      0.83      0.77       223\n",
      "\n",
      "    accuracy                           0.73       400\n",
      "   macro avg       0.73      0.72      0.72       400\n",
      "weighted avg       0.73      0.73      0.73       400\n",
      "\n",
      "\n",
      "\n",
      "Classifier: GaussianNB()...\n",
      "              precision    recall  f1-score   support\n",
      "\n",
      "           0       0.67      0.55      0.60       177\n",
      "           1       0.69      0.78      0.73       223\n",
      "\n",
      "    accuracy                           0.68       400\n",
      "   macro avg       0.68      0.67      0.67       400\n",
      "weighted avg       0.68      0.68      0.68       400\n",
      "\n",
      "\n",
      "\n",
      "Classifier: KMeans(n_clusters=2)...\n",
      "              precision    recall  f1-score   support\n",
      "\n",
      "           0       0.67      0.55      0.60       177\n",
      "           1       0.69      0.78      0.73       223\n",
      "\n",
      "    accuracy                           0.68       400\n",
      "   macro avg       0.68      0.67      0.67       400\n",
      "weighted avg       0.68      0.68      0.68       400\n",
      "\n",
      "\n",
      "\n",
      "Classifier: GaussianProcessClassifier...\n",
      "              precision    recall  f1-score   support\n",
      "\n",
      "           0       0.65      0.51      0.57       177\n",
      "           1       0.67      0.78      0.72       223\n",
      "\n",
      "    accuracy                           0.66       400\n",
      "   macro avg       0.66      0.65      0.65       400\n",
      "weighted avg       0.66      0.66      0.66       400\n",
      "\n",
      "\n",
      "\n",
      "Classifier: DecisionTreeClassifier(ma...\n",
      "              precision    recall  f1-score   support\n",
      "\n",
      "           0       0.58      0.55      0.56       177\n",
      "           1       0.66      0.69      0.67       223\n",
      "\n",
      "    accuracy                           0.62       400\n",
      "   macro avg       0.62      0.62      0.62       400\n",
      "weighted avg       0.62      0.62      0.62       400\n",
      "\n",
      "\n",
      "\n",
      "Classifier: RandomForestClassifier(ma...\n",
      "              precision    recall  f1-score   support\n",
      "\n",
      "           0       0.67      0.62      0.65       177\n",
      "           1       0.72      0.76      0.74       223\n",
      "\n",
      "    accuracy                           0.70       400\n",
      "   macro avg       0.69      0.69      0.69       400\n",
      "weighted avg       0.70      0.70      0.70       400\n",
      "\n",
      "\n",
      "\n",
      "Classifier: KNeighborsClassifier()...\n",
      "              precision    recall  f1-score   support\n",
      "\n",
      "           0       0.68      0.49      0.57       177\n",
      "           1       0.67      0.82      0.73       223\n",
      "\n",
      "    accuracy                           0.67       400\n",
      "   macro avg       0.67      0.65      0.65       400\n",
      "weighted avg       0.67      0.67      0.66       400\n",
      "\n",
      "\n",
      "\n",
      "Classifier: MLPClassifier(early_stopp...\n",
      "              precision    recall  f1-score   support\n",
      "\n",
      "           0       0.70      0.67      0.69       177\n",
      "           1       0.75      0.77      0.76       223\n",
      "\n",
      "    accuracy                           0.73       400\n",
      "   macro avg       0.72      0.72      0.72       400\n",
      "weighted avg       0.73      0.73      0.73       400\n",
      "\n",
      "\n",
      "\n",
      "Classifier: AdaBoostClassifier()...\n",
      "              precision    recall  f1-score   support\n",
      "\n",
      "           0       0.66      0.62      0.64       177\n",
      "           1       0.71      0.75      0.73       223\n",
      "\n",
      "    accuracy                           0.69       400\n",
      "   macro avg       0.69      0.69      0.69       400\n",
      "weighted avg       0.69      0.69      0.69       400\n",
      "\n",
      "\n",
      "\n",
      "Classifier: GradientBoostingClassifie...\n",
      "              precision    recall  f1-score   support\n",
      "\n",
      "           0       0.58      0.56      0.57       177\n",
      "           1       0.66      0.67      0.67       223\n",
      "\n",
      "    accuracy                           0.62       400\n",
      "   macro avg       0.62      0.62      0.62       400\n",
      "weighted avg       0.62      0.62      0.62       400\n",
      "\n",
      "\n",
      "\n",
      "Classifier: QuadraticDiscriminantAnal...\n",
      "              precision    recall  f1-score   support\n",
      "\n",
      "           0       1.00      0.01      0.01       177\n",
      "           1       0.56      1.00      0.72       223\n",
      "\n",
      "    accuracy                           0.56       400\n",
      "   macro avg       0.78      0.50      0.36       400\n",
      "weighted avg       0.75      0.56      0.40       400\n",
      "\n",
      "\n",
      "\n",
      "Classifier: LGBMClassifier()...\n",
      "              precision    recall  f1-score   support\n",
      "\n",
      "           0       0.69      0.64      0.66       177\n",
      "           1       0.73      0.78      0.75       223\n",
      "\n",
      "    accuracy                           0.71       400\n",
      "   macro avg       0.71      0.71      0.71       400\n",
      "weighted avg       0.71      0.71      0.71       400\n",
      "\n",
      "\n",
      "\n",
      "Classifier: XGBClassifier(base_score=...\n",
      "[16:36:52] WARNING: C:/Users/Administrator/workspace/xgboost-win64_release_1.5.1/src/learner.cc:1115: Starting in XGBoost 1.3.0, the default evaluation metric used with the objective 'binary:logistic' was changed from 'error' to 'logloss'. Explicitly set eval_metric if you'd like to restore the old behavior.\n",
      "              precision    recall  f1-score   support\n",
      "\n",
      "           0       0.71      0.64      0.67       177\n",
      "           1       0.73      0.79      0.76       223\n",
      "\n",
      "    accuracy                           0.72       400\n",
      "   macro avg       0.72      0.71      0.72       400\n",
      "weighted avg       0.72      0.72      0.72       400\n",
      "\n",
      "\n",
      "\n",
      "Classifier: <catboost.core.CatBoostCl...\n",
      "              precision    recall  f1-score   support\n",
      "\n",
      "           0       0.68      0.60      0.64       177\n",
      "           1       0.71      0.78      0.74       223\n",
      "\n",
      "    accuracy                           0.70       400\n",
      "   macro avg       0.70      0.69      0.69       400\n",
      "weighted avg       0.70      0.70      0.70       400\n",
      "\n"
     ]
    },
    {
     "data": {
      "image/png": "[encoded data removed]",
      "text/plain": [
       "<Figure size 1296x1008 with 20 Axes>"
      ]
     },
     "metadata": {
      "needs_background": "light"
     },
     "output_type": "display_data"
    }
   ],
   "source": [
    "Metrics = runML()"
   ]
  },
  {
   "cell_type": "code",
   "execution_count": 6,
   "id": "84a8adce-d095-4cc6-a666-f52214b1a716",
   "metadata": {},
   "outputs": [
    {
     "name": "stdout",
     "output_type": "stream",
     "text": [
      "\n",
      "Classifier for which max Accuracy is obtained:\n",
      "Training-time       0.156253\n",
      "Prediction-time     0.015624\n",
      "Accuracy           76.000000\n",
      "Name: lbfgs Log-Reg, dtype: float64\n",
      "\n",
      "\n",
      "Classifier for which min Training-time is obtained:\n",
      "Training-time       0.000000\n",
      "Prediction-time     0.046838\n",
      "Accuracy           67.000000\n",
      "Name: KNN, dtype: float64\n",
      "\n",
      "\n",
      "Classifier for which min Prediction-time is obtained:\n",
      "Training-time       1.359558\n",
      "Prediction-time     0.000000\n",
      "Accuracy           75.000000\n",
      "Name: saga Log-Reg, dtype: float64\n",
      "\n",
      "\n",
      "Results of all the Classifiers:\n"
     ]
    },
    {
     "data": {
      "text/html": [
       "<div>\n",
       "<style scoped>\n",
       "    .dataframe tbody tr th:only-of-type {\n",
       "        vertical-align: middle;\n",
       "    }\n",
       "\n",
       "    .dataframe tbody tr th {\n",
       "        vertical-align: top;\n",
       "    }\n",
       "\n",
       "    .dataframe thead th {\n",
       "        text-align: right;\n",
       "    }\n",
       "</style>\n",
       "<table border=\"1\" class=\"dataframe\">\n",
       "  <thead>\n",
       "    <tr style=\"text-align: right;\">\n",
       "      <th></th>\n",
       "      <th>Training-time</th>\n",
       "      <th>Prediction-time</th>\n",
       "      <th>Accuracy</th>\n",
       "    </tr>\n",
       "  </thead>\n",
       "  <tbody>\n",
       "    <tr>\n",
       "      <th>lbfgs Log-Reg</th>\n",
       "      <td>0.156253</td>\n",
       "      <td>0.015624</td>\n",
       "      <td>76.00</td>\n",
       "    </tr>\n",
       "    <tr>\n",
       "      <th>Linear SVM</th>\n",
       "      <td>0.542196</td>\n",
       "      <td>0.046867</td>\n",
       "      <td>75.25</td>\n",
       "    </tr>\n",
       "    <tr>\n",
       "      <th>saga Log-Reg</th>\n",
       "      <td>1.359558</td>\n",
       "      <td>0.000000</td>\n",
       "      <td>75.00</td>\n",
       "    </tr>\n",
       "    <tr>\n",
       "      <th>Poly SVM</th>\n",
       "      <td>0.440361</td>\n",
       "      <td>0.062493</td>\n",
       "      <td>73.50</td>\n",
       "    </tr>\n",
       "    <tr>\n",
       "      <th>RBF SVM</th>\n",
       "      <td>0.485666</td>\n",
       "      <td>0.180347</td>\n",
       "      <td>73.00</td>\n",
       "    </tr>\n",
       "    <tr>\n",
       "      <th>SGD</th>\n",
       "      <td>0.184507</td>\n",
       "      <td>0.000000</td>\n",
       "      <td>73.00</td>\n",
       "    </tr>\n",
       "    <tr>\n",
       "      <th>Neural Net</th>\n",
       "      <td>0.392619</td>\n",
       "      <td>0.000000</td>\n",
       "      <td>72.75</td>\n",
       "    </tr>\n",
       "    <tr>\n",
       "      <th>XGB</th>\n",
       "      <td>7.578043</td>\n",
       "      <td>0.000000</td>\n",
       "      <td>72.25</td>\n",
       "    </tr>\n",
       "    <tr>\n",
       "      <th>Sig SVM</th>\n",
       "      <td>0.534740</td>\n",
       "      <td>0.093745</td>\n",
       "      <td>71.75</td>\n",
       "    </tr>\n",
       "    <tr>\n",
       "      <th>LGBM</th>\n",
       "      <td>2.666073</td>\n",
       "      <td>0.000000</td>\n",
       "      <td>71.50</td>\n",
       "    </tr>\n",
       "    <tr>\n",
       "      <th>CatBoost</th>\n",
       "      <td>17.205370</td>\n",
       "      <td>0.015626</td>\n",
       "      <td>70.00</td>\n",
       "    </tr>\n",
       "    <tr>\n",
       "      <th>Random Forest</th>\n",
       "      <td>2.122205</td>\n",
       "      <td>0.015618</td>\n",
       "      <td>69.75</td>\n",
       "    </tr>\n",
       "    <tr>\n",
       "      <th>AdaBoost</th>\n",
       "      <td>5.536397</td>\n",
       "      <td>0.021002</td>\n",
       "      <td>69.25</td>\n",
       "    </tr>\n",
       "    <tr>\n",
       "      <th>KMeans</th>\n",
       "      <td>0.514575</td>\n",
       "      <td>0.514575</td>\n",
       "      <td>68.00</td>\n",
       "    </tr>\n",
       "    <tr>\n",
       "      <th>Naive Bayes</th>\n",
       "      <td>0.009000</td>\n",
       "      <td>0.005118</td>\n",
       "      <td>68.00</td>\n",
       "    </tr>\n",
       "    <tr>\n",
       "      <th>KNN</th>\n",
       "      <td>0.000000</td>\n",
       "      <td>0.046838</td>\n",
       "      <td>67.00</td>\n",
       "    </tr>\n",
       "    <tr>\n",
       "      <th>Gaussian Process</th>\n",
       "      <td>2.024539</td>\n",
       "      <td>0.250031</td>\n",
       "      <td>66.25</td>\n",
       "    </tr>\n",
       "    <tr>\n",
       "      <th>Decision Tree</th>\n",
       "      <td>0.982618</td>\n",
       "      <td>0.000000</td>\n",
       "      <td>62.50</td>\n",
       "    </tr>\n",
       "    <tr>\n",
       "      <th>GradientBoost</th>\n",
       "      <td>78.426524</td>\n",
       "      <td>0.000000</td>\n",
       "      <td>62.25</td>\n",
       "    </tr>\n",
       "    <tr>\n",
       "      <th>QDA</th>\n",
       "      <td>1.236452</td>\n",
       "      <td>0.000667</td>\n",
       "      <td>56.00</td>\n",
       "    </tr>\n",
       "  </tbody>\n",
       "</table>\n",
       "</div>"
      ],
      "text/plain": [
       "                  Training-time  Prediction-time  Accuracy\n",
       "lbfgs Log-Reg          0.156253         0.015624     76.00\n",
       "Linear SVM             0.542196         0.046867     75.25\n",
       "saga Log-Reg           1.359558         0.000000     75.00\n",
       "Poly SVM               0.440361         0.062493     73.50\n",
       "RBF SVM                0.485666         0.180347     73.00\n",
       "SGD                    0.184507         0.000000     73.00\n",
       "Neural Net             0.392619         0.000000     72.75\n",
       "XGB                    7.578043         0.000000     72.25\n",
       "Sig SVM                0.534740         0.093745     71.75\n",
       "LGBM                   2.666073         0.000000     71.50\n",
       "CatBoost              17.205370         0.015626     70.00\n",
       "Random Forest          2.122205         0.015618     69.75\n",
       "AdaBoost               5.536397         0.021002     69.25\n",
       "KMeans                 0.514575         0.514575     68.00\n",
       "Naive Bayes            0.009000         0.005118     68.00\n",
       "KNN                    0.000000         0.046838     67.00\n",
       "Gaussian Process       2.024539         0.250031     66.25\n",
       "Decision Tree          0.982618         0.000000     62.50\n",
       "GradientBoost         78.426524         0.000000     62.25\n",
       "QDA                    1.236452         0.000667     56.00"
      ]
     },
     "execution_count": 6,
     "metadata": {},
     "output_type": "execute_result"
    }
   ],
   "source": [
    "result = pd.DataFrame(Metrics.values(), columns =['Training-time', 'Prediction-time', 'Accuracy'])\n",
    "result.index = Metrics.keys()\n",
    "\n",
    "print(\"\\nClassifier for which max Accuracy is obtained:\")\n",
    "print(result.loc[result[\"Accuracy\"].idxmax()])\n",
    "\n",
    "print(\"\\n\\nClassifier for which min Training-time is obtained:\")\n",
    "print(result.loc[result[\"Training-time\"].idxmin()])\n",
    "\n",
    "print(\"\\n\\nClassifier for which min Prediction-time is obtained:\")\n",
    "print(result.loc[result[\"Prediction-time\"].idxmin()])\n",
    "\n",
    "print(\"\\n\\nResults of all the Classifiers:\")\n",
    "result.sort_values(by=\"Accuracy\", ascending=False)"
   ]
  },
  {
   "cell_type": "markdown",
   "id": "05e64e1c-7f2e-40f4-bb45-bda1fd716cd8",
   "metadata": {},
   "source": [
    "---\n",
    "## 2--> Bert + Bidirectional-GRU + Attention\n",
    "\n",
    "---"
   ]
  },
  {
   "cell_type": "code",
   "execution_count": 3,
   "id": "0960bcc0-4123-460c-9494-75da70901926",
   "metadata": {},
   "outputs": [],
   "source": [
    "from tensorflow import keras\n",
    "import tensorflow as tf\n",
    "from keras import layers, Model\n",
    "from keras import backend as K, Sequential\n",
    "from keras.layers import Layer, Embedding, Bidirectional, Attention, GRU, Dense, SpatialDropout1D, LSTM\n",
    "\n",
    "# defining Attention layer\n",
    "class Attention(Layer):\n",
    "    \n",
    "    def __init__(self, return_sequences=True):\n",
    "        self.return_sequences = return_sequences\n",
    "        super(Attention,self).__init__()\n",
    "        \n",
    "    def build(self, input_shape):\n",
    "        \n",
    "        self.W=self.add_weight(name=\"att_weight\", shape=(input_shape[-1],1),\n",
    "                               initializer=\"normal\")\n",
    "        self.b=self.add_weight(name=\"att_bias\", shape=(input_shape[1],1),\n",
    "                               initializer=\"zeros\")\n",
    "        \n",
    "        super(Attention,self).build(input_shape)\n",
    "        \n",
    "    def call(self, x):\n",
    "        \n",
    "        e = K.tanh(K.dot(x,self.W)+self.b)\n",
    "        a = K.softmax(e, axis=1)\n",
    "        output = x*a\n",
    "        \n",
    "        if self.return_sequences:\n",
    "            return output\n",
    "        \n",
    "        return K.sum(output, axis=1)"
   ]
  },
  {
   "cell_type": "code",
   "execution_count": 14,
   "id": "f62f2cb9-494b-4313-9977-e97f1b53bf41",
   "metadata": {},
   "outputs": [
    {
     "name": "stdout",
     "output_type": "stream",
     "text": [
      "WARNING:tensorflow:Layer GRU will not use cuDNN kernels since it doesn't meet the criteria. It will use a generic GPU kernel as fallback when running on GPU.\n",
      "WARNING:tensorflow:Layer GRU will not use cuDNN kernels since it doesn't meet the criteria. It will use a generic GPU kernel as fallback when running on GPU.\n",
      "WARNING:tensorflow:Layer GRU will not use cuDNN kernels since it doesn't meet the criteria. It will use a generic GPU kernel as fallback when running on GPU.\n",
      "Model: \"Bert-BiGRU-Att\"\n",
      "_________________________________________________________________\n",
      " Layer (type)                Output Shape              Param #   \n",
      "=================================================================\n",
      " vectorize (Reshape)         (None, 1, 768)            0         \n",
      "                                                                 \n",
      " spatial-drop (SpatialDropou  (None, 1, 768)           0         \n",
      " t1D)                                                            \n",
      "                                                                 \n",
      " Bidir-GRU (Bidirectional)   (None, 1, 2048)           11022336  \n",
      "                                                                 \n",
      " attention_2 (Attention)     (None, 2048)              2049      \n",
      "                                                                 \n",
      " output (Dense)              (None, 1)                 2049      \n",
      "                                                                 \n",
      "=================================================================\n",
      "Total params: 11,026,434\n",
      "Trainable params: 11,026,434\n",
      "Non-trainable params: 0\n",
      "_________________________________________________________________\n"
     ]
    }
   ],
   "source": [
    "model = Sequential([\n",
    "    layers.Input(shape=(768), name='features-inp'),\n",
    "    layers.Reshape((1, 768), name='vectorize'),\n",
    "    SpatialDropout1D(0.4, name='spatial-drop'),\n",
    "    Bidirectional(GRU(1024, dropout=0.05, recurrent_dropout=0.2, return_sequences=True, name='GRU'), name = 'Bidir-GRU'),\n",
    "    Attention(return_sequences=False),\n",
    "    Dense(1, activation='sigmoid', name='output')\n",
    "])\n",
    "\n",
    "model.compile(optimizer='adam', loss='binary_crossentropy', metrics=['accuracy'])\n",
    "model._name = 'Bert-BiGRU-Att'\n",
    "model.summary()"
   ]
  },
  {
   "cell_type": "code",
   "execution_count": 13,
   "id": "efdd9d43-36b2-40b2-808d-478dd964e34b",
   "metadata": {
    "scrolled": true,
    "tags": []
   },
   "outputs": [
    {
     "name": "stdout",
     "output_type": "stream",
     "text": [
      "Epoch 1/20\n",
      "11/11 [==============================] - 5s 166ms/step - loss: 0.8584 - accuracy: 0.5853 - val_loss: 0.6890 - val_accuracy: 0.6167\n",
      "Epoch 2/20\n",
      "11/11 [==============================] - 1s 96ms/step - loss: 0.6277 - accuracy: 0.6625 - val_loss: 0.5983 - val_accuracy: 0.6625\n",
      "Epoch 3/20\n",
      "11/11 [==============================] - 1s 94ms/step - loss: 0.5563 - accuracy: 0.7081 - val_loss: 0.5302 - val_accuracy: 0.7500\n",
      "Epoch 4/20\n",
      "11/11 [==============================] - 1s 95ms/step - loss: 0.5203 - accuracy: 0.7463 - val_loss: 0.5219 - val_accuracy: 0.7583\n",
      "Epoch 5/20\n",
      "11/11 [==============================] - 1s 94ms/step - loss: 0.5028 - accuracy: 0.7515 - val_loss: 0.4941 - val_accuracy: 0.7542\n",
      "Epoch 6/20\n",
      "11/11 [==============================] - 1s 85ms/step - loss: 0.5013 - accuracy: 0.7559 - val_loss: 0.5131 - val_accuracy: 0.7292\n",
      "Epoch 7/20\n",
      "11/11 [==============================] - 1s 80ms/step - loss: 0.4958 - accuracy: 0.7588 - val_loss: 0.5082 - val_accuracy: 0.7708\n",
      "Epoch 8/20\n",
      "11/11 [==============================] - 1s 78ms/step - loss: 0.5072 - accuracy: 0.7485 - val_loss: 0.5441 - val_accuracy: 0.7333\n",
      "Epoch 9/20\n",
      "11/11 [==============================] - 1s 96ms/step - loss: 0.5127 - accuracy: 0.7463 - val_loss: 0.4874 - val_accuracy: 0.7708\n",
      "Epoch 10/20\n",
      "11/11 [==============================] - 1s 97ms/step - loss: 0.4807 - accuracy: 0.7794 - val_loss: 0.4766 - val_accuracy: 0.7667\n",
      "Epoch 11/20\n",
      "11/11 [==============================] - 1s 95ms/step - loss: 0.4828 - accuracy: 0.7728 - val_loss: 0.4710 - val_accuracy: 0.7750\n",
      "Epoch 12/20\n",
      "11/11 [==============================] - 1s 81ms/step - loss: 0.4769 - accuracy: 0.7846 - val_loss: 0.4777 - val_accuracy: 0.7792\n",
      "Epoch 13/20\n",
      "11/11 [==============================] - 1s 80ms/step - loss: 0.4733 - accuracy: 0.7706 - val_loss: 0.4749 - val_accuracy: 0.7792\n",
      "Epoch 14/20\n",
      "11/11 [==============================] - 1s 79ms/step - loss: 0.4763 - accuracy: 0.7676 - val_loss: 0.4886 - val_accuracy: 0.7958\n",
      "Epoch 15/20\n",
      "11/11 [==============================] - 1s 77ms/step - loss: 0.4834 - accuracy: 0.7669 - val_loss: 0.5118 - val_accuracy: 0.7292\n",
      "Epoch 16/20\n",
      "11/11 [==============================] - 1s 78ms/step - loss: 0.4767 - accuracy: 0.7787 - val_loss: 0.4802 - val_accuracy: 0.7875\n"
     ]
    }
   ],
   "source": [
    "#Stop training when a monitored metric (here, accuracy) has stopped improving.\n",
    "#patience: Number of epochs with no improvement after which training will be stopped.\n",
    "early_stopping_cb = tf.keras.callbacks.EarlyStopping(patience=5)\n",
    "\n",
    "# Saving the best Trained model\n",
    "model_file = model.name+'_Model.h5'\n",
    "checkpoint_cb = tf.keras.callbacks.ModelCheckpoint(model_file, save_best_only=True)\n",
    "\n",
    "tf.keras.backend.clear_session\n",
    "history = model.fit(train_features, train_labels,\n",
    "                    epochs=20,\n",
    "                    batch_size=128,\n",
    "                    validation_split=0.15,\n",
    "                    shuffle=True,\n",
    "                    callbacks=[early_stopping_cb, checkpoint_cb]\n",
    "                   )"
   ]
  },
  {
   "cell_type": "code",
   "execution_count": 15,
   "id": "d6deb5c8-1ff5-40b5-9f14-673b1d96ecb4",
   "metadata": {},
   "outputs": [
    {
     "data": {
      "image/png": "[encoded data removed]",
      "text/plain": [
       "<Figure size 1080x576 with 2 Axes>"
      ]
     },
     "metadata": {
      "needs_background": "light"
     },
     "output_type": "display_data"
    }
   ],
   "source": [
    "def plot_accuracy_and_loss_of_train_and_validation_dataset(history):\n",
    "    train_acc=history.history['accuracy']\n",
    "    train_loss=history.history['loss']\n",
    "    val_acc=history.history['val_accuracy']\n",
    "    val_loss=history.history['val_loss']\n",
    "    epoch=[i for i in range(len(train_acc))]\n",
    "    fig , ax=plt.subplots(1,2)\n",
    "    fig.set_size_inches(15,8)\n",
    "    ax[0].plot(epoch,train_acc,'co-',label='training accuracy')\n",
    "    ax[0].plot(epoch,val_acc,'mo-',label='validation accuracy')\n",
    "    ax[0].set_title('Training & Validation Accuracy')\n",
    "    ax[0].legend()\n",
    "    ax[0].set_xlabel(\"Epochs\")\n",
    "    ax[0].set_ylabel(\"Accuracy\")\n",
    "    ax[1].plot(epoch,train_loss,'c-o',label='training loss')\n",
    "    ax[1].plot(epoch,val_loss,'m-o',label='validation loss')\n",
    "    ax[1].set_title('Training & Validation loss')\n",
    "    ax[1].legend()\n",
    "    ax[1].set_xlabel(\"Epochs\")\n",
    "    ax[1].set_ylabel(\"Training & Validation Loss\")\n",
    "\n",
    "# incase of early stop\n",
    "plot_accuracy_and_loss_of_train_and_validation_dataset(history)"
   ]
  },
  {
   "cell_type": "markdown",
   "id": "22e2c053-d8ea-4a10-a53a-8ddad975b52e",
   "metadata": {},
   "source": [
    "## Evaluation"
   ]
  },
  {
   "cell_type": "code",
   "execution_count": 17,
   "id": "7b9803ea-5bb2-4dc1-84a8-80389aa1fc0d",
   "metadata": {},
   "outputs": [
    {
     "name": "stdout",
     "output_type": "stream",
     "text": [
      "50/50 [==============================] - 1s 14ms/step - loss: 0.6857 - accuracy: 0.5681\n",
      "The accuracy of train text is :  0.5681250095367432\n"
     ]
    }
   ],
   "source": [
    "#model = keras.models.load_model(model_file) # rollback to best model\n",
    "loss,accuracy = model.evaluate(train_features,train_labels)\n",
    "print(\"The accuracy of train text is : \",accuracy)"
   ]
  },
  {
   "cell_type": "markdown",
   "id": "410a44ab-05ff-4267-9b08-b066330cf934",
   "metadata": {},
   "source": [
    "### Accuracy for each class"
   ]
  },
  {
   "cell_type": "code",
   "execution_count": 22,
   "id": "75a54969-4a2d-4228-8266-8b68bf5ba0eb",
   "metadata": {},
   "outputs": [
    {
     "name": "stdout",
     "output_type": "stream",
     "text": [
      "Predicting Test data using the above Trained model...\n"
     ]
    }
   ],
   "source": [
    "print(\"Predicting Test data using the above Trained model...\")\n",
    "pred_Ids_of_test = model.predict(test_features)"
   ]
  },
  {
   "cell_type": "code",
   "execution_count": 23,
   "id": "80fb0a82-879a-45ba-883f-b32643dc5faf",
   "metadata": {},
   "outputs": [],
   "source": [
    "class_names = ['Not Causal','Causal']"
   ]
  },
  {
   "cell_type": "code",
   "execution_count": 24,
   "id": "71636246-b4a3-41b7-98e1-8c8a75a406f9",
   "metadata": {},
   "outputs": [
    {
     "name": "stdout",
     "output_type": "stream",
     "text": [
      "              precision    recall  f1-score   support\n",
      "\n",
      "  Not Causal       0.44      1.00      0.61       177\n",
      "      Causal       0.00      0.00      0.00       223\n",
      "\n",
      "    accuracy                           0.44       400\n",
      "   macro avg       0.22      0.50      0.31       400\n",
      "weighted avg       0.20      0.44      0.27       400\n",
      "\n"
     ]
    }
   ],
   "source": [
    "from sklearn.metrics import accuracy_score, confusion_matrix, classification_report\n",
    "predIdxs = np.argmax(pred_Ids_of_test, axis=1) # to get the indices of max value in each row\n",
    "print(classification_report(test_labels, predIdxs,target_names=class_names))"
   ]
  },
  {
   "cell_type": "markdown",
   "id": "0c9c1199-cea5-4365-abd3-d33e1d8c3b3d",
   "metadata": {},
   "source": [
    "### Confusion Matrix"
   ]
  },
  {
   "cell_type": "code",
   "execution_count": 25,
   "id": "c7a8990b-a28a-4223-91bc-458a0ca6771b",
   "metadata": {},
   "outputs": [
    {
     "data": {
      "image/png": "[encoded data removed]",
      "text/plain": [
       "<Figure size 360x360 with 1 Axes>"
      ]
     },
     "metadata": {
      "needs_background": "light"
     },
     "output_type": "display_data"
    }
   ],
   "source": [
    "CM = confusion_matrix(test_labels, predIdxs)\n",
    "# Plot confusion matrix\n",
    "plt.figure(figsize = (5,5))\n",
    "plt.imshow(CM,interpolation='nearest',cmap='winter')\n",
    "for (i, j), z in np.ndenumerate(CM):\n",
    "    plt.text(j, i, z, ha='center', va='center')\n",
    "plt.xlabel(\"y Predict\")\n",
    "plt.ylabel(\"y Test\")\n",
    "plt.grid(False)\n",
    "plt.show()"
   ]
  },
  {
   "cell_type": "markdown",
   "id": "c1533499-67c5-4e48-b96b-25bd089039f3",
   "metadata": {},
   "source": [
    "---\n",
    "## 3--> Bert + Dense layers only approach\n",
    "\n",
    "---"
   ]
  },
  {
   "cell_type": "code",
   "execution_count": 28,
   "id": "1d81c993-ca0d-4f63-8486-d5c3b6f1120e",
   "metadata": {},
   "outputs": [],
   "source": [
    "# Bert layers\n",
    "text_input = tf.keras.layers.Input(shape=(), dtype=tf.string, name='text')\n",
    "preprocessed_text = bert_preprocess(text_input)\n",
    "outputs = bert_encoder(preprocessed_text)\n",
    "# Neural network layers\n",
    "l = tf.keras.layers.Dropout(0.1, name=\"dropout1\")(outputs['pooled_output'])\n",
    "l = tf.keras.layers.Dense(2048, activation='relu', name=\"fc1\")(l)\n",
    "l = tf.keras.layers.Dense(2048, activation='relu', name=\"fc2\")(l)\n",
    "l = tf.keras.layers.Dropout(0.1, name=\"dropout2\")(l)\n",
    "l = tf.keras.layers.Dense(1024, activation='relu', name=\"fc3\")(l)\n",
    "l = tf.keras.layers.Dense(1, activation='sigmoid', name=\"output\")(l)\n",
    "# Use inputs and outputs to construct a final model\n",
    "model = tf.keras.Model(inputs=[text_input], outputs = [l])"
   ]
  },
  {
   "cell_type": "code",
   "execution_count": 29,
   "id": "84f9d520-77cc-453d-a69e-be4d2af8ce1b",
   "metadata": {},
   "outputs": [
    {
     "name": "stdout",
     "output_type": "stream",
     "text": [
      "Model: \"small_bert/bert_en_uncased_L-12_H-768_A-12\"\n",
      "__________________________________________________________________________________________________\n",
      " Layer (type)                   Output Shape         Param #     Connected to                     \n",
      "==================================================================================================\n",
      " text (InputLayer)              [(None,)]            0           []                               \n",
      "                                                                                                  \n",
      " preprocess (KerasLayer)        {'input_word_ids':   0           ['text[0][0]']                   \n",
      "                                (None, 128),                                                      \n",
      "                                 'input_type_ids':                                                \n",
      "                                (None, 128),                                                      \n",
      "                                 'input_mask': (Non                                               \n",
      "                                e, 128)}                                                          \n",
      "                                                                                                  \n",
      " encoder (KerasLayer)           {'pooled_output': (  109482241   ['preprocess[0][0]',             \n",
      "                                None, 768),                       'preprocess[0][1]',             \n",
      "                                 'sequence_output':               'preprocess[0][2]']             \n",
      "                                 (None, 128, 768),                                                \n",
      "                                 'default': (None,                                                \n",
      "                                768),                                                             \n",
      "                                 'encoder_outputs':                                               \n",
      "                                 [(None, 128, 768),                                               \n",
      "                                 (None, 128, 768),                                                \n",
      "                                 (None, 128, 768),                                                \n",
      "                                 (None, 128, 768),                                                \n",
      "                                 (None, 128, 768),                                                \n",
      "                                 (None, 128, 768),                                                \n",
      "                                 (None, 128, 768),                                                \n",
      "                                 (None, 128, 768),                                                \n",
      "                                 (None, 128, 768),                                                \n",
      "                                 (None, 128, 768),                                                \n",
      "                                 (None, 128, 768),                                                \n",
      "                                 (None, 128, 768)]}                                               \n",
      "                                                                                                  \n",
      " dropout1 (Dropout)             (None, 768)          0           ['encoder[0][13]']               \n",
      "                                                                                                  \n",
      " fc1 (Dense)                    (None, 2048)         1574912     ['dropout1[0][0]']               \n",
      "                                                                                                  \n",
      " fc2 (Dense)                    (None, 2048)         4196352     ['fc1[0][0]']                    \n",
      "                                                                                                  \n",
      " dropout2 (Dropout)             (None, 2048)         0           ['fc2[0][0]']                    \n",
      "                                                                                                  \n",
      " fc3 (Dense)                    (None, 1024)         2098176     ['dropout2[0][0]']               \n",
      "                                                                                                  \n",
      " output (Dense)                 (None, 1)            1025        ['fc3[0][0]']                    \n",
      "                                                                                                  \n",
      "==================================================================================================\n",
      "Total params: 117,352,706\n",
      "Trainable params: 7,870,465\n",
      "Non-trainable params: 109,482,241\n",
      "__________________________________________________________________________________________________\n"
     ]
    }
   ],
   "source": [
    "model.compile(optimizer='adam', loss='binary_crossentropy', metrics=['accuracy'])\n",
    "model._name = bert_model_name\n",
    "model.summary()\n",
    "#keras.utils.plot_model(model)"
   ]
  },
  {
   "cell_type": "markdown",
   "id": "10897879-2daf-49b1-8987-d8c42013ae6c",
   "metadata": {},
   "source": [
    "## Training and Results"
   ]
  },
  {
   "cell_type": "code",
   "execution_count": 18,
   "id": "f96b934d-ff51-4d6b-8590-26e9ab9092ad",
   "metadata": {
    "scrolled": true,
    "tags": []
   },
   "outputs": [
    {
     "name": "stdout",
     "output_type": "stream",
     "text": [
      "Epoch 1/15\n",
      "22/22 [==============================] - 32s 1s/step - loss: 1.0943 - accuracy: 0.5521 - val_loss: 0.6136 - val_accuracy: 0.6667\n",
      "Epoch 2/15\n",
      "22/22 [==============================] - 29s 1s/step - loss: 0.5467 - accuracy: 0.7271 - val_loss: 0.6109 - val_accuracy: 0.6533\n",
      "Epoch 3/15\n",
      "22/22 [==============================] - 29s 1s/step - loss: 0.4949 - accuracy: 0.7636 - val_loss: 0.5926 - val_accuracy: 0.7300\n",
      "Epoch 4/15\n",
      "22/22 [==============================] - 30s 1s/step - loss: 0.4969 - accuracy: 0.7636 - val_loss: 0.5485 - val_accuracy: 0.7567\n",
      "Epoch 5/15\n",
      "22/22 [==============================] - 29s 1s/step - loss: 0.4590 - accuracy: 0.7821 - val_loss: 0.5672 - val_accuracy: 0.7500\n",
      "Epoch 6/15\n",
      "22/22 [==============================] - 29s 1s/step - loss: 0.4296 - accuracy: 0.8014 - val_loss: 0.5781 - val_accuracy: 0.7467\n",
      "Epoch 7/15\n",
      "22/22 [==============================] - 30s 1s/step - loss: 0.4510 - accuracy: 0.7821 - val_loss: 0.6493 - val_accuracy: 0.6567\n",
      "Epoch 8/15\n",
      "22/22 [==============================] - 30s 1s/step - loss: 0.4584 - accuracy: 0.7864 - val_loss: 0.6168 - val_accuracy: 0.7233\n"
     ]
    }
   ],
   "source": [
    "#Stop training when a monitored metric (here, accuracy) has stopped improving.\n",
    "#patience: Number of epochs with no improvement after which training will be stopped.\n",
    "early_stopping_cb = tf.keras.callbacks.EarlyStopping(patience=4)\n",
    "\n",
    "# Saving the best Trained model\n",
    "model_file = model.name+'_Model.h5'\n",
    "checkpoint_cb = tf.keras.callbacks.ModelCheckpoint(model_file, save_best_only=True)\n",
    "\n",
    "tf.keras.backend.clear_session\n",
    "history = model.fit(train_text, train_labels,\n",
    "                    epochs=15,\n",
    "                    batch_size=64,\n",
    "                    validation_data=(val_text,val_labels),\n",
    "                    callbacks=[early_stopping_cb, checkpoint_cb]\n",
    "                   )"
   ]
  },
  {
   "cell_type": "code",
   "execution_count": 19,
   "id": "24bbb780-f47d-4971-b092-52ae1eb07ea4",
   "metadata": {},
   "outputs": [
    {
     "data": {
      "image/png": "[encoded data removed]",
      "text/plain": [
       "<Figure size 1080x576 with 2 Axes>"
      ]
     },
     "metadata": {
      "needs_background": "light"
     },
     "output_type": "display_data"
    }
   ],
   "source": [
    "def plot_accuracy_and_loss_of_train_and_validation_dataset(history):\n",
    "    train_acc=history.history['accuracy']\n",
    "    train_loss=history.history['loss']\n",
    "    val_acc=history.history['val_accuracy']\n",
    "    val_loss=history.history['val_loss']\n",
    "    epoch=[i for i in range(len(train_acc))]\n",
    "    fig , ax=plt.subplots(1,2)\n",
    "    fig.set_size_inches(15,8)\n",
    "    ax[0].plot(epoch,train_acc,'co-',label='training accuracy')\n",
    "    ax[0].plot(epoch,val_acc,'mo-',label='validation accuracy')\n",
    "    ax[0].set_title('Training & Validation Accuracy')\n",
    "    ax[0].legend()\n",
    "    ax[0].set_xlabel(\"Epochs\")\n",
    "    ax[0].set_ylabel(\"Accuracy\")\n",
    "    ax[1].plot(epoch,train_loss,'c-o',label='training loss')\n",
    "    ax[1].plot(epoch,val_loss,'m-o',label='validation loss')\n",
    "    ax[1].set_title('Training & Validation loss')\n",
    "    ax[1].legend()\n",
    "    ax[1].set_xlabel(\"Epochs\")\n",
    "    ax[1].set_ylabel(\"Training & Validation Loss\")\n",
    "\n",
    "# incase of early stop\n",
    "plot_accuracy_and_loss_of_train_and_validation_dataset(history)"
   ]
  },
  {
   "cell_type": "markdown",
   "id": "bd93771e-71d3-466d-b470-84c61810a328",
   "metadata": {},
   "source": [
    "## Evaluation"
   ]
  },
  {
   "cell_type": "code",
   "execution_count": 20,
   "id": "4b2c3a7e-8d45-420f-9f1d-6543285c4ba0",
   "metadata": {},
   "outputs": [
    {
     "name": "stdout",
     "output_type": "stream",
     "text": [
      "44/44 [==============================] - 20s 452ms/step - loss: 0.4316 - accuracy: 0.7971\n",
      "The accuracy of train text is :  0.7971428632736206\n"
     ]
    }
   ],
   "source": [
    "# loading the saved model of Inception Classifier\n",
    "model_file = bert_model_name+'_Model.h5'\n",
    "#model = keras.models.load_model(model_file) # rollback to best model\n",
    "loss,accuracy = model.evaluate(train_text,train_labels)\n",
    "print(\"The accuracy of train text is : \",accuracy)"
   ]
  },
  {
   "cell_type": "markdown",
   "id": "2bb5b412-2d76-4934-93f8-104a897eb3bd",
   "metadata": {},
   "source": [
    "### Accuracy for each class"
   ]
  },
  {
   "cell_type": "code",
   "execution_count": 21,
   "id": "ec2f72f3-87c0-499e-91c0-63d03ebd98d7",
   "metadata": {},
   "outputs": [
    {
     "name": "stdout",
     "output_type": "stream",
     "text": [
      "Predicting Test data using the above Trained model...\n"
     ]
    }
   ],
   "source": [
    "print(\"Predicting Test data using the above Trained model...\")\n",
    "pred_Ids_of_test = model.predict(test_text)"
   ]
  },
  {
   "cell_type": "code",
   "execution_count": 22,
   "id": "44b57ed2-ff60-4482-b7c9-c0e631c54adf",
   "metadata": {},
   "outputs": [],
   "source": [
    "class_names = ['Not Causal','Causal']"
   ]
  },
  {
   "cell_type": "code",
   "execution_count": 23,
   "id": "97bd46d9-f438-4d76-9c12-29b0bf740ec6",
   "metadata": {},
   "outputs": [
    {
     "name": "stdout",
     "output_type": "stream",
     "text": [
      "              precision    recall  f1-score   support\n",
      "\n",
      "  Not Causal       0.44      1.00      0.61       133\n",
      "      Causal       0.00      0.00      0.00       167\n",
      "\n",
      "    accuracy                           0.44       300\n",
      "   macro avg       0.22      0.50      0.31       300\n",
      "weighted avg       0.20      0.44      0.27       300\n",
      "\n"
     ]
    }
   ],
   "source": [
    "from sklearn.metrics import accuracy_score, confusion_matrix, classification_report\n",
    "predIdxs = np.argmax(pred_Ids_of_test, axis=1) # to get the indices of max value in each row\n",
    "print(classification_report(test_labels, predIdxs,target_names=class_names))"
   ]
  },
  {
   "cell_type": "markdown",
   "id": "5143f83a-da99-4729-8c71-dfe6d6b1a644",
   "metadata": {},
   "source": [
    "### Confusion Matrix"
   ]
  },
  {
   "cell_type": "code",
   "execution_count": 24,
   "id": "3a17a139-4eff-459d-be18-4c886a7fa663",
   "metadata": {},
   "outputs": [
    {
     "data": {
      "image/png": "[encoded data removed]",
      "text/plain": [
       "<Figure size 360x360 with 1 Axes>"
      ]
     },
     "metadata": {
      "needs_background": "light"
     },
     "output_type": "display_data"
    }
   ],
   "source": [
    "CM = confusion_matrix(test_labels, predIdxs)\n",
    "# Plot confusion matrix\n",
    "plt.figure(figsize = (5,5))\n",
    "plt.imshow(CM,interpolation='nearest',cmap='winter')\n",
    "for (i, j), z in np.ndenumerate(CM):\n",
    "    plt.text(j, i, z, ha='center', va='center')\n",
    "plt.xlabel(\"y Predict\")\n",
    "plt.ylabel(\"y Test\")\n",
    "plt.grid(False)\n",
    "plt.show()"
   ]
  },
  {
   "cell_type": "markdown",
   "id": "a76fb610-74bd-466f-8863-3dba701d6da8",
   "metadata": {},
   "source": [
    "---\n",
    "#### *<div style=\"text-align: center\"> - - - - - Thank You - - - - - <div>*\n",
    "---"
   ]
  }
 ],
 "metadata": {
  "kernelspec": {
   "display_name": "Python 3 (ipykernel)",
   "language": "python",
   "name": "python3"
  },
  "language_info": {
   "codemirror_mode": {
    "name": "ipython",
    "version": 3
   },
   "file_extension": ".py",
   "mimetype": "text/x-python",
   "name": "python",
   "nbconvert_exporter": "python",
   "pygments_lexer": "ipython3",
   "version": "3.9.6"
  }
 },
 "nbformat": 4,
 "nbformat_minor": 5
}
