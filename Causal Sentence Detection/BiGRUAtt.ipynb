{
 "cells": [
  {
   "cell_type": "markdown",
   "id": "bb3431f3-14b0-44f2-971d-6b5d65385d60",
   "metadata": {},
   "source": [
    "---\n",
    "---\n",
    "*<h1 align='center'> Causal Sentence Detection </h1>*\n",
    "*<h2 align='center'> Model: Bi-GRU-Att </h2>*\n",
    "---\n",
    "---\n",
    "Name: Logesh.V <br>\n",
    "Email: vlogesh2001@gmail.com <br>\n",
    "DATASETS: \n",
    "- Causaly_small: https://archive.org/details/CausalySmall <br>\n",
    "About Dataset: The dataset contains 2000 manually annotated sentences derived from\n",
    "pubmed articles. 1113 out of 2000 sentences are annotated as Causal (Annotated_Causal = 1) and the rest (887) are annotated as non-Causal (Annotated_Causal = 0)."
   ]
  },
  {
   "cell_type": "code",
   "execution_count": 1,
   "id": "5612d903",
   "metadata": {},
   "outputs": [],
   "source": [
    "# import required packages\n",
    "\n",
    "import pandas as pd\n",
    "import re\n",
    "from tensorflow import argmax, string\n",
    "from tensorflow.keras.layers import Layer, Embedding, Bidirectional, Attention, GRU, Dense, SpatialDropout1D, LSTM\n",
    "from tensorflow.keras import layers, Model\n",
    "\n",
    "from tensorflow.keras import backend as K, Sequential\n",
    "\n",
    "from tensorflow.keras.preprocessing.text import Tokenizer\n",
    "from tensorflow.keras.preprocessing.sequence import pad_sequences\n",
    "from tensorflow.keras.callbacks import EarlyStopping\n",
    "\n",
    "import numpy as np\n",
    "from sklearn.model_selection import train_test_split\n",
    "\n",
    "import matplotlib.pyplot as plt"
   ]
  },
  {
   "cell_type": "code",
   "execution_count": 2,
   "id": "b7d9ea56",
   "metadata": {},
   "outputs": [
    {
     "data": {
      "text/plain": [
       "Index(['Sentence', 'Annotated_Causal'], dtype='object')"
      ]
     },
     "execution_count": 2,
     "metadata": {},
     "output_type": "execute_result"
    }
   ],
   "source": [
    "data = pd.read_csv(\"Causaly_small.csv\")\n",
    "data.columns"
   ]
  },
  {
   "cell_type": "code",
   "execution_count": 3,
   "id": "cfb87aab",
   "metadata": {},
   "outputs": [
    {
     "name": "stdout",
     "output_type": "stream",
     "text": [
      "2000\n"
     ]
    },
    {
     "data": {
      "text/html": [
       "<div>\n",
       "<style scoped>\n",
       "    .dataframe tbody tr th:only-of-type {\n",
       "        vertical-align: middle;\n",
       "    }\n",
       "\n",
       "    .dataframe tbody tr th {\n",
       "        vertical-align: top;\n",
       "    }\n",
       "\n",
       "    .dataframe thead th {\n",
       "        text-align: right;\n",
       "    }\n",
       "</style>\n",
       "<table border=\"1\" class=\"dataframe\">\n",
       "  <thead>\n",
       "    <tr style=\"text-align: right;\">\n",
       "      <th></th>\n",
       "      <th>Sentence</th>\n",
       "      <th>Annotated_Causal</th>\n",
       "    </tr>\n",
       "  </thead>\n",
       "  <tbody>\n",
       "    <tr>\n",
       "      <th>0</th>\n",
       "      <td>Results indicated that boys with ADHD , relati...</td>\n",
       "      <td>1</td>\n",
       "    </tr>\n",
       "    <tr>\n",
       "      <th>1</th>\n",
       "      <td>Ticagrelor appears to provide higher value for...</td>\n",
       "      <td>0</td>\n",
       "    </tr>\n",
       "    <tr>\n",
       "      <th>2</th>\n",
       "      <td>Whatever the mechanism , active smoking is an ...</td>\n",
       "      <td>1</td>\n",
       "    </tr>\n",
       "    <tr>\n",
       "      <th>3</th>\n",
       "      <td>In this study , we examined whether use of an ...</td>\n",
       "      <td>0</td>\n",
       "    </tr>\n",
       "    <tr>\n",
       "      <th>4</th>\n",
       "      <td>Using causal inference testing , we searched c...</td>\n",
       "      <td>0</td>\n",
       "    </tr>\n",
       "  </tbody>\n",
       "</table>\n",
       "</div>"
      ],
      "text/plain": [
       "                                            Sentence  Annotated_Causal\n",
       "0  Results indicated that boys with ADHD , relati...                 1\n",
       "1  Ticagrelor appears to provide higher value for...                 0\n",
       "2  Whatever the mechanism , active smoking is an ...                 1\n",
       "3  In this study , we examined whether use of an ...                 0\n",
       "4  Using causal inference testing , we searched c...                 0"
      ]
     },
     "execution_count": 3,
     "metadata": {},
     "output_type": "execute_result"
    }
   ],
   "source": [
    "print(len(data))\n",
    "data.head()"
   ]
  },
  {
   "cell_type": "code",
   "execution_count": 4,
   "id": "4f1e40f3",
   "metadata": {},
   "outputs": [],
   "source": [
    "max_features = 4000"
   ]
  },
  {
   "cell_type": "code",
   "execution_count": 5,
   "id": "6780c7de",
   "metadata": {},
   "outputs": [],
   "source": [
    "tokenizer = Tokenizer(num_words=max_features, split=' ')\n",
    "tokenizer.fit_on_texts(data['Sentence'].values)"
   ]
  },
  {
   "cell_type": "code",
   "execution_count": 6,
   "id": "56514406",
   "metadata": {},
   "outputs": [],
   "source": [
    "X = tokenizer.texts_to_sequences(data['Sentence'].values)"
   ]
  },
  {
   "cell_type": "code",
   "execution_count": 7,
   "id": "27037521",
   "metadata": {},
   "outputs": [],
   "source": [
    "X = pad_sequences(X)"
   ]
  },
  {
   "cell_type": "code",
   "execution_count": 8,
   "id": "ffd32dfc",
   "metadata": {},
   "outputs": [
    {
     "data": {
      "text/plain": [
       "(2000, 92)"
      ]
     },
     "execution_count": 8,
     "metadata": {},
     "output_type": "execute_result"
    }
   ],
   "source": [
    "X.shape"
   ]
  },
  {
   "cell_type": "code",
   "execution_count": 9,
   "id": "48c6cf85",
   "metadata": {},
   "outputs": [],
   "source": [
    "Y = pd.get_dummies(data['Annotated_Causal'])"
   ]
  },
  {
   "cell_type": "code",
   "execution_count": 10,
   "id": "3c3a586d",
   "metadata": {},
   "outputs": [],
   "source": [
    "result_dict = {0: 'False', 1: 'True'}\n",
    "y_arr = np.vectorize(result_dict.get)(Y.columns)"
   ]
  },
  {
   "cell_type": "code",
   "execution_count": 11,
   "id": "09bc38de",
   "metadata": {},
   "outputs": [],
   "source": [
    "Y = Y.values"
   ]
  },
  {
   "cell_type": "code",
   "execution_count": 12,
   "id": "bb20c362",
   "metadata": {},
   "outputs": [],
   "source": [
    "X_train, X_test, Y_train, Y_test = train_test_split(X, Y, test_size = 0.33, random_state = 42)"
   ]
  },
  {
   "cell_type": "code",
   "execution_count": 13,
   "id": "8577b87d",
   "metadata": {},
   "outputs": [
    {
     "name": "stdout",
     "output_type": "stream",
     "text": [
      "(1340, 92) (1340, 2)\n",
      "(660, 92) (660, 2)\n"
     ]
    }
   ],
   "source": [
    "print(X_train.shape, Y_train.shape)\n",
    "print(X_test.shape, Y_test.shape)"
   ]
  },
  {
   "cell_type": "code",
   "execution_count": 14,
   "id": "694dcd7d",
   "metadata": {},
   "outputs": [],
   "source": [
    "from tensorflow.keras import backend as K\n",
    "\n",
    "class Attention(Layer):\n",
    "    \n",
    "    def __init__(self, return_sequences=True):\n",
    "        self.return_sequences = return_sequences\n",
    "        super(Attention,self).__init__()\n",
    "        \n",
    "    def build(self, input_shape):\n",
    "        \n",
    "        self.W=self.add_weight(name=\"att_weight\", shape=(input_shape[-1],1),\n",
    "                               initializer=\"normal\")\n",
    "        self.b=self.add_weight(name=\"att_bias\", shape=(input_shape[1],1),\n",
    "                               initializer=\"zeros\")\n",
    "        \n",
    "        super(Attention,self).build(input_shape)\n",
    "        \n",
    "    def call(self, x):\n",
    "        \n",
    "        e = K.tanh(K.dot(x,self.W)+self.b)\n",
    "        a = K.softmax(e, axis=1)\n",
    "        output = x*a\n",
    "        \n",
    "        if self.return_sequences:\n",
    "            return output\n",
    "        \n",
    "        return K.sum(output, axis=1)"
   ]
  },
  {
   "cell_type": "code",
   "execution_count": 19,
   "id": "46995e8d",
   "metadata": {},
   "outputs": [
    {
     "name": "stdout",
     "output_type": "stream",
     "text": [
      "WARNING:tensorflow:Layer gru_2 will not use cuDNN kernels since it doesn't meet the criteria. It will use a generic GPU kernel as fallback when running on GPU.\n",
      "WARNING:tensorflow:Layer gru_2 will not use cuDNN kernels since it doesn't meet the criteria. It will use a generic GPU kernel as fallback when running on GPU.\n",
      "WARNING:tensorflow:Layer gru_2 will not use cuDNN kernels since it doesn't meet the criteria. It will use a generic GPU kernel as fallback when running on GPU.\n"
     ]
    }
   ],
   "source": [
    "embed_dim = 256\n",
    "gru_out = 196\n",
    "\n",
    "model = Sequential()\n",
    "model.add(Embedding(max_features, embed_dim, input_length=X.shape[1]))\n",
    "model.add(SpatialDropout1D(0.4))\n",
    "model.add(Bidirectional(GRU(gru_out, dropout=0.05, recurrent_dropout=0.2, return_sequences=True)))\n",
    "model.add(Attention(return_sequences=False)) # receive 3D and output 2D\n",
    "model.add(Dense(2, activation='softmax'))"
   ]
  },
  {
   "cell_type": "code",
   "execution_count": 17,
   "id": "eb9c5747",
   "metadata": {},
   "outputs": [
    {
     "name": "stdout",
     "output_type": "stream",
     "text": [
      "Model: \"sequential\"\n",
      "_________________________________________________________________\n",
      " Layer (type)                Output Shape              Param #   \n",
      "=================================================================\n",
      " embedding (Embedding)       (None, 92, 256)           1024000   \n",
      "                                                                 \n",
      " spatial_dropout1d (SpatialD  (None, 92, 256)          0         \n",
      " ropout1D)                                                       \n",
      "                                                                 \n",
      " bidirectional (Bidirectiona  (None, 92, 392)          533904    \n",
      " l)                                                              \n",
      "                                                                 \n",
      " attention (Attention)       (None, 392)               484       \n",
      "                                                                 \n",
      " dense (Dense)               (None, 2)                 786       \n",
      "                                                                 \n",
      "=================================================================\n",
      "Total params: 1,559,174\n",
      "Trainable params: 1,559,174\n",
      "Non-trainable params: 0\n",
      "_________________________________________________________________\n"
     ]
    }
   ],
   "source": [
    "model.summary()"
   ]
  },
  {
   "cell_type": "code",
   "execution_count": 20,
   "id": "26fb990a",
   "metadata": {},
   "outputs": [],
   "source": [
    "model.compile(loss = 'categorical_crossentropy', optimizer='adam', metrics = ['accuracy'])"
   ]
  },
  {
   "cell_type": "code",
   "execution_count": 21,
   "id": "a470c2d6",
   "metadata": {
    "scrolled": true,
    "tags": []
   },
   "outputs": [
    {
     "name": "stdout",
     "output_type": "stream",
     "text": [
      "Epoch 1/20\n",
      "11/11 - 31s - loss: 0.6918 - accuracy: 0.5515 - 31s/epoch - 3s/step\n",
      "Epoch 2/20\n",
      "11/11 - 29s - loss: 0.6868 - accuracy: 0.5724 - 29s/epoch - 3s/step\n",
      "Epoch 3/20\n",
      "11/11 - 46s - loss: 0.6761 - accuracy: 0.5634 - 46s/epoch - 4s/step\n",
      "Epoch 4/20\n",
      "11/11 - 25s - loss: 0.5773 - accuracy: 0.7590 - 25s/epoch - 2s/step\n",
      "Epoch 5/20\n",
      "11/11 - 26s - loss: 0.3682 - accuracy: 0.8351 - 26s/epoch - 2s/step\n",
      "Epoch 6/20\n",
      "11/11 - 43s - loss: 0.2228 - accuracy: 0.9239 - 43s/epoch - 4s/step\n",
      "Epoch 7/20\n",
      "11/11 - 68s - loss: 0.1371 - accuracy: 0.9672 - 68s/epoch - 6s/step\n",
      "Epoch 8/20\n",
      "11/11 - 43s - loss: 0.0664 - accuracy: 0.9784 - 43s/epoch - 4s/step\n",
      "Epoch 9/20\n",
      "11/11 - 37s - loss: 0.0393 - accuracy: 0.9903 - 37s/epoch - 3s/step\n",
      "Epoch 10/20\n",
      "11/11 - 23s - loss: 0.0430 - accuracy: 0.9933 - 23s/epoch - 2s/step\n",
      "Epoch 11/20\n",
      "11/11 - 27s - loss: 0.0125 - accuracy: 0.9985 - 27s/epoch - 2s/step\n",
      "Epoch 12/20\n",
      "11/11 - 24s - loss: 0.0063 - accuracy: 0.9978 - 24s/epoch - 2s/step\n",
      "Epoch 13/20\n",
      "11/11 - 23s - loss: 0.0045 - accuracy: 0.9993 - 23s/epoch - 2s/step\n",
      "Epoch 14/20\n",
      "11/11 - 26s - loss: 9.6789e-04 - accuracy: 1.0000 - 26s/epoch - 2s/step\n",
      "Epoch 15/20\n",
      "11/11 - 24s - loss: 6.3206e-04 - accuracy: 1.0000 - 24s/epoch - 2s/step\n",
      "Epoch 16/20\n",
      "11/11 - 28s - loss: 7.6587e-04 - accuracy: 1.0000 - 28s/epoch - 3s/step\n",
      "Epoch 17/20\n",
      "11/11 - 25s - loss: 2.7740e-04 - accuracy: 1.0000 - 25s/epoch - 2s/step\n",
      "Epoch 18/20\n",
      "11/11 - 24s - loss: 2.5998e-04 - accuracy: 1.0000 - 24s/epoch - 2s/step\n",
      "Epoch 19/20\n",
      "11/11 - 25s - loss: 1.5086e-04 - accuracy: 1.0000 - 25s/epoch - 2s/step\n"
     ]
    }
   ],
   "source": [
    "es = EarlyStopping(monitor='accuracy', patience=5)\n",
    "\n",
    "history = model.fit(X_train, Y_train, epochs=20, batch_size=128, verbose=2, callbacks=[es])"
   ]
  },
  {
   "cell_type": "code",
   "execution_count": 22,
   "id": "e428b1c2",
   "metadata": {},
   "outputs": [
    {
     "data": {
      "image/png": "[encoded data removed]",
      "text/plain": [
       "<Figure size 432x288 with 1 Axes>"
      ]
     },
     "metadata": {
      "needs_background": "light"
     },
     "output_type": "display_data"
    },
    {
     "data": {
      "image/png": "[encoded data removed]",
      "text/plain": [
       "<Figure size 432x288 with 1 Axes>"
      ]
     },
     "metadata": {
      "needs_background": "light"
     },
     "output_type": "display_data"
    }
   ],
   "source": [
    "plt.plot(history.history['accuracy'])\n",
    "plt.title('model accuracy')\n",
    "plt.ylabel('accuracy')\n",
    "plt.xlabel('epoch')\n",
    "plt.legend(['train'], loc='upper left')\n",
    "plt.show()\n",
    "\n",
    "plt.plot(history.history['loss'])\n",
    "plt.title('model loss')\n",
    "plt.ylabel('loss')\n",
    "plt.xlabel('epoch')\n",
    "plt.legend(['train'], loc='upper left')\n",
    "plt.show()"
   ]
  },
  {
   "cell_type": "code",
   "execution_count": 23,
   "id": "e3e9a2cf",
   "metadata": {},
   "outputs": [
    {
     "name": "stdout",
     "output_type": "stream",
     "text": [
      "11/11 - 5s - loss: 2.3815 - accuracy: 0.7364 - 5s/epoch - 432ms/step\n",
      "score: 2.38\n",
      "acc: 0.74\n"
     ]
    }
   ],
   "source": [
    "score, acc = model.evaluate(X_test, Y_test, verbose=2, batch_size=64)\n",
    "print(\"score: %.2f\" % (score))\n",
    "print(\"acc: %.2f\" % (acc))"
   ]
  },
  {
   "cell_type": "code",
   "execution_count": 24,
   "id": "afa7fe03",
   "metadata": {},
   "outputs": [
    {
     "name": "stdout",
     "output_type": "stream",
     "text": [
      "Predicting Test data using the above Trained model...\n"
     ]
    }
   ],
   "source": [
    "print(\"Predicting Test data using the above Trained model...\")\n",
    "pred = model.predict(X_test)"
   ]
  },
  {
   "cell_type": "code",
   "execution_count": 25,
   "id": "4ce9e714",
   "metadata": {},
   "outputs": [],
   "source": [
    "class_names = ['Not Causal','Causal']"
   ]
  },
  {
   "cell_type": "code",
   "execution_count": 26,
   "id": "c229e0de",
   "metadata": {},
   "outputs": [],
   "source": [
    "from sklearn.metrics import accuracy_score, confusion_matrix, classification_report"
   ]
  },
  {
   "cell_type": "code",
   "execution_count": 27,
   "id": "b38d9534",
   "metadata": {},
   "outputs": [
    {
     "name": "stdout",
     "output_type": "stream",
     "text": [
      "              precision    recall  f1-score   support\n",
      "\n",
      "  Not Causal       0.71      0.67      0.69       291\n",
      "      Causal       0.75      0.79      0.77       369\n",
      "\n",
      "    accuracy                           0.74       660\n",
      "   macro avg       0.73      0.73      0.73       660\n",
      "weighted avg       0.74      0.74      0.74       660\n",
      "\n"
     ]
    }
   ],
   "source": [
    "test = argmax(Y_test, axis = 1)\n",
    "pred = np.argmax(pred, axis=1) # to get the indices of max value in each row\n",
    "print(classification_report(test, pred, target_names=class_names))"
   ]
  },
  {
   "cell_type": "code",
   "execution_count": 28,
   "id": "f5c791d3",
   "metadata": {},
   "outputs": [
    {
     "data": {
      "image/png": "[encoded data removed]",
      "text/plain": [
       "<Figure size 360x360 with 1 Axes>"
      ]
     },
     "metadata": {
      "needs_background": "light"
     },
     "output_type": "display_data"
    }
   ],
   "source": [
    "CM = confusion_matrix(test, pred)\n",
    "# Plot confusion matrix\n",
    "plt.figure(figsize = (5,5))\n",
    "plt.imshow(CM,interpolation='nearest',cmap='cool')\n",
    "for (i, j), z in np.ndenumerate(CM):\n",
    "    plt.text(j, i, z, ha='center', va='center')\n",
    "plt.xlabel(\"y Predict\")\n",
    "plt.ylabel(\"y Test\")\n",
    "plt.grid(False)\n",
    "plt.show()"
   ]
  },
  {
   "cell_type": "markdown",
   "id": "8f650d3f-fddc-4a0f-a67f-28b349271c16",
   "metadata": {},
   "source": [
    "---\n",
    "#### *<div style=\"text-align: center\"> - - - - - Thank You - - - - - <div>*\n",
    "---"
   ]
  }
 ],
 "metadata": {
  "kernelspec": {
   "display_name": "Python 3 (ipykernel)",
   "language": "python",
   "name": "python3"
  },
  "language_info": {
   "codemirror_mode": {
    "name": "ipython",
    "version": 3
   },
   "file_extension": ".py",
   "mimetype": "text/x-python",
   "name": "python",
   "nbconvert_exporter": "python",
   "pygments_lexer": "ipython3",
   "version": "3.9.6"
  }
 },
 "nbformat": 4,
 "nbformat_minor": 5
}
