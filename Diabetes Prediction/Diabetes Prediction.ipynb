{
 "cells": [
  {
   "cell_type": "markdown",
   "id": "6f861505-3258-48d9-916b-5d4a62bcde75",
   "metadata": {},
   "source": [
    "# Diabetes Prediction\n",
    "--------------------------------\n",
    "\n",
    "Name: Logesh.V <br>\n",
    "Email: vlogesh2001@gmail.com <br>\n",
    "\n",
    "--------------------------------"
   ]
  },
  {
   "cell_type": "code",
   "execution_count": 1,
   "id": "81b4c2b2-3c6e-4ea5-a657-27517bad68af",
   "metadata": {},
   "outputs": [],
   "source": [
    "#Import Libraries\n",
    "import numpy as np\n",
    "import pandas as pd\n",
    "from sklearn.model_selection import train_test_split\n",
    "from sklearn.preprocessing import StandardScaler\n",
    "from sklearn.linear_model import LogisticRegression\n",
    "from sklearn.neighbors import KNeighborsClassifier\n",
    "from sklearn.tree import DecisionTreeClassifier\n",
    "from sklearn.svm import SVC\n",
    "from sklearn.naive_bayes import GaussianNB\n",
    "from sklearn.metrics import accuracy_score, confusion_matrix"
   ]
  },
  {
   "cell_type": "markdown",
   "id": "fc7fd82f-fc98-4e6d-b6ea-20081d7aaff2",
   "metadata": {},
   "source": [
    "<br>Reading the data csv file as dataframe and printing first 5 rows"
   ]
  },
  {
   "cell_type": "code",
   "execution_count": 2,
   "id": "95ef6a3c-ede8-45f0-957e-e3da845ffc67",
   "metadata": {},
   "outputs": [
    {
     "name": "stdout",
     "output_type": "stream",
     "text": [
      "(768, 9)\n"
     ]
    },
    {
     "data": {
      "text/html": [
       "<div>\n",
       "<style scoped>\n",
       "    .dataframe tbody tr th:only-of-type {\n",
       "        vertical-align: middle;\n",
       "    }\n",
       "\n",
       "    .dataframe tbody tr th {\n",
       "        vertical-align: top;\n",
       "    }\n",
       "\n",
       "    .dataframe thead th {\n",
       "        text-align: right;\n",
       "    }\n",
       "</style>\n",
       "<table border=\"1\" class=\"dataframe\">\n",
       "  <thead>\n",
       "    <tr style=\"text-align: right;\">\n",
       "      <th></th>\n",
       "      <th>Pregnancies</th>\n",
       "      <th>Glucose</th>\n",
       "      <th>BloodPressure</th>\n",
       "      <th>SkinThickness</th>\n",
       "      <th>Insulin</th>\n",
       "      <th>BMI</th>\n",
       "      <th>DiabetesPedigreeFunction</th>\n",
       "      <th>Age</th>\n",
       "      <th>Outcome</th>\n",
       "    </tr>\n",
       "  </thead>\n",
       "  <tbody>\n",
       "    <tr>\n",
       "      <th>0</th>\n",
       "      <td>6</td>\n",
       "      <td>148</td>\n",
       "      <td>72</td>\n",
       "      <td>35</td>\n",
       "      <td>0</td>\n",
       "      <td>33.6</td>\n",
       "      <td>0.627</td>\n",
       "      <td>50</td>\n",
       "      <td>1</td>\n",
       "    </tr>\n",
       "    <tr>\n",
       "      <th>1</th>\n",
       "      <td>1</td>\n",
       "      <td>85</td>\n",
       "      <td>66</td>\n",
       "      <td>29</td>\n",
       "      <td>0</td>\n",
       "      <td>26.6</td>\n",
       "      <td>0.351</td>\n",
       "      <td>31</td>\n",
       "      <td>0</td>\n",
       "    </tr>\n",
       "    <tr>\n",
       "      <th>2</th>\n",
       "      <td>8</td>\n",
       "      <td>183</td>\n",
       "      <td>64</td>\n",
       "      <td>0</td>\n",
       "      <td>0</td>\n",
       "      <td>23.3</td>\n",
       "      <td>0.672</td>\n",
       "      <td>32</td>\n",
       "      <td>1</td>\n",
       "    </tr>\n",
       "    <tr>\n",
       "      <th>3</th>\n",
       "      <td>1</td>\n",
       "      <td>89</td>\n",
       "      <td>66</td>\n",
       "      <td>23</td>\n",
       "      <td>94</td>\n",
       "      <td>28.1</td>\n",
       "      <td>0.167</td>\n",
       "      <td>21</td>\n",
       "      <td>0</td>\n",
       "    </tr>\n",
       "    <tr>\n",
       "      <th>4</th>\n",
       "      <td>0</td>\n",
       "      <td>137</td>\n",
       "      <td>40</td>\n",
       "      <td>35</td>\n",
       "      <td>168</td>\n",
       "      <td>43.1</td>\n",
       "      <td>2.288</td>\n",
       "      <td>33</td>\n",
       "      <td>1</td>\n",
       "    </tr>\n",
       "  </tbody>\n",
       "</table>\n",
       "</div>"
      ],
      "text/plain": [
       "   Pregnancies  Glucose  BloodPressure  SkinThickness  Insulin   BMI  \\\n",
       "0            6      148             72             35        0  33.6   \n",
       "1            1       85             66             29        0  26.6   \n",
       "2            8      183             64              0        0  23.3   \n",
       "3            1       89             66             23       94  28.1   \n",
       "4            0      137             40             35      168  43.1   \n",
       "\n",
       "   DiabetesPedigreeFunction  Age  Outcome  \n",
       "0                     0.627   50        1  \n",
       "1                     0.351   31        0  \n",
       "2                     0.672   32        1  \n",
       "3                     0.167   21        0  \n",
       "4                     2.288   33        1  "
      ]
     },
     "execution_count": 2,
     "metadata": {},
     "output_type": "execute_result"
    }
   ],
   "source": [
    "df = pd.read_csv(\"diabetes.csv\")\n",
    "print(df.shape)\n",
    "no_of_features = df.shape[1]  #finding no.of feature columns\n",
    "df.head()"
   ]
  },
  {
   "cell_type": "markdown",
   "id": "adf8d278-d603-4f4e-8af4-ea5249add3a3",
   "metadata": {},
   "source": [
    "<br>Converting Dataframe to Numpy Arrays, so it would be numerical values instead of string</br>\n",
    "<br>X -> input data features\n",
    "<br>Y -> input data classification</br>"
   ]
  },
  {
   "cell_type": "code",
   "execution_count": 3,
   "id": "a5db0a62-24ea-445d-8559-a09b4e6f0a4e",
   "metadata": {},
   "outputs": [
    {
     "name": "stdout",
     "output_type": "stream",
     "text": [
      "(768, 8) \t (768,)\n"
     ]
    }
   ],
   "source": [
    "X = df.iloc[:,0:no_of_features-1].values\n",
    "Y = df.iloc[:,no_of_features-1].values\n",
    "\n",
    "print(X.shape, \"\\t\", Y.shape)"
   ]
  },
  {
   "cell_type": "markdown",
   "id": "03b51c36-79e7-4409-869c-e0a55bd39d69",
   "metadata": {},
   "source": [
    "<br> **As we can see the dataset has different ranges, we need to scale out all the features to common range**"
   ]
  },
  {
   "cell_type": "code",
   "execution_count": 4,
   "id": "d7143893-5d21-4b4d-916f-af2287918c5c",
   "metadata": {},
   "outputs": [
    {
     "name": "stdout",
     "output_type": "stream",
     "text": [
      "X data: \n",
      " [[  6.   148.    72.   ...  33.6    0.63  50.  ]\n",
      " [  1.    85.    66.   ...  26.6    0.35  31.  ]\n",
      " [  8.   183.    64.   ...  23.3    0.67  32.  ]\n",
      " ...\n",
      " [  5.   121.    72.   ...  26.2    0.24  30.  ]\n",
      " [  1.   126.    60.   ...  30.1    0.35  47.  ]\n",
      " [  1.    93.    70.   ...  30.4    0.32  23.  ]]\n",
      "\n",
      " Scaled X data: \n",
      " [[ 0.64  0.85  0.15 ...  0.2   0.47  1.43]\n",
      " [-0.84 -1.12 -0.16 ... -0.68 -0.37 -0.19]\n",
      " [ 1.23  1.94 -0.26 ... -1.1   0.6  -0.11]\n",
      " ...\n",
      " [ 0.34  0.    0.15 ... -0.74 -0.69 -0.28]\n",
      " [-0.84  0.16 -0.47 ... -0.24 -0.37  1.17]\n",
      " [-0.84 -0.87  0.05 ... -0.2  -0.47 -0.87]]\n"
     ]
    }
   ],
   "source": [
    "np.set_printoptions(precision=2, suppress=True, threshold=25) #changing printing options\n",
    "\n",
    "print(\"X data: \\n\", X)\n",
    "sc = StandardScaler()\n",
    "X_sc = sc.fit_transform(X)\n",
    "print(\"\\n Scaled X data: \\n\", X_sc)"
   ]
  },
  {
   "cell_type": "markdown",
   "id": "fcdd0b08-fea7-4c6c-bce1-dba1350a36e4",
   "metadata": {},
   "source": [
    "<br>Spliting the dataset into Train Data and Test Data based on some ratio"
   ]
  },
  {
   "cell_type": "code",
   "execution_count": 5,
   "id": "ec186ace-3366-4c01-a7e5-04d9169526a4",
   "metadata": {},
   "outputs": [
    {
     "name": "stdout",
     "output_type": "stream",
     "text": [
      "Train Set Dimensions:\n",
      " (652, 8) \n",
      " (652,)\n",
      "\n",
      "Test Set Dimensions:\n",
      " (116, 8) \n",
      " (116,)\n"
     ]
    }
   ],
   "source": [
    "X_train, X_test, Y_train,Y_test = train_test_split(X_sc, Y, test_size=0.15, random_state=0)\n",
    "print(\"Train Set Dimensions:\\n\", X_train.shape, \"\\n\", Y_train.shape)\n",
    "print(\"\\nTest Set Dimensions:\\n\", X_test.shape, \"\\n\", Y_test.shape)"
   ]
  },
  {
   "cell_type": "markdown",
   "id": "d8d1122b-e6a6-4690-bed9-13da906e9524",
   "metadata": {},
   "source": [
    "## Logistic Regression Classification"
   ]
  },
  {
   "cell_type": "code",
   "execution_count": 6,
   "id": "6027478e-5f0a-42c2-8e3e-efc153e54fb3",
   "metadata": {},
   "outputs": [
    {
     "name": "stdout",
     "output_type": "stream",
     "text": [
      "(Logistic Regression) Accuracy: 82.75862068965517 %\n",
      "\n",
      "[Prediction | Actual results]:\n",
      "[[1 1]\n",
      " [0 0]\n",
      " [0 0]\n",
      " ...\n",
      " [0 1]\n",
      " [1 1]\n",
      " [1 1]]\n",
      "\n",
      " Confusion Matrix:\n",
      " [[71  7]\n",
      " [13 25]]\n",
      "\n",
      "Total Correct Prediction = 96 / 116\n"
     ]
    }
   ],
   "source": [
    "#1-> Logistic Regression (This is classified based on 2 Outcome classifaction here)\n",
    "\n",
    "log = LogisticRegression()\n",
    "log.fit(X_train, Y_train)\n",
    "Y_pred = log.predict(X_test)\n",
    "CM = confusion_matrix(Y_test, Y_pred)\n",
    "\n",
    "print(\"(Logistic Regression) Accuracy:\", accuracy_score(Y_test, Y_pred)*100, \"%\")\n",
    "print(\"\\n[Prediction | Actual results]:\")\n",
    "print(np.concatenate((Y_pred.reshape(-1,1), Y_test.reshape(-1,1)), axis =1))\n",
    "print(\"\\n Confusion Matrix:\\n\", CM)\n",
    "print(\"\\nTotal Correct Prediction =\", CM.trace(), \"/\", X_test.shape[0])"
   ]
  },
  {
   "cell_type": "markdown",
   "id": "f85cf0a6-8a71-4f89-b44e-7e004c285c56",
   "metadata": {},
   "source": [
    "## **K**-Nearest Neighbors Classification"
   ]
  },
  {
   "cell_type": "code",
   "execution_count": 7,
   "id": "7879e538-bb38-405c-973e-c76795acc0e6",
   "metadata": {},
   "outputs": [
    {
     "name": "stdout",
     "output_type": "stream",
     "text": [
      "K-Value = 1 \t\tAccuracy: 68.96551724137932 %\n",
      "K-Value = 2 \t\tAccuracy: 74.13793103448276 %\n",
      "K-Value = 3 \t\tAccuracy: 75.86206896551724 %\n",
      "K-Value = 4 \t\tAccuracy: 75.0 %\n",
      "K-Value = 5 \t\tAccuracy: 82.75862068965517 %\n",
      "K-Value = 6 \t\tAccuracy: 80.17241379310344 %\n",
      "K-Value = 7 \t\tAccuracy: 78.44827586206897 %\n",
      "K-Value = 8 \t\tAccuracy: 76.72413793103449 %\n",
      "\n",
      "K-Neighbhor: 5 \t\tAccuracy: 82.75862068965517 %\n",
      "\n",
      "[Prediction | Actual results]:\n",
      "[[1 1]\n",
      " [0 0]\n",
      " [0 0]\n",
      " ...\n",
      " [1 1]\n",
      " [1 1]\n",
      " [1 1]]\n",
      "\n",
      " Confusion Matrix:\n",
      " [[68 10]\n",
      " [17 21]]\n",
      "\n",
      "Total Correct Prediction = 89 / 116\n"
     ]
    }
   ],
   "source": [
    "#2-> KNN Classification\n",
    "#The best accuracy is usually in the middle not too high or not too low, so it needs to be found out by hit and trial\n",
    "acc = 0\n",
    "K = 0\n",
    "for i in range(1,no_of_features):    \n",
    "    knn = KNeighborsClassifier(n_neighbors=i)\n",
    "    knn.fit(X_train, Y_train)\n",
    "    Y_pred = knn.predict(X_test)\n",
    "    \n",
    "    print(\"K-Value =\", i, \"\\t\\tAccuracy:\", accuracy_score(Y_test, Y_pred)*100, \"%\")\n",
    "    \n",
    "    if(accuracy_score(Y_test, Y_pred)*100 > acc):\n",
    "        acc = accuracy_score(Y_test, Y_pred)*100\n",
    "        Y_pred_final = Y_pred\n",
    "        K = i\n",
    "\n",
    "print(\"\\n(KNN-classification) K-Neighbhor:\", K, \"\\t\\tAccuracy:\", accuracy_score(Y_test, Y_pred_final)*100, \"%\")\n",
    "print(\"\\n[Prediction | Actual results]:\")\n",
    "print(np.concatenate((Y_pred_final.reshape(-1,1), Y_test.reshape(-1,1)), axis =1))\n",
    "CM = confusion_matrix(Y_test, Y_pred)\n",
    "print(\"\\n Confusion Matrix:\\n\", CM)\n",
    "print(\"\\nTotal Correct Prediction =\", CM.trace(), \"/\", X_test.shape[0])"
   ]
  },
  {
   "cell_type": "markdown",
   "id": "5fe2d032-cdc7-4e17-bbb8-838b04723c6f",
   "metadata": {},
   "source": [
    "## Decision Tree Classification"
   ]
  },
  {
   "cell_type": "code",
   "execution_count": 8,
   "id": "ffaff7f5-c079-40b7-afa4-4371307f22ea",
   "metadata": {},
   "outputs": [
    {
     "name": "stdout",
     "output_type": "stream",
     "text": [
      "(Decision Tree) Accuracy: 68.10344827586206 %\n",
      "\n",
      "[Prediction | Actual results]:\n",
      "[[1 1]\n",
      " [0 0]\n",
      " [0 0]\n",
      " ...\n",
      " [1 1]\n",
      " [1 1]\n",
      " [1 1]]\n",
      "\n",
      " Confusion Matrix:\n",
      " [[55 23]\n",
      " [14 24]]\n",
      "\n",
      "Total Correct Prediction = 79 / 116\n"
     ]
    }
   ],
   "source": [
    "#3-> Decision Tree\n",
    "\n",
    "dt = DecisionTreeClassifier()\n",
    "dt.fit(X_train, Y_train)\n",
    "Y_pred = dt.predict(X_test)\n",
    "CM = confusion_matrix(Y_test, Y_pred)\n",
    "\n",
    "print(\"(Decision Tree) Accuracy:\", accuracy_score(Y_test, Y_pred)*100, \"%\")\n",
    "print(\"\\n[Prediction | Actual results]:\")\n",
    "print(np.concatenate((Y_pred.reshape(-1,1), Y_test.reshape(-1,1)), axis =1))\n",
    "print(\"\\n Confusion Matrix:\\n\", CM)\n",
    "print(\"\\nTotal Correct Prediction =\", CM.trace(), \"/\", X_test.shape[0])"
   ]
  },
  {
   "cell_type": "markdown",
   "id": "8f402059-48bd-463e-9b69-0b14ca67e028",
   "metadata": {},
   "source": [
    "## SVM (Linear & **RBF**) Classification"
   ]
  },
  {
   "cell_type": "code",
   "execution_count": 9,
   "id": "aa1c0c55-3532-4929-aab7-86533528a690",
   "metadata": {},
   "outputs": [
    {
     "name": "stdout",
     "output_type": "stream",
     "text": [
      "(SVC - 'linear') Accuracy: 82.75862068965517 %\n",
      "\n",
      "[Prediction | Actual results]:\n",
      "[[1 1]\n",
      " [0 0]\n",
      " [0 0]\n",
      " ...\n",
      " [0 1]\n",
      " [1 1]\n",
      " [1 1]]\n",
      "\n",
      " Confusion Matrix:\n",
      " [[71  7]\n",
      " [13 25]]\n",
      "\n",
      "Total Correct Prediction = 96\n",
      "\n",
      "\n",
      "\n",
      "(SVC - 'rbf') Accuracy: 79.3103448275862 %\n",
      "\n",
      "[Prediction | Actual results]:\n",
      "[[1 1]\n",
      " [0 0]\n",
      " [0 0]\n",
      " ...\n",
      " [1 1]\n",
      " [0 1]\n",
      " [1 1]]\n",
      "\n",
      " Confusion Matrix:\n",
      " [[68 10]\n",
      " [14 24]]\n",
      "\n",
      "Total Correct Prediction = 92 / 116\n"
     ]
    }
   ],
   "source": [
    "#3-> SVM\n",
    "\n",
    "svc = SVC(kernel = 'linear', random_state = 0)\n",
    "svc.fit(X_train, Y_train)\n",
    "Y_pred = svc.predict(X_test)\n",
    "\n",
    "print(\"(SVC - 'linear') Accuracy:\", accuracy_score(Y_test, Y_pred)*100, \"%\")\n",
    "print(\"\\n[Prediction | Actual results]:\")\n",
    "print(np.concatenate((Y_pred.reshape(-1,1), Y_test.reshape(-1,1)), axis =1))\n",
    "CM = confusion_matrix(Y_test, Y_pred)\n",
    "print(\"\\n Confusion Matrix:\\n\", CM)\n",
    "print(\"\\nTotal Correct Prediction =\", CM.trace())\n",
    "\n",
    "\n",
    "svc = SVC(kernel = 'rbf', random_state = 0)\n",
    "svc.fit(X_train, Y_train)\n",
    "Y_pred = svc.predict(X_test)\n",
    "\n",
    "print(\"\\n\\n\\n(SVC - 'rbf') Accuracy:\", accuracy_score(Y_test, Y_pred)*100, \"%\")\n",
    "print(\"\\n[Prediction | Actual results]:\")\n",
    "print(np.concatenate((Y_pred.reshape(-1,1), Y_test.reshape(-1,1)), axis =1))\n",
    "CM = confusion_matrix(Y_test, Y_pred)\n",
    "print(\"\\n Confusion Matrix:\\n\", CM)\n",
    "print(\"\\nTotal Correct Prediction =\", CM.trace(), \"/\", X_test.shape[0])"
   ]
  },
  {
   "cell_type": "markdown",
   "id": "41995964-8a6d-4b4a-9a1a-9b79d7f42976",
   "metadata": {},
   "source": [
    "## Naive Bayes Classification"
   ]
  },
  {
   "cell_type": "code",
   "execution_count": 10,
   "id": "3e4e5722-b7f7-42b1-bb94-cfbe15ccc60f",
   "metadata": {},
   "outputs": [
    {
     "name": "stdout",
     "output_type": "stream",
     "text": [
      "(Naive Bayes) Accuracy: 80.17241379310344 %\n",
      "\n",
      "[Prediction | Actual results]:\n",
      "[[1 1]\n",
      " [0 0]\n",
      " [0 0]\n",
      " ...\n",
      " [1 1]\n",
      " [1 1]\n",
      " [1 1]]\n",
      "\n",
      " Confusion Matrix:\n",
      " [[67 11]\n",
      " [12 26]]\n",
      "\n",
      "Total Correct Prediction = 93 / 116\n"
     ]
    }
   ],
   "source": [
    "#4-> Naive Bayes Classification\n",
    "\n",
    "NB = GaussianNB()\n",
    "NB.fit(X_train, Y_train)\n",
    "Y_pred = NB.predict(X_test)\n",
    "CM = confusion_matrix(Y_test, Y_pred)\n",
    "\n",
    "print(\"(Naive Bayes) Accuracy:\", accuracy_score(Y_test, Y_pred)*100, \"%\")\n",
    "print(\"\\n[Prediction | Actual results]:\")\n",
    "print(np.concatenate((Y_pred.reshape(-1,1), Y_test.reshape(-1,1)), axis =1))\n",
    "print(\"\\n Confusion Matrix:\\n\", CM)\n",
    "print(\"\\nTotal Correct Prediction =\", CM.trace(), \"/\", X_test.shape[0])"
   ]
  },
  {
   "cell_type": "markdown",
   "id": "a0438432-58a1-4975-8ea0-d35a57d586de",
   "metadata": {},
   "source": [
    "--------------------------------------------------------------------------------------------------\n",
    "### x---------------------------- Thanking You ----------------------------x\n",
    "--------------------------------------------------------------------------------------------------"
   ]
  }
 ],
 "metadata": {
  "kernelspec": {
   "display_name": "Python 3 (ipykernel)",
   "language": "python",
   "name": "python3"
  },
  "language_info": {
   "codemirror_mode": {
    "name": "ipython",
    "version": 3
   },
   "file_extension": ".py",
   "mimetype": "text/x-python",
   "name": "python",
   "nbconvert_exporter": "python",
   "pygments_lexer": "ipython3",
   "version": "3.9.6"
  }
 },
 "nbformat": 4,
 "nbformat_minor": 5
}
