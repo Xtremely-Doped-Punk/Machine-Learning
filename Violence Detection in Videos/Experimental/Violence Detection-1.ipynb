{
 "cells": [
  {
   "cell_type": "markdown",
   "id": "5027a619-cfef-4f94-a02a-671e18f8c6a1",
   "metadata": {},
   "source": [
    "---\n",
    "---\n",
    "*<h1 align='center'> Violence Detection in Videos </h1>*\n",
    "\n",
    "**<h2 align='center'> Progress - 1 </h2>**\n",
    "\n",
    "---\n",
    "---\n",
    "Name: Logesh.V <br>\n",
    "Email: vlogesh2001@gmail.com <br>\n",
    "DATASETS: \n",
    "- Real Life Violence Situations Dataset: https://www.kaggle.com/datasets/mohamedmustafa/real-life-violence-situations-dataset </br>\n",
    "size: 2GB, 1000-Violence / 1000-NonViolence\n",
    "- Hockey Fight Detection Dataset: https://academictorrents.com/details/38d9ed996a5a75a039b84cf8a137be794e7cee89 </br>\n",
    "size: 212MB, 500-Violence / 500-NonViolence\n",
    "- Movies Fight Detection Dataset: https://academictorrents.com/details/70e0794e2292fc051a13f05ea6f5b6c16f3d3635 </br>\n",
    "size: 734MB, 100-Violence / 100-NonViolence\n",
    "- Violent-Flows - Crowd Violence \\ Non-violence Database: http://www.cslab.openu.ac.il/download/violentflow/ </br>\n",
    "size: 240MB, 146-Violence / 125-NonViolence (links to yt videos are no longer valid in csv files)"
   ]
  },
  {
   "cell_type": "markdown",
   "id": "1e98fd5a-919f-4a53-896a-45de30dc4cfb",
   "metadata": {},
   "source": [
    "### **Importing required packages**"
   ]
  },
  {
   "cell_type": "code",
   "execution_count": 1,
   "id": "6ee66ac1-d53a-4d17-ba96-9eae2e816829",
   "metadata": {},
   "outputs": [],
   "source": [
    "#Import Libraries\n",
    "import pandas as pd\n",
    "import numpy as np\n",
    "import random\n",
    "\n",
    "import matplotlib.pyplot as plt\n",
    "from matplotlib import animation\n",
    "import matplotlib\n",
    "matplotlib.rcParams['animation.embed_limit'] = 2**128\n",
    "matplotlib.rcParams.update({'text.color' : \"blue\"})\n",
    "from IPython.display import HTML\n",
    "\n",
    "import os\n",
    "from tqdm import tqdm # to get progress bars while running\n",
    "import cv2\n",
    "from sklearn.utils import shuffle\n",
    "\n",
    "from tensorflow import keras\n",
    "import tensorflow as tf\n",
    "tf.config.experimental.set_memory_growth(tf.config.list_physical_devices('GPU')[0], True)\n",
    "tf.compat.v1.disable_eager_execution()\n",
    "\n",
    "import warnings\n",
    "warnings.filterwarnings('ignore')"
   ]
  },
  {
   "cell_type": "markdown",
   "id": "3f47bf39-d83f-442e-b063-9ff1a3f59128",
   "metadata": {
    "papermill": {
     "duration": 0.013404,
     "end_time": "2021-10-31T06:54:45.223928",
     "exception": false,
     "start_time": "2021-10-31T06:54:45.210524",
     "status": "completed"
    },
    "tags": []
   },
   "source": [
    "### **Load Premilinary Funtions**"
   ]
  },
  {
   "cell_type": "code",
   "execution_count": 2,
   "id": "e20359fa-f9df-4544-b948-c829b25c0807",
   "metadata": {},
   "outputs": [],
   "source": [
    "# all pre-processing funtions Returns Video converted to list of frames of shape (height, width, channels)\n",
    "\n",
    "def ReadVideo(dim,filename,framerate):\n",
    "    cap = cv2.VideoCapture(filename)\n",
    "    frames = []\n",
    "    total_frames = int(cap.get(cv2.CAP_PROP_FRAME_COUNT))\n",
    "    frame_multiplier = total_frames/framerate\n",
    "    \n",
    "    # Read Video Frames according to req-frames:file-frames ratio\n",
    "    frame_counter = 0\n",
    "    while(cap.isOpened()):\n",
    "        status,frame = cap.read()\n",
    "        if(status):\n",
    "            if(frame_counter%frame_multiplier <= 1):\n",
    "                image = cv2.cvtColor(frame, cv2.COLOR_BGR2RGB) # so we are converting to RGB format\n",
    "                image = cv2.resize(image, (dim[0], dim[1])) # resizing\n",
    "                #image = image/255 # normalization\n",
    "                frames.append(image)\n",
    "            frame_counter = frame_counter + 1;\n",
    "        else:\n",
    "            cap.release()\n",
    "    # returns list of frames (atmost frame-rate)\n",
    "    return frames\n",
    "\n",
    "\n",
    "def ExtractMotion(frames): # need to return a copy, not modify in frame itself\n",
    "    blobs =[]\n",
    "    for i in range(1,len(frames)):\n",
    "        blobs.append(np.absolute(frames[i] - frames[i-1])) # abs diff bet 2 consecutive frames\n",
    "    return blobs\n",
    "\n",
    "\n",
    "def ResizeFrames(frames, outframes):\n",
    "    frame_counter = len(frames)\n",
    "    nt = 1\n",
    "    while(frame_counter!=outframes):\n",
    "        middle = frame_counter//2\n",
    "        if(outframes-frame_counter < 0):\n",
    "            # removing frames\n",
    "            if((frame_counter-outframes)%2==0):\n",
    "                if(frame_counter-1-2*nt < 0):\n",
    "                    nt = nt//2\n",
    "                frames.pop(frame_counter-1-2*nt)\n",
    "                frames.pop(2*nt)\n",
    "            else:\n",
    "                frames.pop(middle)\n",
    "        else:\n",
    "            # add padding of slow-motion effect like\n",
    "            # repeating frames in middle\n",
    "            if((frame_counter-outframes)%2==0):\n",
    "                if(middle+2*nt > frame_counter-1):\n",
    "                    nt = nt//2\n",
    "                frames.insert(middle-2*nt,frames[middle-2*nt])\n",
    "                frames.insert(middle+2*nt+1,frames[middle+2*nt+1])\n",
    "            else:\n",
    "                frames.insert(middle,frames[middle])\n",
    "        nt = nt+1\n",
    "        frame_counter = len(frames)\n",
    "    return frames"
   ]
  },
  {
   "cell_type": "code",
   "execution_count": 3,
   "id": "777517e0-f109-46f6-acdd-63f9087ef40c",
   "metadata": {},
   "outputs": [],
   "source": [
    "# User-defined load data function to read our data folders and label each of the images with \n",
    "# names of class-folder in sequential order\n",
    "def Load_Data(root_dir,*class_folders,need_motions=False):\n",
    "    '''To import the dataset from the directories and preprocess them'''\n",
    "        \n",
    "    # final outputs:\n",
    "    videos=[]\n",
    "    motions=[]\n",
    "    labels=[]\n",
    "    \n",
    "    # iterate through folders in each dataset\n",
    "    for folder in os.listdir(root_dir):\n",
    "        if(folder in class_folders):\n",
    "            \n",
    "            label = class_folders.index(folder)\n",
    "            \n",
    "            # iterate through each image in folder\n",
    "            for file in tqdm(os.listdir(os.path.join(root_dir, folder))):\n",
    "                \n",
    "                # get pathname of each image\n",
    "                vid_path = os.path.join(os.path.join(root_dir, folder), file)\n",
    "               \n",
    "                # Open, rescale, pre-process(motion features), re\n",
    "                video = ReadVideo(frame_size,vid_path, max_frame_rate)\n",
    "                if (need_motions == True):\n",
    "                    motion = ExtractMotion(video) # motion blobs --> abs diff bet 2 consecutive frames\n",
    "                    motion = ResizeFrames(motion, output_frames)\n",
    "                \n",
    "                video = ResizeFrames(video, output_frames)\n",
    "                # Normalization is done in Model to avoid memory wasted \n",
    "                # by numpy as it turns data to float from int8\n",
    "                    \n",
    "                # Append the image and its corresponding label to the output\n",
    "                videos.append(video)\n",
    "                if (need_motions == True):\n",
    "                    motions.append(motion)\n",
    "                labels.append(label)\n",
    "                \n",
    "            print(root_dir+\"... Loading-Class\", label, \"-->\", folder, \"over.\")\n",
    "                \n",
    "    # Converting the data type of the list\n",
    "    if (need_motions == True):\n",
    "        return np.array(videos), np.array(motions), np.array(labels, dtype = 'int8')\n",
    "    else:\n",
    "        return np.array(videos), np.array(labels, dtype = 'int8')"
   ]
  },
  {
   "cell_type": "code",
   "execution_count": 4,
   "id": "95dfb04a-503b-4c26-bb1d-4cb8c2467274",
   "metadata": {},
   "outputs": [],
   "source": [
    "def Combine_All(*VideosLabels):\n",
    "    combine = []\n",
    "    for x in range(len(VideosLabels[0])):\n",
    "        combine.append(np.concatenate(tuple(i[x] for i in VideosLabels),axis=0))\n",
    "    return tuple(combine)"
   ]
  },
  {
   "cell_type": "markdown",
   "id": "0497e856-cf96-46e1-b91f-2beaad0a763e",
   "metadata": {
    "papermill": {
     "duration": 0.013404,
     "end_time": "2021-10-31T06:54:45.223928",
     "exception": false,
     "start_time": "2021-10-31T06:54:45.210524",
     "status": "completed"
    },
    "tags": []
   },
   "source": [
    "### **Data Loading and Pre-Processing**"
   ]
  },
  {
   "cell_type": "markdown",
   "id": "f896052c-89b9-4be8-9a29-e36aaebf27ac",
   "metadata": {},
   "source": [
    "The proposed AlexNet CNN architecture is presented in Figure 2. In the proposed research work, image input layer is defined as a pre-processing layer where the input frames are down-sampled to 227×227 in terms of spatial resolution to reduce the computational cost of our deep learning.\n",
    "framework."
   ]
  },
  {
   "cell_type": "code",
   "execution_count": 5,
   "id": "cf0e3216-97cd-49dc-8874-96e5326636c0",
   "metadata": {},
   "outputs": [],
   "source": [
    "class_names = [\"Violence\",\"NonViolence\"]\n",
    "\n",
    "# default Frame Size for all videos \n",
    "frame_size = (227,227,3) # 227x227 for alexnet\n",
    "\n",
    "max_frame_rate = 60 # max no.of frames taken while reading in one video \n",
    "output_frames = 40 # final no.of frames after extracting motion features in pre-process\n",
    "\n",
    "# keep max_frame_rate > out_frames for better results"
   ]
  },
  {
   "cell_type": "code",
   "execution_count": 6,
   "id": "623f10ca-045f-44f9-830b-66011b2adaa4",
   "metadata": {},
   "outputs": [
    {
     "name": "stderr",
     "output_type": "stream",
     "text": [
      "100%|████████████████████████████████████████████████████████████████████████████████| 100/100 [00:10<00:00,  9.65it/s]\n"
     ]
    },
    {
     "name": "stdout",
     "output_type": "stream",
     "text": [
      "Data/Peliculas... Loading-Class 0 --> fights over.\n"
     ]
    },
    {
     "name": "stderr",
     "output_type": "stream",
     "text": [
      "100%|████████████████████████████████████████████████████████████████████████████████| 101/101 [00:06<00:00, 16.21it/s]\n"
     ]
    },
    {
     "name": "stdout",
     "output_type": "stream",
     "text": [
      "Data/Peliculas... Loading-Class 1 --> noFights over.\n"
     ]
    },
    {
     "name": "stderr",
     "output_type": "stream",
     "text": [
      "100%|██████████████████████████████████████████████████████████████████████████████████| 25/25 [00:00<00:00, 25.29it/s]\n"
     ]
    },
    {
     "name": "stdout",
     "output_type": "stream",
     "text": [
      "Data/movies/1... Loading-Class 1 --> NonViolence over.\n"
     ]
    },
    {
     "name": "stderr",
     "output_type": "stream",
     "text": [
      "100%|██████████████████████████████████████████████████████████████████████████████████| 25/25 [00:00<00:00, 25.92it/s]\n"
     ]
    },
    {
     "name": "stdout",
     "output_type": "stream",
     "text": [
      "Data/movies/1... Loading-Class 0 --> Violence over.\n"
     ]
    },
    {
     "name": "stderr",
     "output_type": "stream",
     "text": [
      "100%|██████████████████████████████████████████████████████████████████████████████████| 25/25 [00:00<00:00, 28.33it/s]\n"
     ]
    },
    {
     "name": "stdout",
     "output_type": "stream",
     "text": [
      "Data/movies/2... Loading-Class 1 --> NonViolence over.\n"
     ]
    },
    {
     "name": "stderr",
     "output_type": "stream",
     "text": [
      "100%|██████████████████████████████████████████████████████████████████████████████████| 25/25 [00:01<00:00, 24.51it/s]\n"
     ]
    },
    {
     "name": "stdout",
     "output_type": "stream",
     "text": [
      "Data/movies/2... Loading-Class 0 --> Violence over.\n"
     ]
    },
    {
     "name": "stderr",
     "output_type": "stream",
     "text": [
      "100%|██████████████████████████████████████████████████████████████████████████████████| 25/25 [00:00<00:00, 28.47it/s]\n"
     ]
    },
    {
     "name": "stdout",
     "output_type": "stream",
     "text": [
      "Data/movies/3... Loading-Class 1 --> NonViolence over.\n"
     ]
    },
    {
     "name": "stderr",
     "output_type": "stream",
     "text": [
      "100%|██████████████████████████████████████████████████████████████████████████████████| 25/25 [00:01<00:00, 24.55it/s]\n"
     ]
    },
    {
     "name": "stdout",
     "output_type": "stream",
     "text": [
      "Data/movies/3... Loading-Class 0 --> Violence over.\n"
     ]
    },
    {
     "name": "stderr",
     "output_type": "stream",
     "text": [
      "100%|██████████████████████████████████████████████████████████████████████████████████| 24/24 [00:00<00:00, 26.99it/s]\n"
     ]
    },
    {
     "name": "stdout",
     "output_type": "stream",
     "text": [
      "Data/movies/4... Loading-Class 1 --> NonViolence over.\n"
     ]
    },
    {
     "name": "stderr",
     "output_type": "stream",
     "text": [
      "100%|██████████████████████████████████████████████████████████████████████████████████| 24/24 [00:00<00:00, 26.65it/s]\n"
     ]
    },
    {
     "name": "stdout",
     "output_type": "stream",
     "text": [
      "Data/movies/4... Loading-Class 0 --> Violence over.\n"
     ]
    },
    {
     "name": "stderr",
     "output_type": "stream",
     "text": [
      "100%|██████████████████████████████████████████████████████████████████████████████████| 24/24 [00:00<00:00, 27.21it/s]\n"
     ]
    },
    {
     "name": "stdout",
     "output_type": "stream",
     "text": [
      "Data/movies/5... Loading-Class 1 --> NonViolence over.\n"
     ]
    },
    {
     "name": "stderr",
     "output_type": "stream",
     "text": [
      "100%|██████████████████████████████████████████████████████████████████████████████████| 24/24 [00:00<00:00, 25.57it/s]\n"
     ]
    },
    {
     "name": "stdout",
     "output_type": "stream",
     "text": [
      "Data/movies/5... Loading-Class 0 --> Violence over.\n"
     ]
    },
    {
     "name": "stderr",
     "output_type": "stream",
     "text": [
      "100%|██████████████████████████████████████████████████████████████████████████████████| 21/21 [00:01<00:00, 12.81it/s]\n"
     ]
    },
    {
     "name": "stdout",
     "output_type": "stream",
     "text": [
      "Data/21VideosForDetection... Loading-Class 0 --> ForTal over.\n"
     ]
    }
   ],
   "source": [
    "# Loading Data - Train-Test videos\n",
    "# if running in kaggle use: Load(kaggle_dir+\"folder_dir\",**class_folders)\n",
    "#kaggle_dir = '/kaggle/input/violence-detection-in-videos'\n",
    "train_videos, train_motions, train_labels = Combine_All(Load_Data('Data/Peliculas', 'fights', 'noFights',need_motions=True),\n",
    "                                                        Load_Data('Data/movies/1', 'Violence', 'NonViolence',need_motions=True),\n",
    "                                                        Load_Data('Data/movies/2', 'Violence', 'NonViolence',need_motions=True),\n",
    "                                                        Load_Data('Data/movies/3', 'Violence', 'NonViolence',need_motions=True),\n",
    "                                                        Load_Data('Data/movies/4', 'Violence', 'NonViolence',need_motions=True),\n",
    "                                                        Load_Data('Data/movies/5', 'Violence', 'NonViolence',need_motions=True),\n",
    "                                                        Load_Data('Data/21VideosForDetection', 'ForTal',need_motions=True))"
   ]
  },
  {
   "cell_type": "markdown",
   "id": "91dfa138-1a59-4cec-b40d-a6d64f0685b3",
   "metadata": {},
   "source": [
    "### **Data Visualization**"
   ]
  },
  {
   "cell_type": "code",
   "execution_count": 7,
   "id": "1e9178e6-7fbf-44ec-b424-4a88e7ba0062",
   "metadata": {},
   "outputs": [
    {
     "name": "stdout",
     "output_type": "stream",
     "text": [
      "Train-Data: Labels and their count :\n",
      " Counter({0: 244, 1: 224})\n"
     ]
    },
    {
     "data": {
      "image/png": "[encoded data removed]",
      "text/plain": [
       "<Figure size 360x360 with 1 Axes>"
      ]
     },
     "metadata": {
      "needs_background": "light"
     },
     "output_type": "display_data"
    }
   ],
   "source": [
    "from collections import Counter\n",
    "label_count = Counter(train_labels)\n",
    "print(f'Train-Data: Labels and their count :\\n {label_count}')\n",
    "\n",
    "x = list(label_count.keys())\n",
    "y = list(label_count.values())\n",
    "\n",
    "fig = plt.figure(figsize = (5,5))\n",
    "plt.bar(x,y,color=['red','green'],  edgecolor='black')\n",
    "plt.title('Train-Data: Label Counts')\n",
    "plt.xticks([0,1],class_names)\n",
    "plt.xlabel('Labels')\n",
    "plt.ylabel('Count')\n",
    "plt.show()"
   ]
  },
  {
   "cell_type": "code",
   "execution_count": 7,
   "id": "cd0eb716-6b4a-4fb8-b6ec-75077667256d",
   "metadata": {},
   "outputs": [],
   "source": [
    "from sklearn.model_selection import train_test_split\n",
    "train_videos,test_videos,train_motions,test_motions,train_labels,test_labels = train_test_split(train_videos,\n",
    "                                                                                                train_motions,\n",
    "                                                                                                train_labels,\n",
    "                                                                                                test_size=.225,\n",
    "                                                                                                shuffle=True)"
   ]
  },
  {
   "cell_type": "code",
   "execution_count": 8,
   "id": "5b22f407-7c4b-479e-bc64-bd861ce6dbdc",
   "metadata": {},
   "outputs": [
    {
     "name": "stdout",
     "output_type": "stream",
     "text": [
      "Shape of Train-Videos Data : (362, 40, 227, 227, 3)\n",
      "Shape of Test-Videos Data : (106, 40, 227, 227, 3)\n",
      "Shape of Train-Motions Data : (362, 40, 227, 227, 3)\n",
      "Shape of Test-Motions Data : (106, 40, 227, 227, 3)\n"
     ]
    }
   ],
   "source": [
    "print(f'Shape of Train-Videos Data : {train_videos.shape}')\n",
    "print(f'Shape of Test-Videos Data : {test_videos.shape}')\n",
    "print(f'Shape of Train-Motions Data : {train_motions.shape}')\n",
    "print(f'Shape of Test-Motions Data : {test_motions.shape}')"
   ]
  },
  {
   "cell_type": "code",
   "execution_count": 10,
   "id": "227d012b-7d31-4a8a-ad2d-ad2eb30b7f58",
   "metadata": {},
   "outputs": [],
   "source": [
    "def dis_rand_exp(videos, motions, labels, x=2, y=6):\n",
    "    \n",
    "    fig = plt.figure(figsize = (20,15))\n",
    "    fig.suptitle(\"Rand-Exps of dataset Videos --> Motion\", fontsize=32)\n",
    "    ax = []\n",
    "    rand = []\n",
    "    vp = []\n",
    "    mp = []\n",
    "    for i in range(0,2*x*y,2):\n",
    "        # create a figure and axes\n",
    "        ax.append(plt.subplot(2*x,y,i+1))\n",
    "        ax.append(plt.subplot(2*x,y,i+2))\n",
    "        \n",
    "        # create objects that will change in the animation. These are\n",
    "        # initially empty, and will be given new values for each frame\n",
    "        # in the animation.\n",
    "        rand.append(random.randint(0,len(labels)))\n",
    "        vp.append(ax[i].imshow(videos[rand[-1]][0,:,:,:], cmap='gray'))\n",
    "        mp.append(ax[i+1].imshow(motions[rand[-1]][0,:,:,:], cmap='gray'))\n",
    "        ax[i].set_title(class_names[labels[rand[-1]]], fontsize=18)\n",
    "        ax[i+1].set_title(\"Motion Blob\", fontsize=18)\n",
    "    \n",
    "    # set axes\n",
    "    for a in ax:\n",
    "        a.set_xticks([])\n",
    "        a.set_yticks([])\n",
    "        a.axis('off')\n",
    "    fig.subplots_adjust(left=0, bottom=0.1, right=0.1, top=0.2, wspace=0, hspace=0.5)\n",
    "    fig.tight_layout()\n",
    "    plt.close()\n",
    "    \n",
    "    # defining animation function\n",
    "    def animate(i):\n",
    "        for j in range(0,x*y):\n",
    "            vp[j].set_data(videos[rand[j]][i,:,:,:])\n",
    "            mp[j].set_data(motions[rand[j]][i,:,:,:])\n",
    "        return vp,mp\n",
    "    \n",
    "    anim = animation.FuncAnimation(fig, animate, frames=output_frames, interval=60)\n",
    "    return anim"
   ]
  },
  {
   "cell_type": "code",
   "execution_count": null,
   "id": "e6448563-2f6a-48f4-9c17-e29ed0c68bbf",
   "metadata": {
    "tags": []
   },
   "outputs": [],
   "source": [
    "HTML(dis_rand_exp(train_videos, train_motions, train_labels).to_jshtml())\n",
    "# Output not shown, as it makes the file size too big, \n",
    "# its few frames of video in playback input representation after resp data preprocessing"
   ]
  },
  {
   "cell_type": "markdown",
   "id": "931ff618-979f-4491-a80d-903a2c093337",
   "metadata": {},
   "source": [
    "---\n",
    "*<h1 align='center'> Deep Learning Models </h1>*\n",
    "\n",
    "---"
   ]
  },
  {
   "cell_type": "markdown",
   "id": "86ddcded-1343-46fb-8d92-0e5c45826d10",
   "metadata": {},
   "source": [
    "Adadelta optimization is a stochastic gradient descent method that is based on adaptive learning rate per dimension to address two drawbacks:\n",
    "\n",
    "- The continual decay of learning rates throughout training.\n",
    "- The need for a manually selected global learning rate. </br>\n",
    "\n",
    "Adadelta is a more robust extension of Adagrad that adapts learning rates based on a moving window of gradient updates, instead of accumulating all past gradients. This way, Adadelta continues learning even when many updates have been done. Compared to Adagrad, in the original version of Adadelta you don't have to set an initial learning rate. In this version, the initial learning rate can be set, as in most other Keras optimizers.</br>\n",
    "\n",
    " we will use return_sequences = True, so the output should be (samples, frames, categories), but since the model has six independent outputs, the output is (categories, samples, frames, 1), more accurately (6, samples, 1000, 1). The impact of using return_sequences is that the model will classify each frame in one category.</br>\n",
    " \n",
    "### ConvLSTM layer input\n",
    "The LSTM cell input is a set of data over time, that is, a 3D tensor with shape (samples, time_steps, features). The Convolution layer input is a set of images as a 4D tensor with shape (samples, channels, rows, cols). The input of a ConvLSTM is a set of images over time as a 5D tensor with shape (samples, time_steps, channels, rows, cols).\n",
    "### ConvLSTM layer output\n",
    "The LSTM cell output depends on the return_sequences atribute. When set True, the output is a sequence over time (one output for each input). In this case, the output is a 3D tensor with shape (samples, time_steps, features). When return_sequences is set False (the default), the output is the last value of the sequence, that is, a 2D tensor with shape (samples, features).</br>\n",
    "The Convolution layer output is a set of images as a 4D tensor with shape (samples, filters, rows, cols).</br>\n",
    "The ConvLSTM layer output is a combination of a Convolution and a LSTM output. Just like the LSTM, if return_sequences = True, then it returns a sequence as a 5D tensor with shape (samples, time_steps, filters, rows, cols). On the other hand, if return_sequences = False, then it returns only the last value of the sequence as a 4D tensor with shape (samples, filters, rows, cols).</br>"
   ]
  },
  {
   "cell_type": "code",
   "execution_count": null,
   "id": "0e793630-3117-437f-a953-9c10c46de6c7",
   "metadata": {},
   "outputs": [
    {
     "name": "stdout",
     "output_type": "stream",
     "text": [
      "WARNING:tensorflow:From d:\\studies\\workspaces\\python\\compiler\\lib\\site-packages\\keras\\layers\\normalization\\batch_normalization.py:520: _colocate_with (from tensorflow.python.framework.ops) is deprecated and will be removed in a future version.\n",
      "Instructions for updating:\n",
      "Colocations handled automatically by placer.\n",
      "Model: \"3D-CNN\"\n",
      "_________________________________________________________________\n",
      "Layer (type)                 Output Shape              Param #   \n",
      "=================================================================\n",
      "normalization (Normalization (None, 40, 227, 227, 3)   7         \n",
      "_________________________________________________________________\n",
      "conv_lst_m2d (ConvLSTM2D)    (None, 40, 55, 55, 16)    147200    \n",
      "_________________________________________________________________\n",
      "batch_normalization (BatchNo (None, 40, 55, 55, 16)    64        \n",
      "_________________________________________________________________\n",
      "max_pooling3d (MaxPooling3D) (None, 19, 27, 27, 16)    0         \n",
      "_________________________________________________________________\n",
      "conv_lst_m2d_1 (ConvLSTM2D)  (None, 19, 14, 14, 48)    307392    \n",
      "_________________________________________________________________\n",
      "batch_normalization_1 (Batch (None, 19, 14, 14, 48)    192       \n",
      "_________________________________________________________________\n",
      "max_pooling3d_1 (MaxPooling3 (None, 9, 6, 6, 48)       0         \n",
      "_________________________________________________________________\n",
      "conv3d (Conv3D)              (None, 9, 6, 6, 384)      498048    \n",
      "_________________________________________________________________\n",
      "conv3d_1 (Conv3D)            (None, 9, 6, 6, 384)      3981696   \n",
      "_________________________________________________________________\n",
      "conv_lst_m2d_2 (ConvLSTM2D)  (None, 9, 6, 6, 256)      5899264   \n",
      "_________________________________________________________________\n",
      "max_pooling3d_2 (MaxPooling3 (None, 4, 2, 2, 256)      0         \n",
      "_________________________________________________________________\n",
      "flatten (Flatten)            (None, 4096)              0         \n",
      "_________________________________________________________________\n",
      "dense (Dense)                (None, 4096)              16781312  \n",
      "_________________________________________________________________\n",
      "dropout (Dropout)            (None, 4096)              0         \n",
      "_________________________________________________________________\n",
      "dense_1 (Dense)              (None, 4096)              16781312  \n",
      "_________________________________________________________________\n",
      "dropout_1 (Dropout)          (None, 4096)              0         \n",
      "_________________________________________________________________\n",
      "dense_2 (Dense)              (None, 2)                 8194      \n",
      "=================================================================\n",
      "Total params: 44,404,681\n",
      "Trainable params: 44,404,546\n",
      "Non-trainable params: 135\n",
      "_________________________________________________________________\n"
     ]
    }
   ],
   "source": [
    "tf.keras.backend.clear_session\n",
    "# Replica of Alexnet2D (no.of Filters reduced)\n",
    "model = keras.models.Sequential([\n",
    "    ## preprocessing - Normalization\n",
    "    keras.layers.Normalization(input_shape=(output_frames, frame_size[0], frame_size[1], frame_size[2])),\n",
    "    \n",
    "    ## Convolutional 1st-Layer\n",
    "    keras.layers.ConvLSTM2D(16, (11,11), strides=(4,4), return_sequences=True, activation=\"relu\"), #req 96 fils\n",
    "    keras.layers.BatchNormalization(),\n",
    "    keras.layers.MaxPool3D(pool_size=(3,3,3), strides=(2,2,2)),\n",
    "    \n",
    "    ## Convolutional 2nd-Layer\n",
    "    keras.layers.ConvLSTM2D(48, (5, 5), strides=(2, 2), return_sequences=True, activation=\"relu\", padding=\"same\"), #req 256 fils\n",
    "    keras.layers.BatchNormalization(),\n",
    "    keras.layers.MaxPool3D(pool_size=(3,3,3), strides=(2,2,2)),\n",
    "    \n",
    "    ## Convolutional 3rd-Layer\n",
    "    keras.layers.Conv3D(384, (3,3,3), activation='relu', padding=\"same\"),\n",
    "    keras.layers.Conv3D(384, (3,3,3), activation='relu', padding=\"same\"),\n",
    "    keras.layers.ConvLSTM2D(256, (3,3), strides=(1,1), return_sequences=True, activation='relu', padding=\"same\"),\n",
    "    keras.layers.MaxPool3D(pool_size=(3,3,3), strides=(2,2,2)),\n",
    "    \n",
    "    ## FC\n",
    "    keras.layers.Flatten(),\n",
    "    keras.layers.Dense(4096, activation='relu'),\n",
    "    keras.layers.Dropout(0.5),\n",
    "    keras.layers.Dense(4096, activation='relu'),\n",
    "    keras.layers.Dropout(0.5),\n",
    "    keras.layers.Dense(2, activation='softmax')\n",
    "])\n",
    "\n",
    "# Compling our Model\n",
    "#model.compile(optimizer=tf.keras.optimizers.Adadelta(lr=0.0075),loss='sparse_categorical_crossentropy',metrics=['accuracy'])\n",
    "model.compile(optimizer='adam',loss='sparse_categorical_crossentropy',metrics=['accuracy'])\n",
    "model._name=\"Alexnet3D\"\n",
    "model.summary()"
   ]
  },
  {
   "cell_type": "markdown",
   "id": "9984c969-46ef-4f66-954a-511f368938bf",
   "metadata": {},
   "source": [
    "## Training directly on video-data\n",
    "a simple convolutional neural network can learn only the spatial information, since they were not designed to deal with time."
   ]
  },
  {
   "cell_type": "code",
   "execution_count": null,
   "id": "c94f219c-cbf0-4087-8fbb-6d2145e144a0",
   "metadata": {},
   "outputs": [
    {
     "name": "stdout",
     "output_type": "stream",
     "text": [
      "Train on 307 samples, validate on 55 samples\n",
      "Epoch 1/15\n",
      "307/307 [==============================] - 69s 225ms/sample - loss: nan - accuracy: 0.5147 - val_loss: nan - val_accuracy: 0.4909\n",
      "Epoch 2/15\n",
      "307/307 [==============================] - 61s 199ms/sample - loss: nan - accuracy: 0.5049 - val_loss: nan - val_accuracy: 0.4909\n",
      "Epoch 3/15\n",
      "307/307 [==============================] - 63s 206ms/sample - loss: nan - accuracy: 0.5049 - val_loss: nan - val_accuracy: 0.4909\n",
      "Epoch 4/15\n",
      "307/307 [==============================] - 65s 210ms/sample - loss: nan - accuracy: 0.5049 - val_loss: nan - val_accuracy: 0.4909\n",
      "Epoch 5/15\n",
      "307/307 [==============================] - 64s 210ms/sample - loss: nan - accuracy: 0.5049 - val_loss: nan - val_accuracy: 0.4909\n"
     ]
    }
   ],
   "source": [
    "#Stop training when a monitored metric (here, accuracy) has stopped improving.\n",
    "#patience: Number of epochs with no improvement after which training will be stopped.\n",
    "early_stopping_cb = tf.keras.callbacks.EarlyStopping(patience=5)\n",
    "\n",
    "# Saving the best Trained model\n",
    "model_file = model.name+'_Video_Model.h5'\n",
    "checkpoint_cb = tf.keras.callbacks.ModelCheckpoint(model_file, save_best_only=True)\n",
    "\n",
    "tf.keras.backend.clear_session\n",
    "history = model.fit(train_videos,\n",
    "                    train_labels,\n",
    "                    epochs=15, # Max no.of epochs\n",
    "                    batch_size=10, # size for parallel computation, higher require more GPU/CPU-RAM\n",
    "                    validation_split=0.15,\n",
    "                    shuffle=True, # Shuffling the order of data for better accuracy and a good data split\n",
    "                    callbacks=[early_stopping_cb, checkpoint_cb]\n",
    "                   )"
   ]
  },
  {
   "cell_type": "code",
   "execution_count": null,
   "id": "248879ea-5c30-479b-a4ca-4ab9f62ff253",
   "metadata": {},
   "outputs": [
    {
     "data": {
      "image/png": "[encoded data removed]",
      "text/plain": [
       "<Figure size 1080x504 with 2 Axes>"
      ]
     },
     "metadata": {
      "needs_background": "light"
     },
     "output_type": "display_data"
    }
   ],
   "source": [
    "def plot_accuracy_and_loss_of_train_and_validation_dataset(history):\n",
    "    train_acc=history.history['accuracy']\n",
    "    train_loss=history.history['loss']\n",
    "    val_acc=history.history['val_accuracy']\n",
    "    val_loss=history.history['val_loss']\n",
    "    epoch=[i for i in range(len(train_acc))]\n",
    "    fig , ax=plt.subplots(1,2)\n",
    "    fig.set_size_inches(15,7)\n",
    "    ax[0].plot(epoch,train_acc,'co-',label='training accuracy')\n",
    "    ax[0].plot(epoch,val_acc,'mo-',label='validation accuracy')\n",
    "    ax[0].set_title('Training & Validation Accuracy')\n",
    "    ax[0].legend()\n",
    "    ax[0].set_xlabel(\"Epochs\")\n",
    "    ax[0].set_ylabel(\"Accuracy\")\n",
    "    ax[1].plot(epoch,train_loss,'c-o',label='training loss')\n",
    "    ax[1].plot(epoch,val_loss,'m-o',label='validation loss')\n",
    "    ax[1].set_title('Training & Validation loss')\n",
    "    ax[1].legend()\n",
    "    ax[1].set_xlabel(\"Epochs\")\n",
    "    ax[1].set_ylabel(\"Training & Validation Loss\")\n",
    "\n",
    "# incase of early stop\n",
    "plot_accuracy_and_loss_of_train_and_validation_dataset(history)"
   ]
  },
  {
   "cell_type": "markdown",
   "id": "9517da06-ad96-418e-a904-695fd093a097",
   "metadata": {},
   "source": [
    "## Evaluation"
   ]
  },
  {
   "cell_type": "code",
   "execution_count": null,
   "id": "e4bebd09-a538-4d23-b58a-6b477e99b4b5",
   "metadata": {},
   "outputs": [],
   "source": [
    "# loading the saved model of Inception Classifier\n",
    "model_file = '3D-CNN_Video_Model.h5'\n",
    "try: # incase model training failed\n",
    "    model = keras.models.load_model(model_file) # rollback to best model\n",
    "except:\n",
    "    pass\n",
    "tf.keras.backend.clear_session\n",
    "loss,accuracy = model.evaluate(train_videos,train_labels,batch_size=15)"
   ]
  },
  {
   "cell_type": "code",
   "execution_count": null,
   "id": "04c0add2-091d-4f38-b38a-cf9b452288d1",
   "metadata": {},
   "outputs": [
    {
     "name": "stdout",
     "output_type": "stream",
     "text": [
      "The accuracy of train image is :  0.50276244\n",
      "The loss of train image is :  nan\n"
     ]
    }
   ],
   "source": [
    "print(\"The accuracy of train image is : \",accuracy)\n",
    "print(\"The loss of train image is : \",loss)"
   ]
  },
  {
   "cell_type": "markdown",
   "id": "2b03056e-7aef-40a1-825d-bdcbf661e7c5",
   "metadata": {},
   "source": [
    "### Accuracy for each class"
   ]
  },
  {
   "cell_type": "code",
   "execution_count": null,
   "id": "9ff8446f-0f3a-4720-bb4e-7a26dda809bf",
   "metadata": {},
   "outputs": [
    {
     "name": "stdout",
     "output_type": "stream",
     "text": [
      "Predicting (Violency only) Test Images using the above Trained model...\n"
     ]
    }
   ],
   "source": [
    "print(\"Predicting Test Videos using the above Trained model...\")\n",
    "pred_Ids_of_test = model.predict(test_videos,batch_size=15, verbose=1)"
   ]
  },
  {
   "cell_type": "code",
   "execution_count": null,
   "id": "27170be8-d2b0-4126-bd15-d6187b4e6d19",
   "metadata": {},
   "outputs": [
    {
     "name": "stdout",
     "output_type": "stream",
     "text": [
      "              precision    recall  f1-score   support\n",
      "\n",
      "    Violence       0.58      1.00      0.74        62\n",
      " NonViolence       0.00      0.00      0.00        44\n",
      "\n",
      "    accuracy                           0.58       106\n",
      "   macro avg       0.29      0.50      0.37       106\n",
      "weighted avg       0.34      0.58      0.43       106\n",
      "\n"
     ]
    }
   ],
   "source": [
    "from sklearn.metrics import accuracy_score, confusion_matrix, classification_report\n",
    "predIdxs = np.argmax(pred_Ids_of_test, axis=1) # to get the indices of max value in each row\n",
    "print(classification_report(test_labels, predIdxs,target_names=class_names))"
   ]
  },
  {
   "cell_type": "markdown",
   "id": "711ac4f9-2202-48f6-a52c-e99ecfedaf09",
   "metadata": {},
   "source": [
    "### Confusion Matrix"
   ]
  },
  {
   "cell_type": "code",
   "execution_count": null,
   "id": "fdc279d5-bb66-473f-9891-15b868f5222d",
   "metadata": {},
   "outputs": [
    {
     "data": {
      "image/png": "[encoded data removed]",
      "text/plain": [
       "<Figure size 360x360 with 1 Axes>"
      ]
     },
     "metadata": {
      "needs_background": "light"
     },
     "output_type": "display_data"
    }
   ],
   "source": [
    "CM = confusion_matrix(test_labels, predIdxs)\n",
    "# Plot confusion matrix\n",
    "plt.figure(figsize = (5,5))\n",
    "plt.imshow(CM,interpolation='nearest',cmap='winter')\n",
    "for (i, j), z in np.ndenumerate(CM):\n",
    "    plt.text(j, i, z, ha='center', va='center')\n",
    "plt.xlabel(\"y Predict\")\n",
    "plt.ylabel(\"y Test\")\n",
    "plt.xticks(np.arange(len(class_names)),class_names)\n",
    "plt.yticks(np.arange(len(class_names)),class_names)\n",
    "plt.grid(False)\n",
    "plt.show()"
   ]
  },
  {
   "cell_type": "markdown",
   "id": "09dcc356-b564-4d2c-9d76-0141d8b8a60e",
   "metadata": {},
   "source": [
    "## Training on Motion-Blobs\n",
    "a simple convolutional neural network can learn only the spatial information, since they were not designed to deal with time."
   ]
  },
  {
   "cell_type": "code",
   "execution_count": null,
   "id": "b5676508-5300-4cf9-ab3e-05f2e15ab8b4",
   "metadata": {},
   "outputs": [
    {
     "name": "stdout",
     "output_type": "stream",
     "text": [
      "Train on 307 samples, validate on 55 samples\n",
      "Epoch 1/15\n",
      "307/307 [==============================] - 63s 204ms/sample - loss: nan - accuracy: 0.5049 - val_loss: nan - val_accuracy: 0.4909\n",
      "Epoch 2/15\n",
      "307/307 [==============================] - 62s 201ms/sample - loss: nan - accuracy: 0.5049 - val_loss: nan - val_accuracy: 0.4909\n",
      "Epoch 3/15\n",
      "307/307 [==============================] - 63s 205ms/sample - loss: nan - accuracy: 0.5049 - val_loss: nan - val_accuracy: 0.4909\n",
      "Epoch 4/15\n",
      "307/307 [==============================] - 63s 205ms/sample - loss: nan - accuracy: 0.5049 - val_loss: nan - val_accuracy: 0.4909\n",
      "Epoch 5/15\n",
      "307/307 [==============================] - 63s 206ms/sample - loss: nan - accuracy: 0.5049 - val_loss: nan - val_accuracy: 0.4909\n"
     ]
    }
   ],
   "source": [
    "#Stop training when a monitored metric (here, accuracy) has stopped improving.\n",
    "#patience: Number of epochs with no improvement after which training will be stopped.\n",
    "early_stopping_cb = tf.keras.callbacks.EarlyStopping(patience=5)\n",
    "\n",
    "# Saving the best Trained model\n",
    "model_file = model.name+'_Motion_Model.h5'\n",
    "checkpoint_cb = tf.keras.callbacks.ModelCheckpoint(model_file, save_best_only=True)\n",
    "\n",
    "tf.keras.backend.clear_session\n",
    "history = model.fit(train_motions,\n",
    "                    train_labels,\n",
    "                    epochs=15, # Max no.of epochs\n",
    "                    batch_size=10, # size for parallel computation, higher require more GPU/CPU-RAM\n",
    "                    validation_split=0.15,\n",
    "                    shuffle=True, # Shuffling the order of data for better accuracy and a good data split\n",
    "                    callbacks=[early_stopping_cb, checkpoint_cb]\n",
    "                   )"
   ]
  },
  {
   "cell_type": "code",
   "execution_count": null,
   "id": "09b548bc-d9af-4241-ad9d-4b6337b1e376",
   "metadata": {},
   "outputs": [
    {
     "data": {
      "image/png": "[encoded data removed]",
      "text/plain": [
       "<Figure size 1080x504 with 2 Axes>"
      ]
     },
     "metadata": {
      "needs_background": "light"
     },
     "output_type": "display_data"
    }
   ],
   "source": [
    "def plot_accuracy_and_loss_of_train_and_validation_dataset(history):\n",
    "    train_acc=history.history['accuracy']\n",
    "    train_loss=history.history['loss']\n",
    "    val_acc=history.history['val_accuracy']\n",
    "    val_loss=history.history['val_loss']\n",
    "    epoch=[i for i in range(len(train_acc))]\n",
    "    fig , ax=plt.subplots(1,2)\n",
    "    fig.set_size_inches(15,7)\n",
    "    ax[0].plot(epoch,train_acc,'co-',label='training accuracy')\n",
    "    ax[0].plot(epoch,val_acc,'mo-',label='validation accuracy')\n",
    "    ax[0].set_title('Training & Validation Accuracy')\n",
    "    ax[0].legend()\n",
    "    ax[0].set_xlabel(\"Epochs\")\n",
    "    ax[0].set_ylabel(\"Accuracy\")\n",
    "    ax[1].plot(epoch,train_loss,'c-o',label='training loss')\n",
    "    ax[1].plot(epoch,val_loss,'m-o',label='validation loss')\n",
    "    ax[1].set_title('Training & Validation loss')\n",
    "    ax[1].legend()\n",
    "    ax[1].set_xlabel(\"Epochs\")\n",
    "    ax[1].set_ylabel(\"Training & Validation Loss\")\n",
    "\n",
    "# incase of early stop\n",
    "plot_accuracy_and_loss_of_train_and_validation_dataset(history)"
   ]
  },
  {
   "cell_type": "markdown",
   "id": "2243bdd3-e267-473c-94b9-7137969bfe5c",
   "metadata": {},
   "source": [
    "## Evaluation"
   ]
  },
  {
   "cell_type": "code",
   "execution_count": null,
   "id": "2e631eb0-6670-4acd-99bf-73fe1d029ae3",
   "metadata": {},
   "outputs": [],
   "source": [
    "# loading the saved model of Inception Classifier\n",
    "model_file = '3D-CNN_Motion_Model.h5'\n",
    "try: # incase model training failed\n",
    "    model = keras.models.load_model(model_file) # rollback to best model\n",
    "except:\n",
    "    pass\n",
    "tf.keras.backend.clear_session\n",
    "loss,accuracy = model.evaluate(train_videos,train_labels,batch_size=15)"
   ]
  },
  {
   "cell_type": "code",
   "execution_count": null,
   "id": "b83248f1-603f-435b-973b-edd6e55b9c69",
   "metadata": {},
   "outputs": [
    {
     "name": "stdout",
     "output_type": "stream",
     "text": [
      "The accuracy of train image is :  0.50276244\n",
      "The loss of train image is :  nan\n"
     ]
    }
   ],
   "source": [
    "print(\"The accuracy of train image is : \",accuracy)\n",
    "print(\"The loss of train image is : \",loss)"
   ]
  },
  {
   "cell_type": "markdown",
   "id": "0b9b4fd5-cfea-467e-ba11-cfe3dff7ca71",
   "metadata": {},
   "source": [
    "### Accuracy for each class"
   ]
  },
  {
   "cell_type": "code",
   "execution_count": null,
   "id": "dea0dfbd-0715-43cf-98d2-b87cb30399f9",
   "metadata": {},
   "outputs": [
    {
     "name": "stdout",
     "output_type": "stream",
     "text": [
      "Predicting Test Videos using the above Trained model...\n"
     ]
    }
   ],
   "source": [
    "print(\"Predicting Test Videos using the above Trained model...\")\n",
    "pred_Ids_of_test = model.predict(test_videos,batch_size=15, verbose=1)"
   ]
  },
  {
   "cell_type": "code",
   "execution_count": null,
   "id": "81c7a34b-c11f-4c7d-82c0-eefeb047a51a",
   "metadata": {},
   "outputs": [
    {
     "name": "stdout",
     "output_type": "stream",
     "text": [
      "              precision    recall  f1-score   support\n",
      "\n",
      "    Violence       0.58      1.00      0.74        62\n",
      " NonViolence       0.00      0.00      0.00        44\n",
      "\n",
      "    accuracy                           0.58       106\n",
      "   macro avg       0.29      0.50      0.37       106\n",
      "weighted avg       0.34      0.58      0.43       106\n",
      "\n"
     ]
    }
   ],
   "source": [
    "from sklearn.metrics import accuracy_score, confusion_matrix, classification_report\n",
    "predIdxs = np.argmax(pred_Ids_of_test, axis=1) # to get the indices of max value in each row\n",
    "print(classification_report(test_labels, predIdxs,target_names=class_names))"
   ]
  },
  {
   "cell_type": "markdown",
   "id": "3c060a03-3509-4a36-831e-eb1d97119862",
   "metadata": {},
   "source": [
    "### Confusion Matrix"
   ]
  },
  {
   "cell_type": "code",
   "execution_count": null,
   "id": "71ff5b63-4805-4f24-abf7-e2ad02a24b80",
   "metadata": {},
   "outputs": [
    {
     "data": {
      "image/png": "[encoded data removed]",
      "text/plain": [
       "<Figure size 360x360 with 1 Axes>"
      ]
     },
     "metadata": {
      "needs_background": "light"
     },
     "output_type": "display_data"
    }
   ],
   "source": [
    "CM = confusion_matrix(test_labels, predIdxs)\n",
    "# Plot confusion matrix\n",
    "plt.figure(figsize = (5,5))\n",
    "plt.imshow(CM,interpolation='nearest',cmap='winter')\n",
    "for (i, j), z in np.ndenumerate(CM):\n",
    "    plt.text(j, i, z, ha='center', va='center')\n",
    "plt.xlabel(\"y Predict\")\n",
    "plt.ylabel(\"y Test\")\n",
    "plt.xticks(np.arange(len(class_names)),class_names)\n",
    "plt.yticks(np.arange(len(class_names)),class_names)\n",
    "plt.grid(False)\n",
    "plt.show()"
   ]
  },
  {
   "cell_type": "markdown",
   "id": "d5eb20a1-1db6-4afb-86bc-e0b498fe0628",
   "metadata": {},
   "source": [
    "---\n",
    "*<h1 align='center'> Transfer Learning Models </h1>*\n",
    "\n",
    "---"
   ]
  },
  {
   "cell_type": "markdown",
   "id": "dc1cee5b-3329-4a04-b358-13f6da37988a",
   "metadata": {},
   "source": [
    "## C3D Model Feature Extracting + SVM(linear) Classifier\n",
    "Description: C3D Model for Keras trained over Sports 1M</br>\n",
    "Author: Alberto Montes</br>\n",
    "\n",
    "Advisors: Xavier Giro and Amaia Salvador</br>\n",
    "\n",
    "We provide an adaptation to Keras of the C3D model used with a fork of Caffe, which was trained over the Sports1M dataset.</br>\n",
    "\n",
    "Details about the network architecture can be found in the following paper:</br>\n",
    "\n",
    "Tran, Du, Lubomir Bourdev, Rob Fergus, Lorenzo Torresani, and Manohar Paluri. \"Learning Spatiotemporal Features With 3D Convolutional Networks.\" In Proceedings of the IEEE International Conference on Computer Vision, pp. 4489-4497. 2015.</br>\n",
    "\n",
    "Find our model and an example of how to use on this page on Github Gist.</br>\n",
    "\n",
    "For more info: https://medium.com/@nair.binum/quick-overview-of-convolutional-3d-features-for-action-and-activity-recognition-c3d-138f96d58d8f </br>\n",
    "\n",
    "Model link: https://gist.githubusercontent.com/albertomontesg/d8b21a179c1e6cca0480ebdf292c34d2/raw/1e2620258ce619e18d3219cf962a3f0a0ed17093/sports_1M.json </br>\n",
    " Weights link: https://drive.google.com/file/d/0BzmDUR5_3US0V1hjV3VvREJ3NGs/view?resourcekey=0-3EPDTvM5_Eaa1_tyH87LAg </br>\n",
    " \n",
    " Updated Keras version weights link: https://drive.google.com/file/d/1rlZ-xTkTMjgWKiQFUedRnHlDgQwx6yTm/view"
   ]
  },
  {
   "cell_type": "markdown",
   "id": "64b64809-f44a-463b-a581-87d7ae4cea97",
   "metadata": {},
   "source": [
    "### Features extraction\n",
    "To extract features from a video you should:</br>\n",
    "\n",
    "Divide a video into 16 frame chunks with 8 frame overlaps (dim=(16, 112, 112, 3)).</br>\n",
    "Use output from the first fully connected layer fc6 as a features from the single chunk. (implemented in sport1m_model.create_features_exctractor)\n",
    "Average features extracted from all vectors to form a single vector (dim=4096).</br>\n",
    "L2-normalize the vector.</br>"
   ]
  },
  {
   "cell_type": "code",
   "execution_count": null,
   "id": "8205524a-10a4-4f9f-81fa-6177ed3a48d5",
   "metadata": {},
   "outputs": [],
   "source": [
    "try: # .json gives error\n",
    "    C3D_model = keras.models.model_from_json(open('sports_1M.json', 'r').read())\n",
    "except: # recreating the same model architechture\n",
    "    \n",
    "    C3D_model = keras.models.Sequential([\n",
    "        # 1st layer group\n",
    "        keras.layers.Conv3D(64, (3, 3, 3), activation='relu', padding='same', name='conv1', input_shape = (16, 112, 112, 3)),\n",
    "        keras.layers.MaxPooling3D(pool_size=(1, 2, 2), strides=(1, 2, 2), padding='valid', name='pool1'),\n",
    "        \n",
    "        # 2nd layer group\n",
    "        keras.layers.Conv3D(128, (3, 3, 3), activation='relu', padding='same', name='conv2'),\n",
    "        keras.layers.MaxPooling3D(pool_size=(2, 2, 2), strides=(2, 2, 2), padding='valid', name='pool2'),\n",
    "        \n",
    "        # 3rd layer group\n",
    "        keras.layers.Conv3D(256, (3, 3, 3), activation='relu', padding='same', name='conv3a'),\n",
    "        keras.layers.Conv3D(256, (3, 3, 3), activation='relu', padding='same', name='conv3b'),\n",
    "        keras.layers.MaxPooling3D(pool_size=(2, 2, 2), strides=(2, 2, 2), padding='valid', name='pool3'),\n",
    "        \n",
    "        # 4th layer group\n",
    "        keras.layers.Conv3D(512, (3, 3, 3), activation='relu', padding='same', name='conv4a'),\n",
    "        keras.layers.Conv3D(512, (3, 3, 3), activation='relu', padding='same', name='conv4b'),\n",
    "        keras.layers.MaxPooling3D(pool_size=(2, 2, 2), strides=(2, 2, 2), padding='valid', name='pool4'),\n",
    "        \n",
    "        # 5th layer group\n",
    "        keras.layers.Conv3D(512, (3, 3, 3), activation='relu', padding='same', name='conv5a'),\n",
    "        keras.layers.Conv3D(512, (3, 3, 3), activation='relu', padding='same', name='conv5b'),\n",
    "        keras.layers.ZeroPadding3D(padding=((0, 0), (0, 1), (0, 1)), name='zeropad5'),\n",
    "        keras.layers.MaxPooling3D(pool_size=(2, 2, 2), strides=(2, 2, 2), padding='valid', name='pool5'),\n",
    "        \n",
    "        keras.layers.Flatten(),\n",
    "        \n",
    "        # FC layers group\n",
    "        keras.layers.Dense(4096, activation='relu', name='fc6'),\n",
    "        keras.layers.Dropout(.5),\n",
    "        keras.layers.Dense(4096, activation='relu', name='fc7'),\n",
    "        keras.layers.Dropout(.5),\n",
    "        keras.layers.Dense(487, activation='softmax', name='fc8')\n",
    "    ])\n"
   ]
  },
  {
   "cell_type": "code",
   "execution_count": null,
   "id": "9986e80b-621b-4584-8ceb-5be15b34925c",
   "metadata": {},
   "outputs": [
    {
     "name": "stdout",
     "output_type": "stream",
     "text": [
      "Model: \"C3D\"\n",
      "_________________________________________________________________\n",
      "Layer (type)                 Output Shape              Param #   \n",
      "=================================================================\n",
      "conv1 (Conv3D)               (None, 16, 112, 112, 64)  5248      \n",
      "_________________________________________________________________\n",
      "pool1 (MaxPooling3D)         (None, 16, 56, 56, 64)    0         \n",
      "_________________________________________________________________\n",
      "conv2 (Conv3D)               (None, 16, 56, 56, 128)   221312    \n",
      "_________________________________________________________________\n",
      "pool2 (MaxPooling3D)         (None, 8, 28, 28, 128)    0         \n",
      "_________________________________________________________________\n",
      "conv3a (Conv3D)              (None, 8, 28, 28, 256)    884992    \n",
      "_________________________________________________________________\n",
      "conv3b (Conv3D)              (None, 8, 28, 28, 256)    1769728   \n",
      "_________________________________________________________________\n",
      "pool3 (MaxPooling3D)         (None, 4, 14, 14, 256)    0         \n",
      "_________________________________________________________________\n",
      "conv4a (Conv3D)              (None, 4, 14, 14, 512)    3539456   \n",
      "_________________________________________________________________\n",
      "conv4b (Conv3D)              (None, 4, 14, 14, 512)    7078400   \n",
      "_________________________________________________________________\n",
      "pool4 (MaxPooling3D)         (None, 2, 7, 7, 512)      0         \n",
      "_________________________________________________________________\n",
      "conv5a (Conv3D)              (None, 2, 7, 7, 512)      7078400   \n",
      "_________________________________________________________________\n",
      "conv5b (Conv3D)              (None, 2, 7, 7, 512)      7078400   \n",
      "_________________________________________________________________\n",
      "zeropad5 (ZeroPadding3D)     (None, 2, 8, 8, 512)      0         \n",
      "_________________________________________________________________\n",
      "pool5 (MaxPooling3D)         (None, 1, 4, 4, 512)      0         \n",
      "_________________________________________________________________\n",
      "flatten (Flatten)            (None, 8192)              0         \n",
      "_________________________________________________________________\n",
      "fc6 (Dense)                  (None, 4096)              33558528  \n",
      "_________________________________________________________________\n",
      "dropout (Dropout)            (None, 4096)              0         \n",
      "_________________________________________________________________\n",
      "fc7 (Dense)                  (None, 4096)              16781312  \n",
      "_________________________________________________________________\n",
      "dropout_1 (Dropout)          (None, 4096)              0         \n",
      "_________________________________________________________________\n",
      "fc8 (Dense)                  (None, 487)               1995239   \n",
      "=================================================================\n",
      "Total params: 79,991,015\n",
      "Trainable params: 79,991,015\n",
      "Non-trainable params: 0\n",
      "_________________________________________________________________\n"
     ]
    }
   ],
   "source": [
    "try:\n",
    "    C3D_model.load_weights('sports1M_weights.h5')\n",
    "except:\n",
    "    C3D_model.load_weights('C3D_Sport1M_weights_keras_2.2.4.h5')\n",
    "#C3D_model.compile(loss='mean_squared_error', optimizer='sgd')\n",
    "C3D_model._name=\"C3D\"\n",
    "C3D_model.summary()"
   ]
  },
  {
   "cell_type": "code",
   "execution_count": null,
   "id": "1c3cee51-881c-489c-8141-c40914a25d3c",
   "metadata": {},
   "outputs": [],
   "source": [
    "class_names = [\"Violence\",\"NonViolence\"]\n",
    "frame_size = (112,112,3) # 112x112 for C3D\n",
    "max_frame_rate = 60 # max no.of frames taken while reading in one video \n",
    "output_frames = 16 # assumption that 16 consecutive frames are enough for this data to fit into C3D"
   ]
  },
  {
   "cell_type": "code",
   "execution_count": null,
   "id": "f6101ca3-7074-4936-8168-b2f88ab3ca5a",
   "metadata": {},
   "outputs": [
    {
     "name": "stderr",
     "output_type": "stream",
     "text": [
      "100%|████████████████████████████████████████████████████████████████████████████████| 100/100 [00:07<00:00, 12.55it/s]\n"
     ]
    },
    {
     "name": "stdout",
     "output_type": "stream",
     "text": [
      "Data/Peliculas... Loading-Class 0 --> fights over.\n"
     ]
    },
    {
     "name": "stderr",
     "output_type": "stream",
     "text": [
      "100%|████████████████████████████████████████████████████████████████████████████████| 101/101 [00:04<00:00, 22.85it/s]\n"
     ]
    },
    {
     "name": "stdout",
     "output_type": "stream",
     "text": [
      "Data/Peliculas... Loading-Class 1 --> noFights over.\n"
     ]
    },
    {
     "name": "stderr",
     "output_type": "stream",
     "text": [
      "100%|██████████████████████████████████████████████████████████████████████████████████| 25/25 [00:00<00:00, 54.47it/s]\n"
     ]
    },
    {
     "name": "stdout",
     "output_type": "stream",
     "text": [
      "Data/movies/1... Loading-Class 1 --> NonViolence over.\n"
     ]
    },
    {
     "name": "stderr",
     "output_type": "stream",
     "text": [
      "100%|██████████████████████████████████████████████████████████████████████████████████| 25/25 [00:00<00:00, 50.20it/s]\n"
     ]
    },
    {
     "name": "stdout",
     "output_type": "stream",
     "text": [
      "Data/movies/1... Loading-Class 0 --> Violence over.\n"
     ]
    },
    {
     "name": "stderr",
     "output_type": "stream",
     "text": [
      "100%|██████████████████████████████████████████████████████████████████████████████████| 25/25 [00:00<00:00, 59.95it/s]\n"
     ]
    },
    {
     "name": "stdout",
     "output_type": "stream",
     "text": [
      "Data/movies/2... Loading-Class 1 --> NonViolence over.\n"
     ]
    },
    {
     "name": "stderr",
     "output_type": "stream",
     "text": [
      "100%|██████████████████████████████████████████████████████████████████████████████████| 25/25 [00:00<00:00, 45.79it/s]\n"
     ]
    },
    {
     "name": "stdout",
     "output_type": "stream",
     "text": [
      "Data/movies/2... Loading-Class 0 --> Violence over.\n"
     ]
    },
    {
     "name": "stderr",
     "output_type": "stream",
     "text": [
      "100%|██████████████████████████████████████████████████████████████████████████████████| 25/25 [00:00<00:00, 57.73it/s]\n"
     ]
    },
    {
     "name": "stdout",
     "output_type": "stream",
     "text": [
      "Data/movies/3... Loading-Class 1 --> NonViolence over.\n"
     ]
    },
    {
     "name": "stderr",
     "output_type": "stream",
     "text": [
      "100%|██████████████████████████████████████████████████████████████████████████████████| 25/25 [00:00<00:00, 49.21it/s]\n"
     ]
    },
    {
     "name": "stdout",
     "output_type": "stream",
     "text": [
      "Data/movies/3... Loading-Class 0 --> Violence over.\n"
     ]
    },
    {
     "name": "stderr",
     "output_type": "stream",
     "text": [
      "100%|██████████████████████████████████████████████████████████████████████████████████| 24/24 [00:00<00:00, 52.63it/s]\n"
     ]
    },
    {
     "name": "stdout",
     "output_type": "stream",
     "text": [
      "Data/movies/4... Loading-Class 1 --> NonViolence over.\n"
     ]
    },
    {
     "name": "stderr",
     "output_type": "stream",
     "text": [
      "100%|██████████████████████████████████████████████████████████████████████████████████| 24/24 [00:00<00:00, 47.71it/s]\n"
     ]
    },
    {
     "name": "stdout",
     "output_type": "stream",
     "text": [
      "Data/movies/4... Loading-Class 0 --> Violence over.\n"
     ]
    },
    {
     "name": "stderr",
     "output_type": "stream",
     "text": [
      "100%|██████████████████████████████████████████████████████████████████████████████████| 24/24 [00:00<00:00, 48.29it/s]\n"
     ]
    },
    {
     "name": "stdout",
     "output_type": "stream",
     "text": [
      "Data/movies/5... Loading-Class 1 --> NonViolence over.\n"
     ]
    },
    {
     "name": "stderr",
     "output_type": "stream",
     "text": [
      "100%|██████████████████████████████████████████████████████████████████████████████████| 24/24 [00:00<00:00, 49.48it/s]\n"
     ]
    },
    {
     "name": "stdout",
     "output_type": "stream",
     "text": [
      "Data/movies/5... Loading-Class 0 --> Violence over.\n"
     ]
    },
    {
     "name": "stderr",
     "output_type": "stream",
     "text": [
      "100%|██████████████████████████████████████████████████████████████████████████████████| 21/21 [00:01<00:00, 17.33it/s]"
     ]
    },
    {
     "name": "stdout",
     "output_type": "stream",
     "text": [
      "Data/21VideosForDetection... Loading-Class 0 --> ForTal over.\n"
     ]
    },
    {
     "name": "stderr",
     "output_type": "stream",
     "text": [
      "\n"
     ]
    }
   ],
   "source": [
    "# Loading Data - Train-Test videos\n",
    "# if running in kaggle use: Load(kaggle_dir+\"folder_dir\",**class_folders)\n",
    "#kaggle_dir = '/kaggle/input/violence-detection-in-videos'\n",
    "train_videos, train_labels = Combine_All(Load_Data('Data/Peliculas', 'fights', 'noFights',need_motions=False),\n",
    "                                         Load_Data('Data/movies/1', 'Violence', 'NonViolence',need_motions=False),\n",
    "                                         Load_Data('Data/movies/2', 'Violence', 'NonViolence',need_motions=False),\n",
    "                                         Load_Data('Data/movies/3', 'Violence', 'NonViolence',need_motions=False),\n",
    "                                         Load_Data('Data/movies/4', 'Violence', 'NonViolence',need_motions=False),\n",
    "                                         Load_Data('Data/movies/5', 'Violence', 'NonViolence',need_motions=False),\n",
    "                                         Load_Data('Data/21VideosForDetection', 'ForTal',need_motions=False))"
   ]
  },
  {
   "cell_type": "code",
   "execution_count": null,
   "id": "a3193c42-5311-4676-a7e5-2d795a899df2",
   "metadata": {},
   "outputs": [],
   "source": [
    "from sklearn.model_selection import train_test_split\n",
    "train_videos,test_videos, train_labels,test_labels = train_test_split(train_videos, train_labels, test_size=.225, shuffle=True)"
   ]
  },
  {
   "cell_type": "code",
   "execution_count": null,
   "id": "95702544-b25f-4e41-a06d-b53b8ca47f95",
   "metadata": {},
   "outputs": [
    {
     "name": "stdout",
     "output_type": "stream",
     "text": [
      "Shape of Train-Videos Data : (362, 16, 112, 112, 3)\n",
      "Shape of Test-Videos Data : (106, 16, 112, 112, 3)\n"
     ]
    }
   ],
   "source": [
    "print(f'Shape of Train-Videos Data : {train_videos.shape}')\n",
    "print(f'Shape of Test-Videos Data : {test_videos.shape}')"
   ]
  },
  {
   "cell_type": "code",
   "execution_count": null,
   "id": "81c8c443-7345-433f-bfd8-1b861bf3412e",
   "metadata": {},
   "outputs": [
    {
     "name": "stdout",
     "output_type": "stream",
     "text": [
      "\n",
      "\n",
      "Printing layers of Model - C3D :\n",
      "<keras.layers.convolutional.Conv3D object at 0x000002628E2FD670>\n",
      "<keras.layers.pooling.MaxPooling3D object at 0x000002628E449BB0>\n",
      "<keras.layers.convolutional.Conv3D object at 0x000002628E449EE0>\n",
      "<keras.layers.pooling.MaxPooling3D object at 0x000002628F45C5E0>\n",
      "<keras.layers.convolutional.Conv3D object at 0x000002628F45C2E0>\n",
      "<keras.layers.convolutional.Conv3D object at 0x000002628F45C8E0>\n",
      "<keras.layers.pooling.MaxPooling3D object at 0x000002628F468040>\n",
      "<keras.layers.convolutional.Conv3D object at 0x000002628F45CD30>\n",
      "<keras.layers.convolutional.Conv3D object at 0x000002628F468370>\n",
      "<keras.layers.pooling.MaxPooling3D object at 0x000002628F468AC0>\n",
      "<keras.layers.convolutional.Conv3D object at 0x000002628F4687C0>\n",
      "<keras.layers.convolutional.Conv3D object at 0x000002628F468DC0>\n",
      "<keras.layers.convolutional.ZeroPadding3D object at 0x000002628F46D250>\n",
      "<keras.layers.pooling.MaxPooling3D object at 0x000002628F46D610>\n",
      "<keras.layers.core.Flatten object at 0x000002628F46D6D0>\n",
      "<keras.layers.core.Dense object at 0x000002628F46D970>\n",
      "<keras.layers.core.Dropout object at 0x000002628F46D8E0>\n",
      "<keras.layers.core.Dense object at 0x000002628F46DCD0>\n",
      "<keras.layers.core.Dropout object at 0x000002628F46DD30>\n",
      "<keras.layers.core.Dense object at 0x000002628F478100>\n",
      "\n",
      "Feature extraction from the model:\n",
      "<keras.layers.core.Dense object at 0x000002628F46D970>\n"
     ]
    }
   ],
   "source": [
    "print(\"\\n\\nPrinting layers of Model -\",C3D_model.name,\":\")\n",
    "for layer in C3D_model.layers:\n",
    "    print(layer)\n",
    "\n",
    "print(\"\\nFeature extraction from the model:\")\n",
    "feature_layer = C3D_model.get_layer('fc6')\n",
    "print(feature_layer)"
   ]
  },
  {
   "cell_type": "code",
   "execution_count": null,
   "id": "742e4216-37de-4bc1-b33e-555c9eed33c7",
   "metadata": {
    "scrolled": true,
    "tags": []
   },
   "outputs": [
    {
     "name": "stdout",
     "output_type": "stream",
     "text": [
      "WARNING:tensorflow:From d:\\studies\\workspaces\\python\\compiler\\lib\\site-packages\\keras\\layers\\normalization\\batch_normalization.py:520: _colocate_with (from tensorflow.python.framework.ops) is deprecated and will be removed in a future version.\n",
      "Instructions for updating:\n",
      "Colocations handled automatically by placer.\n",
      "C3D Model Architecture\n"
     ]
    },
    {
     "data": {
      "image/png": "[encoded data removed]",
      "text/plain": [
       "<IPython.core.display.Image object>"
      ]
     },
     "execution_count": 12,
     "metadata": {},
     "output_type": "execute_result"
    }
   ],
   "source": [
    "feature_model = keras.models.Sequential([\n",
    "    keras.Model(inputs = C3D_model.inputs, outputs = feature_layer.output, name='C3D'),\n",
    "    keras.layers.BatchNormalization()\n",
    "])\n",
    "feature_model._name=\"C3D_Feature_Extractor\"\n",
    "\n",
    "# Showing C3D Model Architecture\n",
    "print(\"C3D Model Architecture\")\n",
    "keras.utils.plot_model(feature_model,'C3D.png',show_shapes=True, show_layer_names=False, rankdir='TB', expand_nested=True, dpi=75)\n",
    "# rankdir='TB' -> top to bottom\n",
    "#feature_model.summary()"
   ]
  },
  {
   "cell_type": "markdown",
   "id": "bb11013f-959e-454d-b78b-46587ebc926d",
   "metadata": {},
   "source": [
    "### **Extracting the deep features of our Dataset**\n",
    "*(i.e., model **without** Fully-Connected-Layers[DNN] for Feature-Extracting))*"
   ]
  },
  {
   "cell_type": "code",
   "execution_count": null,
   "id": "528c1dd1-6836-4a9c-87fd-d1b100947149",
   "metadata": {},
   "outputs": [
    {
     "name": "stdout",
     "output_type": "stream",
     "text": [
      "Training data size: (362, 4096)\n",
      "Test data size: (106, 4096)\n"
     ]
    }
   ],
   "source": [
    "train_features = feature_model.predict(train_videos,batch_size=16, verbose=1)\n",
    "test_features = feature_model.predict(test_videos,batch_size=16, verbose=1)\n",
    "print(\"Training data size:\", train_features.shape)\n",
    "print(\"Test data size:\", test_features.shape)"
   ]
  },
  {
   "cell_type": "markdown",
   "id": "05b1daf6-f7ff-4cfc-b849-337abdd8e663",
   "metadata": {},
   "source": [
    "### *Searching for the best model*\n",
    "These above features-data is given as inputs for ML-Classifiers and best out them is found"
   ]
  },
  {
   "cell_type": "code",
   "execution_count": null,
   "id": "3793c7bd-2951-4248-abc7-740a4691b37f",
   "metadata": {},
   "outputs": [],
   "source": [
    "from sklearn.naive_bayes import GaussianNB\n",
    "from sklearn.linear_model import LogisticRegression\n",
    "from sklearn.tree import DecisionTreeClassifier\n",
    "from lightgbm import LGBMClassifier\n",
    "from sklearn.neighbors import KNeighborsClassifier\n",
    "from sklearn.ensemble import RandomForestClassifier\n",
    "from sklearn.svm import SVC\n",
    "from sklearn.ensemble import GradientBoostingClassifier\n",
    "\n",
    "# keep no.of classifiers even for plottinf purposes\n",
    "classifiers = [LogisticRegression(), LGBMClassifier(device = \"gpu\"), GaussianNB(), DecisionTreeClassifier(),\n",
    "               RandomForestClassifier(), KNeighborsClassifier(), SVC(kernel='linear'), GradientBoostingClassifier()]"
   ]
  },
  {
   "cell_type": "markdown",
   "id": "65889d5e-c7eb-46cd-acb8-6f7f30de409f",
   "metadata": {},
   "source": [
    "#### *Fitting and Ploting results*"
   ]
  },
  {
   "cell_type": "code",
   "execution_count": null,
   "id": "d80124be-daa7-43f5-91b3-9b8bb1c9a759",
   "metadata": {
    "scrolled": true,
    "tags": []
   },
   "outputs": [
    {
     "name": "stdout",
     "output_type": "stream",
     "text": [
      "CLASS - 0 --> Violence\n",
      "CLASS - 1 --> NonViolence\n",
      "\n",
      "\n",
      "Classifier: LogisticRegression()\n",
      "Accuracy  is 96.22641509433963%, Report:\n",
      "              precision    recall  f1-score   support\n",
      "\n",
      "           0       0.93      1.00      0.96        53\n",
      "           1       1.00      0.92      0.96        53\n",
      "\n",
      "    accuracy                           0.96       106\n",
      "   macro avg       0.96      0.96      0.96       106\n",
      "weighted avg       0.96      0.96      0.96       106\n",
      "\n",
      "\n",
      "\n",
      "Classifier: LGBMClassifier(device='gpu')\n",
      "Accuracy  is 91.50943396226415%, Report:\n",
      "              precision    recall  f1-score   support\n",
      "\n",
      "           0       0.87      0.98      0.92        53\n",
      "           1       0.98      0.85      0.91        53\n",
      "\n",
      "    accuracy                           0.92       106\n",
      "   macro avg       0.92      0.92      0.91       106\n",
      "weighted avg       0.92      0.92      0.91       106\n",
      "\n",
      "\n",
      "\n",
      "Classifier: GaussianNB()\n",
      "Accuracy  is 83.9622641509434%, Report:\n",
      "              precision    recall  f1-score   support\n",
      "\n",
      "           0       0.77      0.96      0.86        53\n",
      "           1       0.95      0.72      0.82        53\n",
      "\n",
      "    accuracy                           0.84       106\n",
      "   macro avg       0.86      0.84      0.84       106\n",
      "weighted avg       0.86      0.84      0.84       106\n",
      "\n",
      "\n",
      "\n",
      "Classifier: DecisionTreeClassifier()\n",
      "Accuracy  is 83.9622641509434%, Report:\n",
      "              precision    recall  f1-score   support\n",
      "\n",
      "           0       0.83      0.85      0.84        53\n",
      "           1       0.85      0.83      0.84        53\n",
      "\n",
      "    accuracy                           0.84       106\n",
      "   macro avg       0.84      0.84      0.84       106\n",
      "weighted avg       0.84      0.84      0.84       106\n",
      "\n",
      "\n",
      "\n",
      "Classifier: RandomForestClassifier()\n",
      "Accuracy  is 92.45283018867924%, Report:\n",
      "              precision    recall  f1-score   support\n",
      "\n",
      "           0       0.89      0.96      0.93        53\n",
      "           1       0.96      0.89      0.92        53\n",
      "\n",
      "    accuracy                           0.92       106\n",
      "   macro avg       0.93      0.92      0.92       106\n",
      "weighted avg       0.93      0.92      0.92       106\n",
      "\n",
      "\n",
      "\n",
      "Classifier: KNeighborsClassifier()\n",
      "Accuracy  is 86.79245283018868%, Report:\n",
      "              precision    recall  f1-score   support\n",
      "\n",
      "           0       0.80      0.98      0.88        53\n",
      "           1       0.98      0.75      0.85        53\n",
      "\n",
      "    accuracy                           0.87       106\n",
      "   macro avg       0.89      0.87      0.87       106\n",
      "weighted avg       0.89      0.87      0.87       106\n",
      "\n",
      "\n",
      "\n",
      "Classifier: SVC(kernel='linear')\n",
      "Accuracy  is 95.28301886792453%, Report:\n",
      "              precision    recall  f1-score   support\n",
      "\n",
      "           0       0.91      1.00      0.95        53\n",
      "           1       1.00      0.91      0.95        53\n",
      "\n",
      "    accuracy                           0.95       106\n",
      "   macro avg       0.96      0.95      0.95       106\n",
      "weighted avg       0.96      0.95      0.95       106\n",
      "\n",
      "\n",
      "\n",
      "Classifier: GradientBoostingClassifier()\n",
      "Accuracy  is 94.33962264150944%, Report:\n",
      "              precision    recall  f1-score   support\n",
      "\n",
      "           0       0.91      0.98      0.95        53\n",
      "           1       0.98      0.91      0.94        53\n",
      "\n",
      "    accuracy                           0.94       106\n",
      "   macro avg       0.95      0.94      0.94       106\n",
      "weighted avg       0.95      0.94      0.94       106\n",
      "\n"
     ]
    },
    {
     "data": {
      "image/png": "[encoded data removed]",
      "text/plain": [
       "<Figure size 1440x720 with 8 Axes>"
      ]
     },
     "metadata": {
      "needs_background": "light"
     },
     "output_type": "display_data"
    }
   ],
   "source": [
    "from sklearn.metrics import accuracy_score, confusion_matrix, classification_report\n",
    "\n",
    "for i in range(len(class_names)):\n",
    "    print(\"CLASS -\",i,\"-->\",class_names[i])\n",
    "\n",
    "fig = plt.figure(figsize=(20,10))\n",
    "fig.tight_layout()\n",
    "nof_clsfrs = len(classifiers)\n",
    "Accuracies = {}\n",
    "\n",
    "\n",
    "for i in range(nof_clsfrs):\n",
    "    tf.keras.backend.clear_session\n",
    "    classifier = classifiers[i]\n",
    "    plt.subplot(2,nof_clsfrs/2,i+1)\n",
    "    plt.xticks([])\n",
    "    plt.yticks([])\n",
    "    \n",
    "    print(f'\\n\\nClassifier: {str(classifier)}')\n",
    "    classifier.fit(train_features, train_labels)\n",
    "    test_pred = classifier.predict(test_features)\n",
    "    \n",
    "    acc = accuracy_score(test_labels,test_pred) *100\n",
    "    Accuracies[str(classifier)[0:20]+'...'] = acc\n",
    "    print(f'Accuracy  is {acc}%, Report:')\n",
    "    print(classification_report(test_labels, test_pred))\n",
    "    \n",
    "    plt.gca().set_title(str(classifier)[0:20]+'...')\n",
    "    CM = confusion_matrix(test_labels, test_pred)\n",
    "    plt.imshow(CM,interpolation='nearest',cmap='summer')\n",
    "    for (i, j), z in np.ndenumerate(CM):\n",
    "        plt.text(j, i, z, ha='center', va='center')\n",
    "    plt.xticks(np.arange(len(class_names)),class_names, fontsize=8)\n",
    "    plt.yticks(np.arange(len(class_names)))\n",
    "    plt.grid(False)\n",
    "plt.show()"
   ]
  },
  {
   "cell_type": "code",
   "execution_count": null,
   "id": "c12e18ce-44d4-4f73-9d9c-39bd94720445",
   "metadata": {},
   "outputs": [
    {
     "name": "stdout",
     "output_type": "stream",
     "text": [
      "Results:\n",
      "                Classifier   Accuracy\n",
      "0  LogisticRegression()...  96.226415\n",
      "1  LGBMClassifier(devic...  91.509434\n",
      "2          GaussianNB()...  83.962264\n",
      "3  DecisionTreeClassifi...  83.962264\n",
      "4  RandomForestClassifi...  92.452830\n",
      "5  KNeighborsClassifier...  86.792453\n",
      "6  SVC(kernel='linear')...  95.283019\n",
      "7  GradientBoostingClas...  94.339623\n",
      "\n",
      "\n",
      "Classifier for which max Accuracy is obtained:\n",
      "Classifier    LogisticRegression()...\n",
      "Accuracy                    96.226415\n",
      "Name: 0, dtype: object\n"
     ]
    }
   ],
   "source": [
    "import pandas as pd\n",
    "result = pd.DataFrame({'Classifier':list(Accuracies.keys()),\n",
    "                 'Accuracy':list(Accuracies.values())})\n",
    "print(\"Results:\")\n",
    "print(result)\n",
    "print(\"\\n\\nClassifier for which max Accuracy is obtained:\")\n",
    "print(result.iloc[result[\"Accuracy\"].idxmax()])"
   ]
  },
  {
   "cell_type": "markdown",
   "id": "09e9fc16-1dc1-4405-9271-3b4ff48c5474",
   "metadata": {},
   "source": [
    "---\n",
    "#### *<div style=\"text-align: center\"> - - - - - Thank You - - - - - <div>*\n",
    "---"
   ]
  }
 ],
 "metadata": {
  "kernelspec": {
   "display_name": "Python 3 (ipykernel)",
   "language": "python",
   "name": "python3"
  },
  "language_info": {
   "codemirror_mode": {
    "name": "ipython",
    "version": 3
   },
   "file_extension": ".py",
   "mimetype": "text/x-python",
   "name": "python",
   "nbconvert_exporter": "python",
   "pygments_lexer": "ipython3",
   "version": "3.10.7"
  }
 },
 "nbformat": 4,
 "nbformat_minor": 5
}
