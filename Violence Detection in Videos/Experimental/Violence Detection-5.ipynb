{
 "cells": [
  {
   "cell_type": "markdown",
   "id": "98bec84d-c73a-4a67-a5d2-c8380e0a37b1",
   "metadata": {},
   "source": [
    "---\n",
    "---\n",
    "*<h1 align='center'> Violence Detection in Videos </h1>*\n",
    "\n",
    "***<h2 align='center'> Progress - 5 </h2>***\n",
    "\n",
    "---\n",
    "---\n",
    "Name: Logesh.V <br>\n",
    "Email: vlogesh2001@gmail.com <br>\n",
    "DATASETS: \n",
    "- Real Life Violence Situations Dataset: https://www.kaggle.com/datasets/mohamedmustafa/real-life-violence-situations-dataset </br>\n",
    "size: 2GB, 1000-Violence / 1000-NonViolence\n",
    "- Hockey Fight Detection Dataset: https://academictorrents.com/details/38d9ed996a5a75a039b84cf8a137be794e7cee89 </br>\n",
    "size: 212MB, 500-Violence / 500-NonViolence\n",
    "- Movies Fight Detection Dataset: https://academictorrents.com/details/70e0794e2292fc051a13f05ea6f5b6c16f3d3635 </br>\n",
    "size: 734MB, 100-Violence / 100-NonViolence\n",
    "- Violent-Flows - Crowd Violence \\ Non-violence Database: http://www.cslab.openu.ac.il/download/violentflow/ </br>\n",
    "size: 240MB, 146-Violence / 125-NonViolence (links to yt videos are no longer valid in csv files)"
   ]
  },
  {
   "cell_type": "markdown",
   "id": "1e98fd5a-919f-4a53-896a-45de30dc4cfb",
   "metadata": {},
   "source": [
    "### **Importing required packages**"
   ]
  },
  {
   "cell_type": "code",
   "execution_count": 1,
   "id": "6ee66ac1-d53a-4d17-ba96-9eae2e816829",
   "metadata": {},
   "outputs": [],
   "source": [
    "#Import Libraries\n",
    "import pandas as pd\n",
    "import numpy as np\n",
    "import random\n",
    "\n",
    "import matplotlib.pyplot as plt\n",
    "from matplotlib import animation\n",
    "import matplotlib\n",
    "matplotlib.rcParams['animation.embed_limit'] = 2**128\n",
    "#matplotlib.rcParams.update({'text.color' : \"blue\"})\n",
    "from IPython.display import HTML\n",
    "\n",
    "import os\n",
    "from tqdm import tqdm # to get progress bars while running\n",
    "import cv2\n",
    "from sklearn.utils import shuffle\n",
    "\n",
    "from tensorflow import keras\n",
    "import tensorflow as tf\n",
    "tf.config.experimental.set_memory_growth(tf.config.list_physical_devices('GPU')[0], True)\n",
    "tf.compat.v1.disable_eager_execution()\n",
    "\n",
    "import warnings\n",
    "warnings.filterwarnings('ignore')"
   ]
  },
  {
   "cell_type": "markdown",
   "id": "3f47bf39-d83f-442e-b063-9ff1a3f59128",
   "metadata": {
    "papermill": {
     "duration": 0.013404,
     "end_time": "2021-10-31T06:54:45.223928",
     "exception": false,
     "start_time": "2021-10-31T06:54:45.210524",
     "status": "completed"
    },
    "tags": []
   },
   "source": [
    "### **Load Premilinary Funtions**"
   ]
  },
  {
   "cell_type": "code",
   "execution_count": 2,
   "id": "e20359fa-f9df-4544-b948-c829b25c0807",
   "metadata": {},
   "outputs": [],
   "source": [
    "# all pre-processing funtions Returns Video converted to list of frames of shape (height, width, channels)\n",
    "\n",
    "def ReadVideo(dim,filename,framerate):\n",
    "    cap = cv2.VideoCapture(filename)\n",
    "    frames = []\n",
    "    total_frames = int(cap.get(cv2.CAP_PROP_FRAME_COUNT))\n",
    "    frame_multiplier = total_frames/framerate\n",
    "    \n",
    "    # Read Video Frames according to req-frames:file-frames ratio\n",
    "    frame_counter = 0\n",
    "    while(cap.isOpened()):\n",
    "        status,frame = cap.read()\n",
    "        if(status):\n",
    "            if(frame_counter%frame_multiplier <= 1):\n",
    "                image = cv2.cvtColor(frame, cv2.COLOR_BGR2RGB) # so we are converting to RGB format\n",
    "                \n",
    "                # cropping out black border areas\n",
    "                gray = cv2.cvtColor(frame,cv2.COLOR_BGR2GRAY)\n",
    "                _,thresh = cv2.threshold(gray,5,255,cv2.THRESH_BINARY) # threshold => 255 > pixel_value > 5 \n",
    "                contours,_ = cv2.findContours(thresh,cv2.RETR_EXTERNAL,cv2.CHAIN_APPROX_SIMPLE)\n",
    "                \n",
    "                max_dim = 100 # finding the max bounds, keep threshold 100 min req pixels\n",
    "                for k in contours:\n",
    "                    _,_,tw,th = cv2.boundingRect(k)\n",
    "                    if tw*th > max_dim :\n",
    "                        max_dim = tw*th\n",
    "                        x,y,w,h = cv2.boundingRect(k)\n",
    "                if max_dim == 100:\n",
    "                    continue # means complete black screen, skip this frame\n",
    "                crop = image[y:y+h,x:x+w]\n",
    "                # resizing\n",
    "                img = cv2.resize(crop, (dim[0], dim[1])) \n",
    "                # normalization added in model\n",
    "                \n",
    "                frames.append(img)\n",
    "            frame_counter = frame_counter + 1;\n",
    "        else:\n",
    "            cap.release() # closing video file if not more fromes present\n",
    "    # returns list of frames (atmost frame-rate)\n",
    "    return frames\n",
    "\n",
    "\n",
    "def ExtractMotion(frames): # need to return a copy, not modify in frame itself\n",
    "    blobs =[]\n",
    "    for i in range(1,len(frames)):\n",
    "        blobs.append(np.absolute(frames[i] - frames[i-1])) # abs diff bet 2 consecutive frames\n",
    "    return blobs\n",
    "\n",
    "\n",
    "def ResizeFrames(frames, outframes):\n",
    "    frame_counter = len(frames)\n",
    "    nt = 1\n",
    "    while(frame_counter!=outframes):\n",
    "        middle = frame_counter//2\n",
    "        if(outframes-frame_counter < 0):\n",
    "            # removing frames\n",
    "            if((frame_counter-outframes)%2==0):\n",
    "                if(frame_counter-1-2*nt < 0):\n",
    "                    nt = nt//2\n",
    "                frames.pop(frame_counter-1-2*nt)\n",
    "                frames.pop(2*nt)\n",
    "            else:\n",
    "                frames.pop(middle)\n",
    "        else:\n",
    "            # add padding of slow-motion effect like\n",
    "            # repeating frames in middle\n",
    "            if((frame_counter-outframes)%2==0):\n",
    "                if(middle+2*nt > frame_counter-1):\n",
    "                    nt = nt//2\n",
    "                frames.insert(middle-2*nt,frames[middle-2*nt])\n",
    "                frames.insert(middle+2*nt+1,frames[middle+2*nt+1])\n",
    "            else:\n",
    "                frames.insert(middle,frames[middle])\n",
    "        nt = nt+1\n",
    "        frame_counter = len(frames)\n",
    "    return frames"
   ]
  },
  {
   "cell_type": "code",
   "execution_count": 3,
   "id": "777517e0-f109-46f6-acdd-63f9087ef40c",
   "metadata": {},
   "outputs": [],
   "source": [
    "# User-defined load data function to read our data folders and label each of the videos with \n",
    "# names of class-folder in sequential order\n",
    "def Load_Data_classwise(root_dir, *class_folders, need_motions=True):\n",
    "    '''To import the dataset from the directories and preprocess them'''\n",
    "        \n",
    "    # final outputs:\n",
    "    videos=[]\n",
    "    motions=[]\n",
    "    labels=[]\n",
    "    \n",
    "    # iterate through folders in each dataset\n",
    "    for folder in os.listdir(root_dir):\n",
    "        if(folder in class_folders):\n",
    "            \n",
    "            label = class_folders.index(folder)\n",
    "            \n",
    "            # iterate through each image in folder\n",
    "            for file in tqdm(os.listdir(os.path.join(root_dir, folder))):\n",
    "                \n",
    "                # get pathname of each image\n",
    "                vid_path = os.path.join(os.path.join(root_dir, folder), file)\n",
    "               \n",
    "                # Open, rescale, pre-process(motion features), re\n",
    "                try:\n",
    "                    video = ReadVideo(frame_size,vid_path, max_frame_rate)\n",
    "                except:\n",
    "                    video = ReadVideo(frame_size,vid_path, output_frames+1)\n",
    "                if (need_motions == True):\n",
    "                    motion = ExtractMotion(video) # motion blobs --> abs diff bet 2 consecutive frames\n",
    "                    motion = ResizeFrames(motion, output_frames)\n",
    "                \n",
    "                video = ResizeFrames(video, output_frames)\n",
    "                # Normalization is done in Model to avoid memory wasted \n",
    "                # by numpy as it turns data to float from int8\n",
    "                    \n",
    "                # Append the image and its corresponding label to the output\n",
    "                videos.append(video)\n",
    "                if (need_motions == True):\n",
    "                    motions.append(motion)\n",
    "                labels.append(label)\n",
    "                \n",
    "            print(root_dir+\"... Loading-Class\", label, \"-->\", folder, \"over.\")\n",
    "                \n",
    "    # Converting the data type of the list\n",
    "    if (need_motions == True):\n",
    "        return np.array(videos), np.array(motions), np.array(labels, dtype = 'int8')\n",
    "    else:\n",
    "        return np.array(videos), np.array(labels, dtype = 'int8')"
   ]
  },
  {
   "cell_type": "code",
   "execution_count": 4,
   "id": "0fafe2e7-8f3e-4a07-ad9e-72097d9abfb4",
   "metadata": {},
   "outputs": [],
   "source": [
    "# User-defined load data function to read our data folders and label each of the videos with \n",
    "# names of file_prefixes in sequential order\n",
    "def Load_Data_prefixwise(folder_dirs, *file_prefixes, need_motions=True):\n",
    "    '''To import the dataset from the directories and preprocess them'''\n",
    "    \n",
    "    # final outputs:\n",
    "    videos=[]\n",
    "    motions=[]\n",
    "    labels=[]\n",
    "    \n",
    "    # iterate through folders\n",
    "    for folder_dir in folder_dirs:\n",
    "        \n",
    "        # iterate through each image in folder\n",
    "        for file in tqdm(os.listdir(folder_dir)):  \n",
    "            \n",
    "            for i in range(len(file_prefixes)):\n",
    "                if (file.startswith(file_prefixes[i])):\n",
    "                    \n",
    "                    # get pathname of each image\n",
    "                    vid_path = os.path.join(folder_dir, file) \n",
    "                    \n",
    "                    # Open, rescale, pre-process(motion features), re\n",
    "                    try:\n",
    "                        video = ReadVideo(frame_size,vid_path, max_frame_rate)\n",
    "                    except:\n",
    "                        video = ReadVideo(frame_size,vid_path, output_frames+1)\n",
    "                    if (need_motions == True):\n",
    "                        motion = ExtractMotion(video) # motion blobs --> abs diff bet 2 consecutive frames\n",
    "                        motion = ResizeFrames(motion, output_frames)\n",
    "                    \n",
    "                    video = ResizeFrames(video, output_frames)\n",
    "                    # Normalization is done in Model to avoid memory wasted \n",
    "                    # by numpy as it turns data to float from int8\n",
    "                    \n",
    "                    # Append the image and its corresponding label to the output\n",
    "                    videos.append(video)\n",
    "                    if (need_motions == True):\n",
    "                        motions.append(motion)\n",
    "                    labels.append(i)\n",
    "                \n",
    "        print(folder_dir+\"... Loading-Class with Prefixes\", np.arange(len(file_prefixes)), \"-->\", file_prefixes, \"over.\")\n",
    "                \n",
    "    # Converting the data type of the list\n",
    "    if (need_motions == True):\n",
    "        return np.array(videos), np.array(motions), np.array(labels, dtype = 'int8')\n",
    "    else:\n",
    "        return np.array(videos), np.array(labels, dtype = 'int8')"
   ]
  },
  {
   "cell_type": "code",
   "execution_count": 5,
   "id": "95dfb04a-503b-4c26-bb1d-4cb8c2467274",
   "metadata": {},
   "outputs": [],
   "source": [
    "def Combine_All(*VideosLabels):\n",
    "    combine = []\n",
    "    for x in range(len(VideosLabels[0])):\n",
    "        combine.append(np.concatenate(tuple(i[x] for i in VideosLabels),axis=0))\n",
    "    return tuple(combine)"
   ]
  },
  {
   "cell_type": "markdown",
   "id": "0497e856-cf96-46e1-b91f-2beaad0a763e",
   "metadata": {
    "papermill": {
     "duration": 0.013404,
     "end_time": "2021-10-31T06:54:45.223928",
     "exception": false,
     "start_time": "2021-10-31T06:54:45.210524",
     "status": "completed"
    },
    "tags": []
   },
   "source": [
    "### **Data Loading and Pre-Processing**"
   ]
  },
  {
   "cell_type": "markdown",
   "id": "f896052c-89b9-4be8-9a29-e36aaebf27ac",
   "metadata": {},
   "source": [
    "The proposed AlexNet CNN architecture is presented in Figure 2. In the proposed research work, image input layer is defined as a pre-processing layer where the input frames are down-sampled to 227×227 in terms of spatial resolution to reduce the computational cost of our deep learning.\n",
    "framework."
   ]
  },
  {
   "cell_type": "code",
   "execution_count": 6,
   "id": "dc595b2b-c640-40b5-8cf6-019dce591ed1",
   "metadata": {},
   "outputs": [],
   "source": [
    "class_names = [\"Violence\",\"NonViolence\"]\n",
    "frame_size = (112,112,3) # 112x112 for C3D\n",
    "#max_frame_rate = 32 # max no.of frames taken while reading in one video \n",
    "output_frames = 16 # assumption that 16 consecutive frames are enough for this data to fit into C3D"
   ]
  },
  {
   "cell_type": "code",
   "execution_count": 2,
   "id": "903fc743-fba1-4373-b3cc-bf2d95cfc243",
   "metadata": {},
   "outputs": [],
   "source": [
    "class_names = [\"Violence\",\"NonViolence\"]\n",
    "frame_size = (224,224,3) # 224x224 for I3D\n",
    "#max_frame_rate = 50 # max no.of frames taken while reading in one video \n",
    "output_frames = 25 # assumption that 16 consecutive frames are enough for this data to fit into I3D"
   ]
  },
  {
   "cell_type": "code",
   "execution_count": 7,
   "id": "623f10ca-045f-44f9-830b-66011b2adaa4",
   "metadata": {},
   "outputs": [
    {
     "name": "stderr",
     "output_type": "stream",
     "text": [
      "100%|██████████████████████████████████████████████████████████████████████████████| 1000/1000 [01:42<00:00,  9.72it/s]\n"
     ]
    },
    {
     "name": "stdout",
     "output_type": "stream",
     "text": [
      "Data/Real Life Violence Dataset... Loading-Class 1 --> NonViolence over.\n"
     ]
    },
    {
     "name": "stderr",
     "output_type": "stream",
     "text": [
      "100%|██████████████████████████████████████████████████████████████████████████████| 1000/1000 [04:03<00:00,  4.11it/s]\n"
     ]
    },
    {
     "name": "stdout",
     "output_type": "stream",
     "text": [
      "Data/Real Life Violence Dataset... Loading-Class 0 --> Violence over.\n"
     ]
    },
    {
     "name": "stderr",
     "output_type": "stream",
     "text": [
      "100%|██████████████████████████████████████████████████████████████████████████████| 1000/1000 [00:27<00:00, 36.99it/s]\n"
     ]
    },
    {
     "name": "stdout",
     "output_type": "stream",
     "text": [
      "Data/HockeyFights... Loading-Class with Prefixes [0 1] --> ('fi', 'no') over.\n"
     ]
    },
    {
     "name": "stderr",
     "output_type": "stream",
     "text": [
      "100%|████████████████████████████████████████████████████████████████████████████████| 100/100 [00:11<00:00,  8.39it/s]\n"
     ]
    },
    {
     "name": "stdout",
     "output_type": "stream",
     "text": [
      "Data/Peliculas... Loading-Class 0 --> fights over.\n"
     ]
    },
    {
     "name": "stderr",
     "output_type": "stream",
     "text": [
      "100%|████████████████████████████████████████████████████████████████████████████████| 101/101 [00:08<00:00, 11.83it/s]\n"
     ]
    },
    {
     "name": "stdout",
     "output_type": "stream",
     "text": [
      "Data/Peliculas... Loading-Class 1 --> noFights over.\n"
     ]
    },
    {
     "name": "stderr",
     "output_type": "stream",
     "text": [
      "100%|██████████████████████████████████████████████████████████████████████████████████| 25/25 [00:00<00:00, 39.80it/s]\n"
     ]
    },
    {
     "name": "stdout",
     "output_type": "stream",
     "text": [
      "Data/ViolentFlows/movies/1... Loading-Class 1 --> NonViolence over.\n"
     ]
    },
    {
     "name": "stderr",
     "output_type": "stream",
     "text": [
      "100%|██████████████████████████████████████████████████████████████████████████████████| 25/25 [00:00<00:00, 36.67it/s]\n"
     ]
    },
    {
     "name": "stdout",
     "output_type": "stream",
     "text": [
      "Data/ViolentFlows/movies/1... Loading-Class 0 --> Violence over.\n"
     ]
    },
    {
     "name": "stderr",
     "output_type": "stream",
     "text": [
      "100%|██████████████████████████████████████████████████████████████████████████████████| 25/25 [00:00<00:00, 41.35it/s]\n"
     ]
    },
    {
     "name": "stdout",
     "output_type": "stream",
     "text": [
      "Data/ViolentFlows/movies/2... Loading-Class 1 --> NonViolence over.\n"
     ]
    },
    {
     "name": "stderr",
     "output_type": "stream",
     "text": [
      "100%|██████████████████████████████████████████████████████████████████████████████████| 25/25 [00:00<00:00, 34.55it/s]\n"
     ]
    },
    {
     "name": "stdout",
     "output_type": "stream",
     "text": [
      "Data/ViolentFlows/movies/2... Loading-Class 0 --> Violence over.\n"
     ]
    },
    {
     "name": "stderr",
     "output_type": "stream",
     "text": [
      "100%|██████████████████████████████████████████████████████████████████████████████████| 25/25 [00:00<00:00, 40.10it/s]\n"
     ]
    },
    {
     "name": "stdout",
     "output_type": "stream",
     "text": [
      "Data/ViolentFlows/movies/3... Loading-Class 1 --> NonViolence over.\n"
     ]
    },
    {
     "name": "stderr",
     "output_type": "stream",
     "text": [
      "100%|██████████████████████████████████████████████████████████████████████████████████| 25/25 [00:00<00:00, 33.54it/s]\n"
     ]
    },
    {
     "name": "stdout",
     "output_type": "stream",
     "text": [
      "Data/ViolentFlows/movies/3... Loading-Class 0 --> Violence over.\n"
     ]
    },
    {
     "name": "stderr",
     "output_type": "stream",
     "text": [
      "100%|██████████████████████████████████████████████████████████████████████████████████| 24/24 [00:00<00:00, 38.35it/s]\n"
     ]
    },
    {
     "name": "stdout",
     "output_type": "stream",
     "text": [
      "Data/ViolentFlows/movies/4... Loading-Class 1 --> NonViolence over.\n"
     ]
    },
    {
     "name": "stderr",
     "output_type": "stream",
     "text": [
      "100%|██████████████████████████████████████████████████████████████████████████████████| 24/24 [00:00<00:00, 35.44it/s]\n"
     ]
    },
    {
     "name": "stdout",
     "output_type": "stream",
     "text": [
      "Data/ViolentFlows/movies/4... Loading-Class 0 --> Violence over.\n"
     ]
    },
    {
     "name": "stderr",
     "output_type": "stream",
     "text": [
      "100%|██████████████████████████████████████████████████████████████████████████████████| 24/24 [00:00<00:00, 37.02it/s]\n"
     ]
    },
    {
     "name": "stdout",
     "output_type": "stream",
     "text": [
      "Data/ViolentFlows/movies/5... Loading-Class 1 --> NonViolence over.\n"
     ]
    },
    {
     "name": "stderr",
     "output_type": "stream",
     "text": [
      "100%|██████████████████████████████████████████████████████████████████████████████████| 24/24 [00:00<00:00, 33.81it/s]\n"
     ]
    },
    {
     "name": "stdout",
     "output_type": "stream",
     "text": [
      "Data/ViolentFlows/movies/5... Loading-Class 0 --> Violence over.\n"
     ]
    },
    {
     "name": "stderr",
     "output_type": "stream",
     "text": [
      "100%|██████████████████████████████████████████████████████████████████████████████████| 21/21 [00:01<00:00, 12.77it/s]\n"
     ]
    },
    {
     "name": "stdout",
     "output_type": "stream",
     "text": [
      "Data/ViolentFlows/21VideosForDetection... Loading-Class 0 --> ForTal over.\n"
     ]
    }
   ],
   "source": [
    "# Loading Data - Train-Test videos\n",
    "# if running in kaggle use: Load(kaggle_dir+\"folder_dir\",**class_folders)\n",
    "#kaggle_dir = '/kaggle/input/violence-detection-in-videos'\n",
    "videos, labels = Combine_All(Load_Data_classwise('Data/Real Life Violence Dataset', 'Violence', 'NonViolence', need_motions=False),\n",
    "                             Load_Data_prefixwise(['Data/HockeyFights'], 'fi', 'no', need_motions=False),\n",
    "                             Load_Data_classwise('Data/Peliculas', 'fights', 'noFights', need_motions=False),\n",
    "                             Load_Data_classwise('Data/ViolentFlows/movies/1', 'Violence', 'NonViolence', need_motions=False),\n",
    "                             Load_Data_classwise('Data/ViolentFlows/movies/2', 'Violence', 'NonViolence', need_motions=False),\n",
    "                             Load_Data_classwise('Data/ViolentFlows/movies/3', 'Violence', 'NonViolence', need_motions=False),\n",
    "                             Load_Data_classwise('Data/ViolentFlows/movies/4', 'Violence', 'NonViolence', need_motions=False),\n",
    "                             Load_Data_classwise('Data/ViolentFlows/movies/5', 'Violence', 'NonViolence', need_motions=False),\n",
    "                             Load_Data_classwise('Data/ViolentFlows/21VideosForDetection', 'ForTal', need_motions=False))"
   ]
  },
  {
   "cell_type": "code",
   "execution_count": 8,
   "id": "6515cb08-8761-4a52-96a0-36c3a2d99343",
   "metadata": {},
   "outputs": [
    {
     "name": "stdout",
     "output_type": "stream",
     "text": [
      "Shape of Videos Data : (3468, 16, 112, 112, 3)\n"
     ]
    }
   ],
   "source": [
    "print(f'Shape of Videos Data : {videos.shape}')"
   ]
  },
  {
   "cell_type": "code",
   "execution_count": 8,
   "id": "9e44138c-2658-490c-bdd1-2f81cc8b787a",
   "metadata": {},
   "outputs": [
    {
     "name": "stdout",
     "output_type": "stream",
     "text": [
      "Shape of Videos Data : (3468, 25, 224, 224, 3)\n"
     ]
    }
   ],
   "source": [
    "print(f'Shape of Videos Data : {videos.shape}')"
   ]
  },
  {
   "cell_type": "markdown",
   "id": "91dfa138-1a59-4cec-b40d-a6d64f0685b3",
   "metadata": {},
   "source": [
    "### **Data Visualization**"
   ]
  },
  {
   "cell_type": "code",
   "execution_count": 10,
   "id": "1e9178e6-7fbf-44ec-b424-4a88e7ba0062",
   "metadata": {},
   "outputs": [
    {
     "name": "stdout",
     "output_type": "stream",
     "text": [
      "Data: Labels and their count :\n",
      " Counter({0: 1744, 1: 1724})\n"
     ]
    },
    {
     "data": {
      "text/plain": [
       "Text(0, 0.5, 'Count')"
      ]
     },
     "execution_count": 10,
     "metadata": {},
     "output_type": "execute_result"
    },
    {
     "data": {
      "image/png": "[encoded data removed]",
      "text/plain": [
       "<Figure size 720x360 with 1 Axes>"
      ]
     },
     "metadata": {
      "needs_background": "light"
     },
     "output_type": "display_data"
    }
   ],
   "source": [
    "from collections import Counter\n",
    "fig = plt.figure(figsize = (10,5))\n",
    "\n",
    "\n",
    "label_count = Counter(labels)\n",
    "print(f'Data: Labels and their count :\\n {label_count}')\n",
    "x = list(label_count.keys())\n",
    "y = list(label_count.values())\n",
    "\n",
    "plt.subplot(1,2,1)\n",
    "plt.bar(x,y,color=['red','green'],  edgecolor='black')\n",
    "plt.title('Data: Label Counts')\n",
    "plt.xticks([0,1],class_names)\n",
    "plt.xlabel('Labels')\n",
    "plt.ylabel('Count')"
   ]
  },
  {
   "cell_type": "code",
   "execution_count": 11,
   "id": "227d012b-7d31-4a8a-ad2d-ad2eb30b7f58",
   "metadata": {},
   "outputs": [],
   "source": [
    "def dis_rand_exp(videos, labels, x=3, y=6):\n",
    "    \n",
    "    fig = plt.figure(figsize = (20,12))\n",
    "    fig.suptitle(\"Rand-Exps of dataset Videos --> Motion\", fontsize=32)\n",
    "    ax = []\n",
    "    rand = []\n",
    "    vp = []\n",
    "    mp = []\n",
    "    for i in range(0,x*y):\n",
    "        # create a figure and axes\n",
    "        ax.append(plt.subplot(x,y,i+1))\n",
    "        # create objects that will change in the animation. These are\n",
    "        # initially empty, and will be given new values for each frame\n",
    "        # in the animation.\n",
    "        rand.append(random.randint(0,len(labels)))\n",
    "        vp.append(ax[i].imshow(videos[rand[-1]][0,:,:,:], cmap='gray'))\n",
    "        ax[i].set_title(class_names[labels[rand[-1]]], fontsize=18)\n",
    "    \n",
    "    # set axes\n",
    "    for a in ax:\n",
    "        a.set_xticks([])\n",
    "        a.set_yticks([])\n",
    "        a.axis('off')\n",
    "    fig.subplots_adjust(left=0, bottom=0.1, right=0.1, top=0.2, wspace=0, hspace=0.5)\n",
    "    fig.tight_layout()\n",
    "    plt.close()\n",
    "    \n",
    "    # defining animation function\n",
    "    def animate(i):\n",
    "        for j in range(0,x*y):\n",
    "            vp[j].set_data(videos[rand[j]][i,:,:,:])\n",
    "        return vp,mp\n",
    "    \n",
    "    anim = animation.FuncAnimation(fig, animate, frames=output_frames, interval=60)\n",
    "    return anim"
   ]
  },
  {
   "cell_type": "code",
   "execution_count": null,
   "id": "e6448563-2f6a-48f4-9c17-e29ed0c68bbf",
   "metadata": {
    "tags": []
   },
   "outputs": [],
   "source": [
    "HTML(dis_rand_exp(videos, labels).to_jshtml())\n",
    "# Output not shown, as it makes the file size too big, \n",
    "# its few frames of video in playback input representation after resp data preprocessing"
   ]
  },
  {
   "cell_type": "markdown",
   "id": "446cc6f3-9250-4c92-ae39-0fbb3d3a8dc3",
   "metadata": {},
   "source": [
    "---\n",
    "*<h1 align='center'> Transfer Learning Models </h1>*\n",
    "\n",
    "---"
   ]
  },
  {
   "cell_type": "markdown",
   "id": "c711612c-fcd7-4dc1-8fca-ba8e7ed40037",
   "metadata": {},
   "source": [
    "## C3D Model Feature Extracting + ML Classifiers\n",
    "Description: C3D Model for Keras trained over Sports 1M</br>\n",
    "Author: Alberto Montes</br>\n",
    "\n",
    "Advisors: Xavier Giro and Amaia Salvador</br>\n",
    "\n",
    "We provide an adaptation to Keras of the C3D model used with a fork of Caffe, which was trained over the Sports1M dataset.</br>\n",
    "\n",
    "Details about the network architecture can be found in the following paper:</br>\n",
    "\n",
    "Tran, Du, Lubomir Bourdev, Rob Fergus, Lorenzo Torresani, and Manohar Paluri. \"Learning Spatiotemporal Features With 3D Convolutional Networks.\" In Proceedings of the IEEE International Conference on Computer Vision, pp. 4489-4497. 2015.</br>\n",
    "\n",
    "Find our model and an example of how to use on this page on Github Gist.</br>\n",
    "\n",
    "For more info: https://medium.com/@nair.binum/quick-overview-of-convolutional-3d-features-for-action-and-activity-recognition-c3d-138f96d58d8f </br>\n",
    "\n",
    "Model link: https://gist.githubusercontent.com/albertomontesg/d8b21a179c1e6cca0480ebdf292c34d2/raw/1e2620258ce619e18d3219cf962a3f0a0ed17093/sports_1M.json </br>\n",
    " Weights link: https://drive.google.com/file/d/0BzmDUR5_3US0V1hjV3VvREJ3NGs/view?resourcekey=0-3EPDTvM5_Eaa1_tyH87LAg </br>\n",
    " \n",
    " Updated Keras version weights link: https://drive.google.com/file/d/1rlZ-xTkTMjgWKiQFUedRnHlDgQwx6yTm/view"
   ]
  },
  {
   "cell_type": "markdown",
   "id": "47d33003-1f0c-4c6a-b5d0-fe5ee2e77826",
   "metadata": {},
   "source": [
    "### Features extraction\n",
    "To extract features from a video you should:</br>\n",
    "\n",
    "Divide a video into 16 frame chunks with 8 frame overlaps (dim=(16, 112, 112, 3)).</br>\n",
    "Use output from the first fully connected layer fc6 as a features from the single chunk. (implemented in sport1m_model.create_features_exctractor)\n",
    "Average features extracted from all vectors to form a single vector (dim=4096).</br>\n",
    "L2-normalize the vector.</br>"
   ]
  },
  {
   "cell_type": "code",
   "execution_count": 13,
   "id": "e6d6637e-fa2e-4f16-9584-8dd3f1f7345b",
   "metadata": {},
   "outputs": [],
   "source": [
    "try: # .json gives error\n",
    "    C3D_model = keras.models.model_from_json(open('sports_1M.json', 'r').read())\n",
    "except: # recreating the same model architechture\n",
    "    \n",
    "    C3D_model = keras.models.Sequential([\n",
    "        # 1st layer group\n",
    "        keras.layers.Conv3D(64, (3, 3, 3), activation='relu', padding='same', name='conv1', input_shape = (16, 112, 112, 3)),\n",
    "        keras.layers.MaxPooling3D(pool_size=(1, 2, 2), strides=(1, 2, 2), padding='valid', name='pool1'),\n",
    "        \n",
    "        # 2nd layer group\n",
    "        keras.layers.Conv3D(128, (3, 3, 3), activation='relu', padding='same', name='conv2'),\n",
    "        keras.layers.MaxPooling3D(pool_size=(2, 2, 2), strides=(2, 2, 2), padding='valid', name='pool2'),\n",
    "        \n",
    "        # 3rd layer group\n",
    "        keras.layers.Conv3D(256, (3, 3, 3), activation='relu', padding='same', name='conv3a'),\n",
    "        keras.layers.Conv3D(256, (3, 3, 3), activation='relu', padding='same', name='conv3b'),\n",
    "        keras.layers.MaxPooling3D(pool_size=(2, 2, 2), strides=(2, 2, 2), padding='valid', name='pool3'),\n",
    "        \n",
    "        # 4th layer group\n",
    "        keras.layers.Conv3D(512, (3, 3, 3), activation='relu', padding='same', name='conv4a'),\n",
    "        keras.layers.Conv3D(512, (3, 3, 3), activation='relu', padding='same', name='conv4b'),\n",
    "        keras.layers.MaxPooling3D(pool_size=(2, 2, 2), strides=(2, 2, 2), padding='valid', name='pool4'),\n",
    "        \n",
    "        # 5th layer group\n",
    "        keras.layers.Conv3D(512, (3, 3, 3), activation='relu', padding='same', name='conv5a'),\n",
    "        keras.layers.Conv3D(512, (3, 3, 3), activation='relu', padding='same', name='conv5b'),\n",
    "        keras.layers.ZeroPadding3D(padding=((0, 0), (0, 1), (0, 1)), name='zeropad5'),\n",
    "        keras.layers.MaxPooling3D(pool_size=(2, 2, 2), strides=(2, 2, 2), padding='valid', name='pool5'),\n",
    "        \n",
    "        keras.layers.Flatten(),\n",
    "        \n",
    "        # FC layers group\n",
    "        keras.layers.Dense(4096, activation='relu', name='fc6'),\n",
    "        keras.layers.Dropout(.5),\n",
    "        keras.layers.Dense(4096, activation='relu', name='fc7'),\n",
    "        keras.layers.Dropout(.5),\n",
    "        keras.layers.Dense(487, activation='softmax', name='fc8')\n",
    "    ])\n"
   ]
  },
  {
   "cell_type": "code",
   "execution_count": 14,
   "id": "e750dbc5-64c3-4199-a60b-60bbd4590698",
   "metadata": {},
   "outputs": [
    {
     "name": "stdout",
     "output_type": "stream",
     "text": [
      "Model: \"C3D\"\n",
      "_________________________________________________________________\n",
      "Layer (type)                 Output Shape              Param #   \n",
      "=================================================================\n",
      "conv1 (Conv3D)               (None, 16, 112, 112, 64)  5248      \n",
      "_________________________________________________________________\n",
      "pool1 (MaxPooling3D)         (None, 16, 56, 56, 64)    0         \n",
      "_________________________________________________________________\n",
      "conv2 (Conv3D)               (None, 16, 56, 56, 128)   221312    \n",
      "_________________________________________________________________\n",
      "pool2 (MaxPooling3D)         (None, 8, 28, 28, 128)    0         \n",
      "_________________________________________________________________\n",
      "conv3a (Conv3D)              (None, 8, 28, 28, 256)    884992    \n",
      "_________________________________________________________________\n",
      "conv3b (Conv3D)              (None, 8, 28, 28, 256)    1769728   \n",
      "_________________________________________________________________\n",
      "pool3 (MaxPooling3D)         (None, 4, 14, 14, 256)    0         \n",
      "_________________________________________________________________\n",
      "conv4a (Conv3D)              (None, 4, 14, 14, 512)    3539456   \n",
      "_________________________________________________________________\n",
      "conv4b (Conv3D)              (None, 4, 14, 14, 512)    7078400   \n",
      "_________________________________________________________________\n",
      "pool4 (MaxPooling3D)         (None, 2, 7, 7, 512)      0         \n",
      "_________________________________________________________________\n",
      "conv5a (Conv3D)              (None, 2, 7, 7, 512)      7078400   \n",
      "_________________________________________________________________\n",
      "conv5b (Conv3D)              (None, 2, 7, 7, 512)      7078400   \n",
      "_________________________________________________________________\n",
      "zeropad5 (ZeroPadding3D)     (None, 2, 8, 8, 512)      0         \n",
      "_________________________________________________________________\n",
      "pool5 (MaxPooling3D)         (None, 1, 4, 4, 512)      0         \n",
      "_________________________________________________________________\n",
      "flatten (Flatten)            (None, 8192)              0         \n",
      "_________________________________________________________________\n",
      "fc6 (Dense)                  (None, 4096)              33558528  \n",
      "_________________________________________________________________\n",
      "dropout (Dropout)            (None, 4096)              0         \n",
      "_________________________________________________________________\n",
      "fc7 (Dense)                  (None, 4096)              16781312  \n",
      "_________________________________________________________________\n",
      "dropout_1 (Dropout)          (None, 4096)              0         \n",
      "_________________________________________________________________\n",
      "fc8 (Dense)                  (None, 487)               1995239   \n",
      "=================================================================\n",
      "Total params: 79,991,015\n",
      "Trainable params: 79,991,015\n",
      "Non-trainable params: 0\n",
      "_________________________________________________________________\n"
     ]
    }
   ],
   "source": [
    "try:\n",
    "    C3D_model.load_weights('sports1M_weights.h5')\n",
    "except:\n",
    "    C3D_model.load_weights('C3D_Sport1M_weights_keras_2.2.4.h5')\n",
    "#C3D_model.compile(loss='mean_squared_error', optimizer='sgd')\n",
    "C3D_model._name=\"C3D\"\n",
    "C3D_model.summary()"
   ]
  },
  {
   "cell_type": "code",
   "execution_count": 15,
   "id": "cfb3300f-9e86-42df-b2e6-1e9a2993e544",
   "metadata": {},
   "outputs": [
    {
     "name": "stdout",
     "output_type": "stream",
     "text": [
      "\n",
      "\n",
      "Printing layers of Model - C3D :\n",
      "<keras.layers.convolutional.Conv3D object at 0x000002CC106C7EB0>\n",
      "<keras.layers.pooling.MaxPooling3D object at 0x000002CC10719C10>\n",
      "<keras.layers.convolutional.Conv3D object at 0x000002CC10719E80>\n",
      "<keras.layers.pooling.MaxPooling3D object at 0x000002CC1075A1C0>\n",
      "<keras.layers.convolutional.Conv3D object at 0x000002CC107197F0>\n",
      "<keras.layers.convolutional.Conv3D object at 0x000002CC1075A4C0>\n",
      "<keras.layers.pooling.MaxPooling3D object at 0x000002CC1075AC10>\n",
      "<keras.layers.convolutional.Conv3D object at 0x000002CC1075A910>\n",
      "<keras.layers.convolutional.Conv3D object at 0x000002CC1075AF10>\n",
      "<keras.layers.pooling.MaxPooling3D object at 0x000002CC1075F6A0>\n",
      "<keras.layers.convolutional.Conv3D object at 0x000002CC1075F3A0>\n",
      "<keras.layers.convolutional.Conv3D object at 0x000002CC1075F9A0>\n",
      "<keras.layers.convolutional.ZeroPadding3D object at 0x000002CC1075FDF0>\n",
      "<keras.layers.pooling.MaxPooling3D object at 0x000002CC107621F0>\n",
      "<keras.layers.core.Flatten object at 0x000002CC107622B0>\n",
      "<keras.layers.core.Dense object at 0x000002CC10762550>\n",
      "<keras.layers.core.Dropout object at 0x000002CC107624C0>\n",
      "<keras.layers.core.Dense object at 0x000002CC107628B0>\n",
      "<keras.layers.core.Dropout object at 0x000002CC10762910>\n",
      "<keras.layers.core.Dense object at 0x000002CC10762CA0>\n",
      "\n",
      "Feature extraction from the model:\n",
      "<keras.layers.core.Dense object at 0x000002CC10762550>\n"
     ]
    }
   ],
   "source": [
    "print(\"\\n\\nPrinting layers of Model -\",C3D_model.name,\":\")\n",
    "for layer in C3D_model.layers:\n",
    "    print(layer)\n",
    "\n",
    "print(\"\\nFeature extraction from the model:\")\n",
    "feature_layer = C3D_model.get_layer('fc6')\n",
    "print(feature_layer)"
   ]
  },
  {
   "cell_type": "code",
   "execution_count": 16,
   "id": "7f56e455-8a65-4c09-bf9c-bb8121578909",
   "metadata": {
    "scrolled": true,
    "tags": []
   },
   "outputs": [
    {
     "name": "stdout",
     "output_type": "stream",
     "text": [
      "WARNING:tensorflow:From d:\\studies\\workspaces\\python\\compiler\\lib\\site-packages\\keras\\layers\\normalization\\batch_normalization.py:520: _colocate_with (from tensorflow.python.framework.ops) is deprecated and will be removed in a future version.\n",
      "Instructions for updating:\n",
      "Colocations handled automatically by placer.\n",
      "C3D Model Architecture\n"
     ]
    },
    {
     "data": {
      "image/png": "[encoded data removed]",
      "text/plain": [
       "<IPython.core.display.Image object>"
      ]
     },
     "execution_count": 16,
     "metadata": {},
     "output_type": "execute_result"
    }
   ],
   "source": [
    "feature_model = keras.models.Sequential([\n",
    "    ## preprocessing - Normalization\n",
    "    keras.layers.Normalization(input_shape=(16, 112, 112, 3)),\n",
    "    ## Feature Extractor\n",
    "    keras.Model(inputs = C3D_model.inputs, outputs = feature_layer.output, name='C3D'),\n",
    "    ## batch-normalizing for next classifier to train\n",
    "    keras.layers.BatchNormalization()\n",
    "])\n",
    "feature_model._name=\"C3D_Feature_Extractor\"\n",
    "\n",
    "# Showing C3D Model Architecture\n",
    "print(\"C3D Model Architecture\")\n",
    "keras.utils.plot_model(feature_model,'C3D.png',show_shapes=True, show_layer_names=False, rankdir='TB', expand_nested=True, dpi=75)\n",
    "# rankdir='TB' -> top to bottom\n",
    "#feature_model.summary()"
   ]
  },
  {
   "cell_type": "markdown",
   "id": "c653f420-7983-4dae-9133-5426bab6d4cf",
   "metadata": {},
   "source": [
    "### **Extracting the deep features directly from Videos of our Dataset**\n",
    "*(i.e., model **without** Fully-Connected-Layers[DNN] for Feature-Extracting))*"
   ]
  },
  {
   "cell_type": "code",
   "execution_count": 17,
   "id": "953264a3-95e1-441d-a468-efeaf744b5bb",
   "metadata": {},
   "outputs": [
    {
     "name": "stdout",
     "output_type": "stream",
     "text": [
      "Time time taken to extract features from complete Data -->: 91.37011432647705 (s)\n"
     ]
    }
   ],
   "source": [
    "import time\n",
    "tf.keras.backend.clear_session\n",
    "start_time = time.time(); C3D_features = feature_model.predict(videos,batch_size=20); feat_time = time.time() - start_time;\n",
    "print(\"Time time taken to extract features from complete Data -->:\", feat_time, \"(s)\")\n",
    "np.save('C3D_features', C3D_features)"
   ]
  },
  {
   "cell_type": "markdown",
   "id": "558b5032-7654-4fad-b093-3ff21d06e345",
   "metadata": {},
   "source": [
    "## I3D Model Feature Extracting + ML Classifiers\n",
    "The I3D model is used to extract the features for every 1.5 seconds of video while saving the median image of the 1.5 seconds of video as well. I3D model used: https://tfhub.dev/deepmind/i3d-kinetics-600/1. </br>\n",
    "The tensorflow_hub library provides the class hub.KerasLayer that gets initialized with the URL (or filesystem path) of a SavedModel and then provides the computation from the SavedModel, including its pre-trained weights."
   ]
  },
  {
   "cell_type": "markdown",
   "id": "8a6c8e86-6c06-4652-9a80-9b0f335f05e5",
   "metadata": {},
   "source": [
    "### Features extraction\n",
    "To extract features from a video you should:</br>\n",
    "\n",
    "(input_dim=(n, 224, 224, 3)).</br>\n",
    "https://tfhub.dev/deepmind/i3d-kinetics-400/1 (and also the *-600 version) happen to export only the final layer, so there is no properly supported way to get the other layers. (That said, you can always experiment by inspecting the graph and selecting tensors by name, but this has a real risk to stop working with newer module or library versions.) </br>\n",
    "Average features extracted from all vectors to form a single vector (dim=600).</br>"
   ]
  },
  {
   "cell_type": "markdown",
   "id": "22d278ab-21f5-48d3-a716-19818d8cffbb",
   "metadata": {},
   "source": [
    "Architecture:\n",
    "![alt text](https://miro.medium.com/max/1400/1*20UNfL2azlY3Cz3M0qtJOw.png \"Architecture\")\n"
   ]
  },
  {
   "cell_type": "code",
   "execution_count": 9,
   "id": "fd0be563-394e-427a-bab7-7a44be30c057",
   "metadata": {},
   "outputs": [
    {
     "name": "stdout",
     "output_type": "stream",
     "text": [
      "WARNING:tensorflow:From d:\\studies\\workspaces\\python\\compiler\\lib\\site-packages\\keras\\layers\\normalization\\batch_normalization.py:520: _colocate_with (from tensorflow.python.framework.ops) is deprecated and will be removed in a future version.\n",
      "Instructions for updating:\n",
      "Colocations handled automatically by placer.\n"
     ]
    },
    {
     "name": "stderr",
     "output_type": "stream",
     "text": [
      "WARNING:tensorflow:From d:\\studies\\workspaces\\python\\compiler\\lib\\site-packages\\keras\\layers\\normalization\\batch_normalization.py:520: _colocate_with (from tensorflow.python.framework.ops) is deprecated and will be removed in a future version.\n",
      "Instructions for updating:\n",
      "Colocations handled automatically by placer.\n"
     ]
    },
    {
     "name": "stdout",
     "output_type": "stream",
     "text": [
      "{'name': 'I3D', 'trainable': False, 'dtype': 'float32', 'handle': 'https://tfhub.dev/deepmind/i3d-kinetics-600/1', 'signature': 'default', 'output_key': 'default'}\n"
     ]
    }
   ],
   "source": [
    "import tensorflow_hub as hub\n",
    "i3d_layer = hub.KerasLayer(\"https://tfhub.dev/deepmind/i3d-kinetics-600/1\", name='I3D')\n",
    "\n",
    "feature_model = keras.models.Sequential([\n",
    "    ## preprocessing - Normalization\n",
    "    keras.layers.Normalization(input_shape=(output_frames, 224, 224, 3)),\n",
    "    ## Feature Extractor\n",
    "    i3d_layer,\n",
    "    ## batch-normalizing for next classifier to train\n",
    "    keras.layers.BatchNormalization()\n",
    "])\n",
    "feature_model._name=\"I3D_Feature_Extractor\"\n",
    "\n",
    "# Showing C3D Model Architecture\n",
    "print(i3d_layer.get_config())\n",
    "#print(\"\\nI3D Model Architecture\\n\")\n",
    "#i3d_layer.variables"
   ]
  },
  {
   "cell_type": "markdown",
   "id": "981968b3-e041-4806-b2eb-1f5a8f709f43",
   "metadata": {},
   "source": [
    "### **Extracting the deep features directly from Videos of our Dataset**\n",
    "*(i.e., model **without** Fully-Connected-Layers[DNN] for Feature-Extracting))*"
   ]
  },
  {
   "cell_type": "code",
   "execution_count": 10,
   "id": "4377618a-3c97-498b-b166-5f5b50bea2b6",
   "metadata": {},
   "outputs": [
    {
     "name": "stdout",
     "output_type": "stream",
     "text": [
      "Time time taken to extract features from complete Data -->: 224.97615361213684 (s)\n"
     ]
    }
   ],
   "source": [
    "import time\n",
    "tf.keras.backend.clear_session\n",
    "start_time = time.time(); I3D_features = feature_model.predict(videos,batch_size=10); feat_time = time.time() - start_time;\n",
    "print(\"Time time taken to extract features from complete Data -->:\", feat_time, \"(s)\")\n",
    "np.save('I3D_features', I3D_features)"
   ]
  },
  {
   "cell_type": "code",
   "execution_count": 11,
   "id": "5bbf72af-aa81-484e-94ae-4be5d8a5a18f",
   "metadata": {},
   "outputs": [],
   "source": [
    "#Saving labels\n",
    "np.save('labels',labels)"
   ]
  },
  {
   "cell_type": "markdown",
   "id": "ea5da421-f8b8-4b92-b4e4-649dc7025048",
   "metadata": {},
   "source": [
    "---\n",
    "*<h1 align='center'> ML Classifiers </h1>*\n",
    "\n",
    "---"
   ]
  },
  {
   "cell_type": "code",
   "execution_count": 3,
   "id": "fbe67f9b-10ac-42b6-976f-5b28a876dcd0",
   "metadata": {},
   "outputs": [
    {
     "name": "stdout",
     "output_type": "stream",
     "text": [
      "Shape of C3D set of Features : (3468, 4096)\n",
      "Shape of I3D set of Features : (3468, 600)\n"
     ]
    }
   ],
   "source": [
    "C3D_features = np.load('C3D_features.npy')\n",
    "print(f'Shape of C3D set of Features : {C3D_features.shape}')\n",
    "I3D_features = np.load('I3D_features.npy')\n",
    "print(f'Shape of I3D set of Features : {I3D_features.shape}')\n",
    "labels = np.load('labels.npy')"
   ]
  },
  {
   "cell_type": "code",
   "execution_count": 4,
   "id": "4ffd4dc3-05a5-40bd-a14e-401912e8f03b",
   "metadata": {},
   "outputs": [
    {
     "name": "stdout",
     "output_type": "stream",
     "text": [
      "Shape of complete set of Features : (3468, 4696)\n",
      "Shape of Labels : (3468,)\n"
     ]
    }
   ],
   "source": [
    "features = np.hstack((C3D_features, I3D_features))\n",
    "print(f'Shape of complete set of Features : {features.shape}')\n",
    "print(f'Shape of Labels : {labels.shape}')"
   ]
  },
  {
   "cell_type": "markdown",
   "id": "776fce9d-14f7-486f-b7ce-966c8fd8e7e7",
   "metadata": {},
   "source": [
    "## Filtering Best features contributing to Classification"
   ]
  },
  {
   "cell_type": "code",
   "execution_count": 5,
   "id": "d3bce1d9-5606-4155-9726-c128c60fbbe3",
   "metadata": {},
   "outputs": [
    {
     "data": {
      "text/plain": [
       "(3468, 4697)"
      ]
     },
     "execution_count": 5,
     "metadata": {},
     "output_type": "execute_result"
    }
   ],
   "source": [
    "feat_df = pd.DataFrame(features)\n",
    "feat_df['label'] = labels\n",
    "feat_df.shape"
   ]
  },
  {
   "cell_type": "code",
   "execution_count": 6,
   "id": "448164f7-ef0b-4361-bb31-dad6c311ebd2",
   "metadata": {},
   "outputs": [],
   "source": [
    "corr = feat_df.corr()"
   ]
  },
  {
   "cell_type": "code",
   "execution_count": 7,
   "id": "86bba546-ea16-477c-acb3-5d48c728c630",
   "metadata": {},
   "outputs": [],
   "source": [
    "feature_selection = list(corr['label'].loc[(corr.label>0.05)].index)[0:-1]"
   ]
  },
  {
   "cell_type": "code",
   "execution_count": 8,
   "id": "6f631dc1-ae86-44df-b71c-e7a78dadffe3",
   "metadata": {},
   "outputs": [],
   "source": [
    "temp_feat_df = feat_df[feature_selection]"
   ]
  },
  {
   "cell_type": "code",
   "execution_count": 9,
   "id": "ed3a4394-5532-4013-ba1d-84bae1cf4906",
   "metadata": {},
   "outputs": [
    {
     "data": {
      "text/plain": [
       "(3468, 1958)"
      ]
     },
     "execution_count": 9,
     "metadata": {},
     "output_type": "execute_result"
    }
   ],
   "source": [
    "temp_feat_df.shape"
   ]
  },
  {
   "cell_type": "markdown",
   "id": "497ffcb4-0b5e-4742-ab53-d08201ab1f53",
   "metadata": {},
   "source": [
    "### *Searching for the best model*\n",
    "These above features-data is given as inputs for ML-Classifiers and best out them is found"
   ]
  },
  {
   "cell_type": "code",
   "execution_count": 10,
   "id": "facbbed8-2a97-4938-8850-39f162896ad9",
   "metadata": {},
   "outputs": [],
   "source": [
    "from sklearn.naive_bayes import GaussianNB\n",
    "from sklearn.cluster import KMeans\n",
    "from sklearn.neural_network import MLPClassifier\n",
    "from sklearn.gaussian_process import GaussianProcessClassifier\n",
    "from sklearn.linear_model import LogisticRegression, SGDClassifier\n",
    "from sklearn.tree import DecisionTreeClassifier\n",
    "from sklearn.neighbors import KNeighborsClassifier\n",
    "from sklearn.ensemble import RandomForestClassifier, AdaBoostClassifier\n",
    "from sklearn.svm import SVC\n",
    "from sklearn.ensemble import GradientBoostingClassifier\n",
    "from sklearn.discriminant_analysis import QuadraticDiscriminantAnalysis\n",
    "from xgboost import XGBClassifier\n",
    "from lightgbm import LGBMClassifier\n",
    "from catboost import CatBoostClassifier\n",
    "\n",
    "names = [\"Linear SVM\", \"Poly SVM\", \"RBF SVM\", \"Sig SVM\", \"lbfgs Log-Reg\", \n",
    "         \"saga Log-Reg\", \"SGD\", \"Naive Bayes\",\"KMeans\", \"Gaussian Process\", \n",
    "         \"Decision Tree\", \"Random Forest\", \"KNN\", \"Neural Net\", \"AdaBoost\", \n",
    "         \"GradientBoost\", \"QDA\", \"LGBM\", \"XGB\", \"CatBoost\"]\n",
    "\n",
    "classifiers = [SVC(kernel='linear',max_iter=10000), SVC(kernel='poly',max_iter=10000), \n",
    "               SVC(kernel='rbf',max_iter=10000), SVC(kernel='sigmoid',max_iter=10000),\n",
    "               LogisticRegression(solver='lbfgs'), LogisticRegression(solver='saga'), SGDClassifier(), \n",
    "               GaussianNB(), KMeans(n_clusters=len(class_names)), GaussianProcessClassifier(), \n",
    "               DecisionTreeClassifier(max_depth=25), RandomForestClassifier(max_depth=25), KNeighborsClassifier(), \n",
    "               MLPClassifier(max_iter=2500,early_stopping=True), AdaBoostClassifier(), \n",
    "               GradientBoostingClassifier(max_depth=15), QuadraticDiscriminantAnalysis(),\n",
    "               LGBMClassifier(), XGBClassifier(), CatBoostClassifier(iterations=150,learning_rate=0.1,silent=True)]"
   ]
  },
  {
   "cell_type": "markdown",
   "id": "1fc417af-f99f-4538-85dd-0a02023a3778",
   "metadata": {},
   "source": [
    "#### *Fitting and Ploting results*"
   ]
  },
  {
   "cell_type": "code",
   "execution_count": 11,
   "id": "ee5a85f3-3b92-4446-a4ee-97917d8a7027",
   "metadata": {
    "scrolled": true,
    "tags": []
   },
   "outputs": [],
   "source": [
    "from sklearn.metrics import accuracy_score, confusion_matrix, classification_report\n",
    "import time\n",
    "\n",
    "def runML():\n",
    "    for i in range(len(class_names)):\n",
    "        print(\"CLASS -\",i,\"-->\",class_names[i])\n",
    "\n",
    "    fig = plt.figure(figsize=(18,14))\n",
    "    fig.tight_layout()\n",
    "    nof_clsfrs = len(names)\n",
    "    Metrics = {}\n",
    "    \n",
    "    print('\\nClassification Report for each Classifier:')\n",
    "    for i in range(nof_clsfrs):\n",
    "        metric = []\n",
    "        classifier = classifiers[i]\n",
    "        plt.subplot(nof_clsfrs/5,5,i+1)\n",
    "        plt.xticks([])\n",
    "        plt.yticks([])\n",
    "    \n",
    "        print(f'\\n\\nClassifier: {str(classifier)[0:25]}...')\n",
    "        if 'KMeans' in str(classifier):\n",
    "            # for KMeans, we use the entire features data as it unsupervised\n",
    "            start_time = time.time(); classifier.fit(features, labels); metric.append(time.time() - start_time);\n",
    "            metric.append(metric[-1]) # test run time is same\n",
    "        else:\n",
    "            start_time = time.time(); classifier.fit(train_features, train_labels); metric.append(time.time() - start_time); \n",
    "            start_time = time.time(); test_pred = classifier.predict(test_features); metric.append(time.time() - start_time);\n",
    "        acc = accuracy_score(test_labels,test_pred) *100; metric.append(acc);\n",
    "        Metrics[names[i]] = metric\n",
    "        #print(f'Accuracy  is {acc}%, Report:')\n",
    "        print(classification_report(test_labels, test_pred))\n",
    "    \n",
    "        plt.gca().set_title(names[i])\n",
    "        CM = confusion_matrix(test_labels, test_pred)\n",
    "        plt.imshow(CM,interpolation='nearest',cmap='summer')\n",
    "        for (i, j), z in np.ndenumerate(CM):\n",
    "            plt.text(j, i, z, ha='center', va='center')\n",
    "        plt.xticks(np.arange(len(class_names)),class_names, fontsize=8)\n",
    "        plt.yticks(np.arange(len(class_names)))\n",
    "        plt.grid(False)\n",
    "    plt.show()\n",
    "    return Metrics"
   ]
  },
  {
   "cell_type": "markdown",
   "id": "b3dc4f37-af46-49bd-aa7e-80fcd5c13a21",
   "metadata": {},
   "source": [
    "## **Classification using Full Feature extracted**"
   ]
  },
  {
   "cell_type": "code",
   "execution_count": 12,
   "id": "517887a4-31fd-4d58-9790-b4df1c58e020",
   "metadata": {},
   "outputs": [],
   "source": [
    "from sklearn.model_selection import train_test_split\n",
    "train_features,test_features,train_labels,test_labels = train_test_split(features, labels, test_size=.2, shuffle=True)"
   ]
  },
  {
   "cell_type": "code",
   "execution_count": 13,
   "id": "7c9e2460-1abc-4c77-8cca-ccbd06a12678",
   "metadata": {},
   "outputs": [
    {
     "name": "stdout",
     "output_type": "stream",
     "text": [
      "Training data size: (2774, 4696)\n",
      "Test data size: (694, 4696)\n"
     ]
    }
   ],
   "source": [
    "print(\"Training data size:\", train_features.shape)\n",
    "print(\"Test data size:\", test_features.shape)"
   ]
  },
  {
   "cell_type": "markdown",
   "id": "5d86d87d-9caa-4222-9e40-08fe2527834f",
   "metadata": {},
   "source": [
    "#### *Fitting and Ploting results*"
   ]
  },
  {
   "cell_type": "code",
   "execution_count": 14,
   "id": "df9d57a3-e878-479b-b397-d4cc9cf83a16",
   "metadata": {
    "scrolled": true,
    "tags": []
   },
   "outputs": [
    {
     "name": "stdout",
     "output_type": "stream",
     "text": [
      "CLASS - 0 --> Violence\n",
      "CLASS - 1 --> NonViolence\n",
      "\n",
      "Classification Report for each Classifier:\n",
      "\n",
      "\n",
      "Classifier: SVC(kernel='linear', max_...\n",
      "              precision    recall  f1-score   support\n",
      "\n",
      "           0       0.90      0.90      0.90       350\n",
      "           1       0.90      0.90      0.90       344\n",
      "\n",
      "    accuracy                           0.90       694\n",
      "   macro avg       0.90      0.90      0.90       694\n",
      "weighted avg       0.90      0.90      0.90       694\n",
      "\n",
      "\n",
      "\n",
      "Classifier: SVC(kernel='poly', max_it...\n",
      "              precision    recall  f1-score   support\n",
      "\n",
      "           0       0.84      0.73      0.78       350\n",
      "           1       0.76      0.85      0.80       344\n",
      "\n",
      "    accuracy                           0.79       694\n",
      "   macro avg       0.80      0.79      0.79       694\n",
      "weighted avg       0.80      0.79      0.79       694\n",
      "\n",
      "\n",
      "\n",
      "Classifier: SVC(max_iter=10000)...\n",
      "              precision    recall  f1-score   support\n",
      "\n",
      "           0       0.79      0.80      0.80       350\n",
      "           1       0.80      0.78      0.79       344\n",
      "\n",
      "    accuracy                           0.79       694\n",
      "   macro avg       0.79      0.79      0.79       694\n",
      "weighted avg       0.79      0.79      0.79       694\n",
      "\n",
      "\n",
      "\n",
      "Classifier: SVC(kernel='sigmoid', max...\n",
      "              precision    recall  f1-score   support\n",
      "\n",
      "           0       0.67      0.64      0.65       350\n",
      "           1       0.65      0.68      0.66       344\n",
      "\n",
      "    accuracy                           0.66       694\n",
      "   macro avg       0.66      0.66      0.66       694\n",
      "weighted avg       0.66      0.66      0.66       694\n",
      "\n",
      "\n",
      "\n",
      "Classifier: LogisticRegression()...\n",
      "              precision    recall  f1-score   support\n",
      "\n",
      "           0       0.90      0.95      0.92       350\n",
      "           1       0.94      0.89      0.92       344\n",
      "\n",
      "    accuracy                           0.92       694\n",
      "   macro avg       0.92      0.92      0.92       694\n",
      "weighted avg       0.92      0.92      0.92       694\n",
      "\n",
      "\n",
      "\n",
      "Classifier: LogisticRegression(solver...\n",
      "              precision    recall  f1-score   support\n",
      "\n",
      "           0       0.87      0.86      0.86       350\n",
      "           1       0.86      0.87      0.86       344\n",
      "\n",
      "    accuracy                           0.86       694\n",
      "   macro avg       0.86      0.86      0.86       694\n",
      "weighted avg       0.86      0.86      0.86       694\n",
      "\n",
      "\n",
      "\n",
      "Classifier: SGDClassifier()...\n",
      "              precision    recall  f1-score   support\n",
      "\n",
      "           0       0.90      0.82      0.86       350\n",
      "           1       0.83      0.90      0.87       344\n",
      "\n",
      "    accuracy                           0.86       694\n",
      "   macro avg       0.86      0.86      0.86       694\n",
      "weighted avg       0.86      0.86      0.86       694\n",
      "\n",
      "\n",
      "\n",
      "Classifier: GaussianNB()...\n",
      "              precision    recall  f1-score   support\n",
      "\n",
      "           0       0.85      0.90      0.88       350\n",
      "           1       0.89      0.84      0.87       344\n",
      "\n",
      "    accuracy                           0.87       694\n",
      "   macro avg       0.87      0.87      0.87       694\n",
      "weighted avg       0.87      0.87      0.87       694\n",
      "\n",
      "\n",
      "\n",
      "Classifier: KMeans(n_clusters=2)...\n",
      "              precision    recall  f1-score   support\n",
      "\n",
      "           0       0.85      0.90      0.88       350\n",
      "           1       0.89      0.84      0.87       344\n",
      "\n",
      "    accuracy                           0.87       694\n",
      "   macro avg       0.87      0.87      0.87       694\n",
      "weighted avg       0.87      0.87      0.87       694\n",
      "\n",
      "\n",
      "\n",
      "Classifier: GaussianProcessClassifier...\n",
      "              precision    recall  f1-score   support\n",
      "\n",
      "           0       0.51      1.00      0.67       350\n",
      "           1       0.83      0.01      0.03       344\n",
      "\n",
      "    accuracy                           0.51       694\n",
      "   macro avg       0.67      0.51      0.35       694\n",
      "weighted avg       0.67      0.51      0.35       694\n",
      "\n",
      "\n",
      "\n",
      "Classifier: DecisionTreeClassifier(ma...\n",
      "              precision    recall  f1-score   support\n",
      "\n",
      "           0       0.78      0.77      0.78       350\n",
      "           1       0.77      0.78      0.78       344\n",
      "\n",
      "    accuracy                           0.78       694\n",
      "   macro avg       0.78      0.78      0.78       694\n",
      "weighted avg       0.78      0.78      0.78       694\n",
      "\n",
      "\n",
      "\n",
      "Classifier: RandomForestClassifier(ma...\n",
      "              precision    recall  f1-score   support\n",
      "\n",
      "           0       0.92      0.95      0.94       350\n",
      "           1       0.95      0.92      0.93       344\n",
      "\n",
      "    accuracy                           0.93       694\n",
      "   macro avg       0.93      0.93      0.93       694\n",
      "weighted avg       0.93      0.93      0.93       694\n",
      "\n",
      "\n",
      "\n",
      "Classifier: KNeighborsClassifier()...\n",
      "              precision    recall  f1-score   support\n",
      "\n",
      "           0       0.80      0.89      0.84       350\n",
      "           1       0.87      0.77      0.82       344\n",
      "\n",
      "    accuracy                           0.83       694\n",
      "   macro avg       0.83      0.83      0.83       694\n",
      "weighted avg       0.83      0.83      0.83       694\n",
      "\n",
      "\n",
      "\n",
      "Classifier: MLPClassifier(early_stopp...\n",
      "              precision    recall  f1-score   support\n",
      "\n",
      "           0       0.95      0.92      0.93       350\n",
      "           1       0.92      0.95      0.94       344\n",
      "\n",
      "    accuracy                           0.94       694\n",
      "   macro avg       0.94      0.94      0.94       694\n",
      "weighted avg       0.94      0.94      0.94       694\n",
      "\n",
      "\n",
      "\n",
      "Classifier: AdaBoostClassifier()...\n",
      "              precision    recall  f1-score   support\n",
      "\n",
      "           0       0.88      0.91      0.89       350\n",
      "           1       0.90      0.88      0.89       344\n",
      "\n",
      "    accuracy                           0.89       694\n",
      "   macro avg       0.89      0.89      0.89       694\n",
      "weighted avg       0.89      0.89      0.89       694\n",
      "\n",
      "\n",
      "\n",
      "Classifier: GradientBoostingClassifie...\n",
      "              precision    recall  f1-score   support\n",
      "\n",
      "           0       0.85      0.85      0.85       350\n",
      "           1       0.85      0.84      0.85       344\n",
      "\n",
      "    accuracy                           0.85       694\n",
      "   macro avg       0.85      0.85      0.85       694\n",
      "weighted avg       0.85      0.85      0.85       694\n",
      "\n",
      "\n",
      "\n",
      "Classifier: QuadraticDiscriminantAnal...\n",
      "              precision    recall  f1-score   support\n",
      "\n",
      "           0       0.75      0.16      0.27       350\n",
      "           1       0.53      0.94      0.68       344\n",
      "\n",
      "    accuracy                           0.55       694\n",
      "   macro avg       0.64      0.55      0.47       694\n",
      "weighted avg       0.64      0.55      0.47       694\n",
      "\n",
      "\n",
      "\n",
      "Classifier: LGBMClassifier()...\n",
      "              precision    recall  f1-score   support\n",
      "\n",
      "           0       0.94      0.95      0.94       350\n",
      "           1       0.94      0.94      0.94       344\n",
      "\n",
      "    accuracy                           0.94       694\n",
      "   macro avg       0.94      0.94      0.94       694\n",
      "weighted avg       0.94      0.94      0.94       694\n",
      "\n",
      "\n",
      "\n",
      "Classifier: XGBClassifier(base_score=...\n",
      "[03:09:24] WARNING: C:/Users/Administrator/workspace/xgboost-win64_release_1.5.1/src/learner.cc:1115: Starting in XGBoost 1.3.0, the default evaluation metric used with the objective 'binary:logistic' was changed from 'error' to 'logloss'. Explicitly set eval_metric if you'd like to restore the old behavior.\n",
      "              precision    recall  f1-score   support\n",
      "\n",
      "           0       0.94      0.95      0.94       350\n",
      "           1       0.95      0.94      0.94       344\n",
      "\n",
      "    accuracy                           0.94       694\n",
      "   macro avg       0.94      0.94      0.94       694\n",
      "weighted avg       0.94      0.94      0.94       694\n",
      "\n",
      "\n",
      "\n",
      "Classifier: <catboost.core.CatBoostCl...\n",
      "              precision    recall  f1-score   support\n",
      "\n",
      "           0       0.95      0.96      0.95       350\n",
      "           1       0.96      0.94      0.95       344\n",
      "\n",
      "    accuracy                           0.95       694\n",
      "   macro avg       0.95      0.95      0.95       694\n",
      "weighted avg       0.95      0.95      0.95       694\n",
      "\n"
     ]
    },
    {
     "data": {
      "image/png": "[encoded data removed]",
      "text/plain": [
       "<Figure size 1296x1008 with 20 Axes>"
      ]
     },
     "metadata": {
      "needs_background": "light"
     },
     "output_type": "display_data"
    }
   ],
   "source": [
    "Metrics = runML()"
   ]
  },
  {
   "cell_type": "code",
   "execution_count": 15,
   "id": "4a151adc-4bdc-4bfc-b2ef-bec0a66d2c3a",
   "metadata": {},
   "outputs": [
    {
     "name": "stdout",
     "output_type": "stream",
     "text": [
      "\n",
      "Classifier for which max Accuracy is obtained:\n",
      "Training-time      56.628936\n",
      "Prediction-time     0.093763\n",
      "Accuracy           95.100865\n",
      "Name: CatBoost, dtype: float64\n",
      "\n",
      "\n",
      "Classifier for which min Training-time is obtained:\n",
      "Training-time       0.012238\n",
      "Prediction-time     0.414499\n",
      "Accuracy           82.997118\n",
      "Name: KNN, dtype: float64\n",
      "\n",
      "\n",
      "Classifier for which min Prediction-time is obtained:\n",
      "Training-time       1.178127\n",
      "Prediction-time     0.000000\n",
      "Accuracy           91.930836\n",
      "Name: lbfgs Log-Reg, dtype: float64\n",
      "\n",
      "\n",
      "Results of all the Classifiers:\n"
     ]
    },
    {
     "data": {
      "text/html": [
       "<div>\n",
       "<style scoped>\n",
       "    .dataframe tbody tr th:only-of-type {\n",
       "        vertical-align: middle;\n",
       "    }\n",
       "\n",
       "    .dataframe tbody tr th {\n",
       "        vertical-align: top;\n",
       "    }\n",
       "\n",
       "    .dataframe thead th {\n",
       "        text-align: right;\n",
       "    }\n",
       "</style>\n",
       "<table border=\"1\" class=\"dataframe\">\n",
       "  <thead>\n",
       "    <tr style=\"text-align: right;\">\n",
       "      <th></th>\n",
       "      <th>Training-time</th>\n",
       "      <th>Prediction-time</th>\n",
       "      <th>Accuracy</th>\n",
       "    </tr>\n",
       "  </thead>\n",
       "  <tbody>\n",
       "    <tr>\n",
       "      <th>CatBoost</th>\n",
       "      <td>56.628936</td>\n",
       "      <td>0.093763</td>\n",
       "      <td>95.100865</td>\n",
       "    </tr>\n",
       "    <tr>\n",
       "      <th>XGB</th>\n",
       "      <td>19.905738</td>\n",
       "      <td>0.028015</td>\n",
       "      <td>94.380403</td>\n",
       "    </tr>\n",
       "    <tr>\n",
       "      <th>LGBM</th>\n",
       "      <td>23.268346</td>\n",
       "      <td>0.008000</td>\n",
       "      <td>94.236311</td>\n",
       "    </tr>\n",
       "    <tr>\n",
       "      <th>Neural Net</th>\n",
       "      <td>5.954595</td>\n",
       "      <td>0.010170</td>\n",
       "      <td>93.515850</td>\n",
       "    </tr>\n",
       "    <tr>\n",
       "      <th>Random Forest</th>\n",
       "      <td>4.913018</td>\n",
       "      <td>0.020286</td>\n",
       "      <td>93.371758</td>\n",
       "    </tr>\n",
       "    <tr>\n",
       "      <th>lbfgs Log-Reg</th>\n",
       "      <td>1.178127</td>\n",
       "      <td>0.000000</td>\n",
       "      <td>91.930836</td>\n",
       "    </tr>\n",
       "    <tr>\n",
       "      <th>Linear SVM</th>\n",
       "      <td>6.027479</td>\n",
       "      <td>1.356190</td>\n",
       "      <td>90.057637</td>\n",
       "    </tr>\n",
       "    <tr>\n",
       "      <th>AdaBoost</th>\n",
       "      <td>27.457229</td>\n",
       "      <td>0.161857</td>\n",
       "      <td>89.193084</td>\n",
       "    </tr>\n",
       "    <tr>\n",
       "      <th>Naive Bayes</th>\n",
       "      <td>0.097935</td>\n",
       "      <td>0.052305</td>\n",
       "      <td>87.175793</td>\n",
       "    </tr>\n",
       "    <tr>\n",
       "      <th>KMeans</th>\n",
       "      <td>2.963308</td>\n",
       "      <td>2.963308</td>\n",
       "      <td>87.175793</td>\n",
       "    </tr>\n",
       "    <tr>\n",
       "      <th>saga Log-Reg</th>\n",
       "      <td>12.092861</td>\n",
       "      <td>0.000000</td>\n",
       "      <td>86.455331</td>\n",
       "    </tr>\n",
       "    <tr>\n",
       "      <th>SGD</th>\n",
       "      <td>1.485468</td>\n",
       "      <td>0.010166</td>\n",
       "      <td>86.023055</td>\n",
       "    </tr>\n",
       "    <tr>\n",
       "      <th>GradientBoost</th>\n",
       "      <td>488.546397</td>\n",
       "      <td>0.020550</td>\n",
       "      <td>84.870317</td>\n",
       "    </tr>\n",
       "    <tr>\n",
       "      <th>KNN</th>\n",
       "      <td>0.012238</td>\n",
       "      <td>0.414499</td>\n",
       "      <td>82.997118</td>\n",
       "    </tr>\n",
       "    <tr>\n",
       "      <th>RBF SVM</th>\n",
       "      <td>10.371718</td>\n",
       "      <td>4.425527</td>\n",
       "      <td>79.394813</td>\n",
       "    </tr>\n",
       "    <tr>\n",
       "      <th>Poly SVM</th>\n",
       "      <td>10.321900</td>\n",
       "      <td>2.488642</td>\n",
       "      <td>79.250720</td>\n",
       "    </tr>\n",
       "    <tr>\n",
       "      <th>Decision Tree</th>\n",
       "      <td>6.733688</td>\n",
       "      <td>0.002146</td>\n",
       "      <td>77.665706</td>\n",
       "    </tr>\n",
       "    <tr>\n",
       "      <th>Sig SVM</th>\n",
       "      <td>7.447579</td>\n",
       "      <td>1.914839</td>\n",
       "      <td>65.850144</td>\n",
       "    </tr>\n",
       "    <tr>\n",
       "      <th>QDA</th>\n",
       "      <td>8.868334</td>\n",
       "      <td>0.124825</td>\n",
       "      <td>55.043228</td>\n",
       "    </tr>\n",
       "    <tr>\n",
       "      <th>Gaussian Process</th>\n",
       "      <td>22.306863</td>\n",
       "      <td>5.286036</td>\n",
       "      <td>51.008646</td>\n",
       "    </tr>\n",
       "  </tbody>\n",
       "</table>\n",
       "</div>"
      ],
      "text/plain": [
       "                  Training-time  Prediction-time   Accuracy\n",
       "CatBoost              56.628936         0.093763  95.100865\n",
       "XGB                   19.905738         0.028015  94.380403\n",
       "LGBM                  23.268346         0.008000  94.236311\n",
       "Neural Net             5.954595         0.010170  93.515850\n",
       "Random Forest          4.913018         0.020286  93.371758\n",
       "lbfgs Log-Reg          1.178127         0.000000  91.930836\n",
       "Linear SVM             6.027479         1.356190  90.057637\n",
       "AdaBoost              27.457229         0.161857  89.193084\n",
       "Naive Bayes            0.097935         0.052305  87.175793\n",
       "KMeans                 2.963308         2.963308  87.175793\n",
       "saga Log-Reg          12.092861         0.000000  86.455331\n",
       "SGD                    1.485468         0.010166  86.023055\n",
       "GradientBoost        488.546397         0.020550  84.870317\n",
       "KNN                    0.012238         0.414499  82.997118\n",
       "RBF SVM               10.371718         4.425527  79.394813\n",
       "Poly SVM              10.321900         2.488642  79.250720\n",
       "Decision Tree          6.733688         0.002146  77.665706\n",
       "Sig SVM                7.447579         1.914839  65.850144\n",
       "QDA                    8.868334         0.124825  55.043228\n",
       "Gaussian Process      22.306863         5.286036  51.008646"
      ]
     },
     "execution_count": 15,
     "metadata": {},
     "output_type": "execute_result"
    }
   ],
   "source": [
    "result = pd.DataFrame(Metrics.values(), columns =['Training-time', 'Prediction-time', 'Accuracy'])\n",
    "result.index = Metrics.keys()\n",
    "\n",
    "print(\"\\nClassifier for which max Accuracy is obtained:\")\n",
    "print(result.loc[result[\"Accuracy\"].idxmax()])\n",
    "\n",
    "print(\"\\n\\nClassifier for which min Training-time is obtained:\")\n",
    "print(result.loc[result[\"Training-time\"].idxmin()])\n",
    "\n",
    "print(\"\\n\\nClassifier for which min Prediction-time is obtained:\")\n",
    "print(result.loc[result[\"Prediction-time\"].idxmin()])\n",
    "\n",
    "print(\"\\n\\nResults of all the Classifiers:\")\n",
    "result.sort_values(by=\"Accuracy\", ascending=False)"
   ]
  },
  {
   "cell_type": "markdown",
   "id": "64c43da1-ea7d-421c-b5d0-cc1149d531c4",
   "metadata": {},
   "source": [
    "## **Classification using Filtered out Features**"
   ]
  },
  {
   "cell_type": "code",
   "execution_count": 16,
   "id": "6230816a-9712-4c3c-98f0-d5dc30925e62",
   "metadata": {},
   "outputs": [],
   "source": [
    "from sklearn.model_selection import train_test_split\n",
    "train_features,test_features,train_labels,test_labels = train_test_split(temp_feat_df, labels, test_size=.2, shuffle=True)"
   ]
  },
  {
   "cell_type": "code",
   "execution_count": 17,
   "id": "f5b37468-d325-4a16-ad2d-4e450185e724",
   "metadata": {},
   "outputs": [
    {
     "name": "stdout",
     "output_type": "stream",
     "text": [
      "Training data size: (2774, 1958)\n",
      "Test data size: (694, 1958)\n"
     ]
    }
   ],
   "source": [
    "print(\"Training data size:\", train_features.shape)\n",
    "print(\"Test data size:\", test_features.shape)"
   ]
  },
  {
   "cell_type": "markdown",
   "id": "0530454d-8f1d-4a94-b8ba-ec7a9c381c10",
   "metadata": {},
   "source": [
    "#### *Fitting and Ploting results*"
   ]
  },
  {
   "cell_type": "code",
   "execution_count": 18,
   "id": "18b9ffe3-5297-4a27-89cf-eac2ccf0bd06",
   "metadata": {
    "scrolled": true,
    "tags": []
   },
   "outputs": [
    {
     "name": "stdout",
     "output_type": "stream",
     "text": [
      "CLASS - 0 --> Violence\n",
      "CLASS - 1 --> NonViolence\n",
      "\n",
      "Classification Report for each Classifier:\n",
      "\n",
      "\n",
      "Classifier: SVC(kernel='linear', max_...\n",
      "              precision    recall  f1-score   support\n",
      "\n",
      "           0       0.85      0.84      0.85       335\n",
      "           1       0.85      0.87      0.86       359\n",
      "\n",
      "    accuracy                           0.85       694\n",
      "   macro avg       0.85      0.85      0.85       694\n",
      "weighted avg       0.85      0.85      0.85       694\n",
      "\n",
      "\n",
      "\n",
      "Classifier: SVC(kernel='poly', max_it...\n",
      "              precision    recall  f1-score   support\n",
      "\n",
      "           0       0.84      0.73      0.78       335\n",
      "           1       0.78      0.87      0.82       359\n",
      "\n",
      "    accuracy                           0.80       694\n",
      "   macro avg       0.81      0.80      0.80       694\n",
      "weighted avg       0.81      0.80      0.80       694\n",
      "\n",
      "\n",
      "\n",
      "Classifier: SVC(max_iter=10000)...\n",
      "              precision    recall  f1-score   support\n",
      "\n",
      "           0       0.79      0.84      0.81       335\n",
      "           1       0.84      0.79      0.81       359\n",
      "\n",
      "    accuracy                           0.81       694\n",
      "   macro avg       0.81      0.81      0.81       694\n",
      "weighted avg       0.81      0.81      0.81       694\n",
      "\n",
      "\n",
      "\n",
      "Classifier: SVC(kernel='sigmoid', max...\n",
      "              precision    recall  f1-score   support\n",
      "\n",
      "           0       0.65      0.61      0.63       335\n",
      "           1       0.66      0.70      0.68       359\n",
      "\n",
      "    accuracy                           0.66       694\n",
      "   macro avg       0.66      0.66      0.66       694\n",
      "weighted avg       0.66      0.66      0.66       694\n",
      "\n",
      "\n",
      "\n",
      "Classifier: LogisticRegression()...\n",
      "              precision    recall  f1-score   support\n",
      "\n",
      "           0       0.90      0.92      0.91       335\n",
      "           1       0.92      0.90      0.91       359\n",
      "\n",
      "    accuracy                           0.91       694\n",
      "   macro avg       0.91      0.91      0.91       694\n",
      "weighted avg       0.91      0.91      0.91       694\n",
      "\n",
      "\n",
      "\n",
      "Classifier: LogisticRegression(solver...\n",
      "              precision    recall  f1-score   support\n",
      "\n",
      "           0       0.86      0.89      0.87       335\n",
      "           1       0.89      0.86      0.88       359\n",
      "\n",
      "    accuracy                           0.87       694\n",
      "   macro avg       0.87      0.87      0.87       694\n",
      "weighted avg       0.87      0.87      0.87       694\n",
      "\n",
      "\n",
      "\n",
      "Classifier: SGDClassifier()...\n",
      "              precision    recall  f1-score   support\n",
      "\n",
      "           0       0.81      0.98      0.88       335\n",
      "           1       0.98      0.78      0.87       359\n",
      "\n",
      "    accuracy                           0.88       694\n",
      "   macro avg       0.89      0.88      0.88       694\n",
      "weighted avg       0.89      0.88      0.88       694\n",
      "\n",
      "\n",
      "\n",
      "Classifier: GaussianNB()...\n",
      "              precision    recall  f1-score   support\n",
      "\n",
      "           0       0.82      0.90      0.86       335\n",
      "           1       0.90      0.82      0.86       359\n",
      "\n",
      "    accuracy                           0.86       694\n",
      "   macro avg       0.86      0.86      0.86       694\n",
      "weighted avg       0.86      0.86      0.86       694\n",
      "\n",
      "\n",
      "\n",
      "Classifier: KMeans(n_clusters=2)...\n",
      "              precision    recall  f1-score   support\n",
      "\n",
      "           0       0.82      0.90      0.86       335\n",
      "           1       0.90      0.82      0.86       359\n",
      "\n",
      "    accuracy                           0.86       694\n",
      "   macro avg       0.86      0.86      0.86       694\n",
      "weighted avg       0.86      0.86      0.86       694\n",
      "\n",
      "\n",
      "\n",
      "Classifier: GaussianProcessClassifier...\n",
      "              precision    recall  f1-score   support\n",
      "\n",
      "           0       0.49      1.00      0.65       335\n",
      "           1       1.00      0.01      0.02       359\n",
      "\n",
      "    accuracy                           0.49       694\n",
      "   macro avg       0.74      0.51      0.34       694\n",
      "weighted avg       0.75      0.49      0.33       694\n",
      "\n",
      "\n",
      "\n",
      "Classifier: DecisionTreeClassifier(ma...\n",
      "              precision    recall  f1-score   support\n",
      "\n",
      "           0       0.78      0.82      0.80       335\n",
      "           1       0.82      0.78      0.80       359\n",
      "\n",
      "    accuracy                           0.80       694\n",
      "   macro avg       0.80      0.80      0.80       694\n",
      "weighted avg       0.80      0.80      0.80       694\n",
      "\n",
      "\n",
      "\n",
      "Classifier: RandomForestClassifier(ma...\n",
      "              precision    recall  f1-score   support\n",
      "\n",
      "           0       0.91      0.95      0.93       335\n",
      "           1       0.95      0.91      0.93       359\n",
      "\n",
      "    accuracy                           0.93       694\n",
      "   macro avg       0.93      0.93      0.93       694\n",
      "weighted avg       0.93      0.93      0.93       694\n",
      "\n",
      "\n",
      "\n",
      "Classifier: KNeighborsClassifier()...\n",
      "              precision    recall  f1-score   support\n",
      "\n",
      "           0       0.81      0.92      0.86       335\n",
      "           1       0.91      0.80      0.85       359\n",
      "\n",
      "    accuracy                           0.85       694\n",
      "   macro avg       0.86      0.86      0.85       694\n",
      "weighted avg       0.86      0.85      0.85       694\n",
      "\n",
      "\n",
      "\n",
      "Classifier: MLPClassifier(early_stopp...\n",
      "              precision    recall  f1-score   support\n",
      "\n",
      "           0       0.84      0.98      0.90       335\n",
      "           1       0.98      0.82      0.89       359\n",
      "\n",
      "    accuracy                           0.90       694\n",
      "   macro avg       0.91      0.90      0.90       694\n",
      "weighted avg       0.91      0.90      0.90       694\n",
      "\n",
      "\n",
      "\n",
      "Classifier: AdaBoostClassifier()...\n",
      "              precision    recall  f1-score   support\n",
      "\n",
      "           0       0.87      0.89      0.88       335\n",
      "           1       0.90      0.88      0.89       359\n",
      "\n",
      "    accuracy                           0.89       694\n",
      "   macro avg       0.89      0.89      0.89       694\n",
      "weighted avg       0.89      0.89      0.89       694\n",
      "\n",
      "\n",
      "\n",
      "Classifier: GradientBoostingClassifie...\n",
      "              precision    recall  f1-score   support\n",
      "\n",
      "           0       0.82      0.82      0.82       335\n",
      "           1       0.84      0.83      0.83       359\n",
      "\n",
      "    accuracy                           0.83       694\n",
      "   macro avg       0.83      0.83      0.83       694\n",
      "weighted avg       0.83      0.83      0.83       694\n",
      "\n",
      "\n",
      "\n",
      "Classifier: QuadraticDiscriminantAnal...\n",
      "              precision    recall  f1-score   support\n",
      "\n",
      "           0       0.71      0.55      0.62       335\n",
      "           1       0.65      0.79      0.71       359\n",
      "\n",
      "    accuracy                           0.67       694\n",
      "   macro avg       0.68      0.67      0.67       694\n",
      "weighted avg       0.68      0.67      0.67       694\n",
      "\n",
      "\n",
      "\n",
      "Classifier: LGBMClassifier()...\n",
      "              precision    recall  f1-score   support\n",
      "\n",
      "           0       0.92      0.94      0.93       335\n",
      "           1       0.94      0.92      0.93       359\n",
      "\n",
      "    accuracy                           0.93       694\n",
      "   macro avg       0.93      0.93      0.93       694\n",
      "weighted avg       0.93      0.93      0.93       694\n",
      "\n",
      "\n",
      "\n",
      "Classifier: XGBClassifier(base_score=...\n",
      "[03:15:32] WARNING: C:/Users/Administrator/workspace/xgboost-win64_release_1.5.1/src/learner.cc:1115: Starting in XGBoost 1.3.0, the default evaluation metric used with the objective 'binary:logistic' was changed from 'error' to 'logloss'. Explicitly set eval_metric if you'd like to restore the old behavior.\n",
      "              precision    recall  f1-score   support\n",
      "\n",
      "           0       0.91      0.95      0.93       335\n",
      "           1       0.95      0.91      0.93       359\n",
      "\n",
      "    accuracy                           0.93       694\n",
      "   macro avg       0.93      0.93      0.93       694\n",
      "weighted avg       0.93      0.93      0.93       694\n",
      "\n",
      "\n",
      "\n",
      "Classifier: <catboost.core.CatBoostCl...\n",
      "              precision    recall  f1-score   support\n",
      "\n",
      "           0       0.92      0.95      0.94       335\n",
      "           1       0.95      0.92      0.94       359\n",
      "\n",
      "    accuracy                           0.94       694\n",
      "   macro avg       0.94      0.94      0.94       694\n",
      "weighted avg       0.94      0.94      0.94       694\n",
      "\n"
     ]
    },
    {
     "data": {
      "image/png": "[encoded data removed]",
      "text/plain": [
       "<Figure size 1296x1008 with 20 Axes>"
      ]
     },
     "metadata": {
      "needs_background": "light"
     },
     "output_type": "display_data"
    }
   ],
   "source": [
    "Metrics = runML()"
   ]
  },
  {
   "cell_type": "code",
   "execution_count": 19,
   "id": "286ce36f-ffaa-413a-8eba-c52c267fe861",
   "metadata": {},
   "outputs": [
    {
     "name": "stdout",
     "output_type": "stream",
     "text": [
      "\n",
      "Classifier for which max Accuracy is obtained:\n",
      "Training-time      22.773241\n",
      "Prediction-time     0.200733\n",
      "Accuracy           93.659942\n",
      "Name: CatBoost, dtype: float64\n",
      "\n",
      "\n",
      "Classifier for which min Training-time is obtained:\n",
      "Training-time       0.010042\n",
      "Prediction-time     0.215856\n",
      "Accuracy           85.446686\n",
      "Name: KNN, dtype: float64\n",
      "\n",
      "\n",
      "Classifier for which min Prediction-time is obtained:\n",
      "Training-time       2.438238\n",
      "Prediction-time     0.000000\n",
      "Accuracy           89.913545\n",
      "Name: Neural Net, dtype: float64\n",
      "\n",
      "\n",
      "Results of all the Classifiers:\n"
     ]
    },
    {
     "data": {
      "text/html": [
       "<div>\n",
       "<style scoped>\n",
       "    .dataframe tbody tr th:only-of-type {\n",
       "        vertical-align: middle;\n",
       "    }\n",
       "\n",
       "    .dataframe tbody tr th {\n",
       "        vertical-align: top;\n",
       "    }\n",
       "\n",
       "    .dataframe thead th {\n",
       "        text-align: right;\n",
       "    }\n",
       "</style>\n",
       "<table border=\"1\" class=\"dataframe\">\n",
       "  <thead>\n",
       "    <tr style=\"text-align: right;\">\n",
       "      <th></th>\n",
       "      <th>Training-time</th>\n",
       "      <th>Prediction-time</th>\n",
       "      <th>Accuracy</th>\n",
       "    </tr>\n",
       "  </thead>\n",
       "  <tbody>\n",
       "    <tr>\n",
       "      <th>CatBoost</th>\n",
       "      <td>22.773241</td>\n",
       "      <td>0.200733</td>\n",
       "      <td>93.659942</td>\n",
       "    </tr>\n",
       "    <tr>\n",
       "      <th>LGBM</th>\n",
       "      <td>10.611239</td>\n",
       "      <td>0.043993</td>\n",
       "      <td>93.227666</td>\n",
       "    </tr>\n",
       "    <tr>\n",
       "      <th>XGB</th>\n",
       "      <td>9.354655</td>\n",
       "      <td>0.038301</td>\n",
       "      <td>93.083573</td>\n",
       "    </tr>\n",
       "    <tr>\n",
       "      <th>Random Forest</th>\n",
       "      <td>3.280982</td>\n",
       "      <td>0.030797</td>\n",
       "      <td>92.939481</td>\n",
       "    </tr>\n",
       "    <tr>\n",
       "      <th>lbfgs Log-Reg</th>\n",
       "      <td>0.652747</td>\n",
       "      <td>0.015645</td>\n",
       "      <td>90.778098</td>\n",
       "    </tr>\n",
       "    <tr>\n",
       "      <th>Neural Net</th>\n",
       "      <td>2.438238</td>\n",
       "      <td>0.000000</td>\n",
       "      <td>89.913545</td>\n",
       "    </tr>\n",
       "    <tr>\n",
       "      <th>AdaBoost</th>\n",
       "      <td>11.450605</td>\n",
       "      <td>0.079939</td>\n",
       "      <td>88.616715</td>\n",
       "    </tr>\n",
       "    <tr>\n",
       "      <th>SGD</th>\n",
       "      <td>0.803278</td>\n",
       "      <td>0.010165</td>\n",
       "      <td>87.608069</td>\n",
       "    </tr>\n",
       "    <tr>\n",
       "      <th>saga Log-Reg</th>\n",
       "      <td>5.742878</td>\n",
       "      <td>0.018283</td>\n",
       "      <td>87.319885</td>\n",
       "    </tr>\n",
       "    <tr>\n",
       "      <th>Naive Bayes</th>\n",
       "      <td>0.056980</td>\n",
       "      <td>0.046864</td>\n",
       "      <td>86.023055</td>\n",
       "    </tr>\n",
       "    <tr>\n",
       "      <th>KMeans</th>\n",
       "      <td>3.856033</td>\n",
       "      <td>3.856033</td>\n",
       "      <td>86.023055</td>\n",
       "    </tr>\n",
       "    <tr>\n",
       "      <th>KNN</th>\n",
       "      <td>0.010042</td>\n",
       "      <td>0.215856</td>\n",
       "      <td>85.446686</td>\n",
       "    </tr>\n",
       "    <tr>\n",
       "      <th>Linear SVM</th>\n",
       "      <td>3.309455</td>\n",
       "      <td>0.592000</td>\n",
       "      <td>85.302594</td>\n",
       "    </tr>\n",
       "    <tr>\n",
       "      <th>GradientBoost</th>\n",
       "      <td>203.949973</td>\n",
       "      <td>0.020552</td>\n",
       "      <td>82.853026</td>\n",
       "    </tr>\n",
       "    <tr>\n",
       "      <th>RBF SVM</th>\n",
       "      <td>5.309664</td>\n",
       "      <td>2.026845</td>\n",
       "      <td>81.268012</td>\n",
       "    </tr>\n",
       "    <tr>\n",
       "      <th>Poly SVM</th>\n",
       "      <td>5.439758</td>\n",
       "      <td>1.148496</td>\n",
       "      <td>80.403458</td>\n",
       "    </tr>\n",
       "    <tr>\n",
       "      <th>Decision Tree</th>\n",
       "      <td>2.616418</td>\n",
       "      <td>0.010192</td>\n",
       "      <td>79.827089</td>\n",
       "    </tr>\n",
       "    <tr>\n",
       "      <th>QDA</th>\n",
       "      <td>6.240888</td>\n",
       "      <td>0.053426</td>\n",
       "      <td>67.291066</td>\n",
       "    </tr>\n",
       "    <tr>\n",
       "      <th>Sig SVM</th>\n",
       "      <td>3.552083</td>\n",
       "      <td>0.985996</td>\n",
       "      <td>65.706052</td>\n",
       "    </tr>\n",
       "    <tr>\n",
       "      <th>Gaussian Process</th>\n",
       "      <td>14.144708</td>\n",
       "      <td>2.337185</td>\n",
       "      <td>48.847262</td>\n",
       "    </tr>\n",
       "  </tbody>\n",
       "</table>\n",
       "</div>"
      ],
      "text/plain": [
       "                  Training-time  Prediction-time   Accuracy\n",
       "CatBoost              22.773241         0.200733  93.659942\n",
       "LGBM                  10.611239         0.043993  93.227666\n",
       "XGB                    9.354655         0.038301  93.083573\n",
       "Random Forest          3.280982         0.030797  92.939481\n",
       "lbfgs Log-Reg          0.652747         0.015645  90.778098\n",
       "Neural Net             2.438238         0.000000  89.913545\n",
       "AdaBoost              11.450605         0.079939  88.616715\n",
       "SGD                    0.803278         0.010165  87.608069\n",
       "saga Log-Reg           5.742878         0.018283  87.319885\n",
       "Naive Bayes            0.056980         0.046864  86.023055\n",
       "KMeans                 3.856033         3.856033  86.023055\n",
       "KNN                    0.010042         0.215856  85.446686\n",
       "Linear SVM             3.309455         0.592000  85.302594\n",
       "GradientBoost        203.949973         0.020552  82.853026\n",
       "RBF SVM                5.309664         2.026845  81.268012\n",
       "Poly SVM               5.439758         1.148496  80.403458\n",
       "Decision Tree          2.616418         0.010192  79.827089\n",
       "QDA                    6.240888         0.053426  67.291066\n",
       "Sig SVM                3.552083         0.985996  65.706052\n",
       "Gaussian Process      14.144708         2.337185  48.847262"
      ]
     },
     "execution_count": 19,
     "metadata": {},
     "output_type": "execute_result"
    }
   ],
   "source": [
    "result = pd.DataFrame(Metrics.values(), columns =['Training-time', 'Prediction-time', 'Accuracy'])\n",
    "result.index = Metrics.keys()\n",
    "\n",
    "print(\"\\nClassifier for which max Accuracy is obtained:\")\n",
    "print(result.loc[result[\"Accuracy\"].idxmax()])\n",
    "\n",
    "print(\"\\n\\nClassifier for which min Training-time is obtained:\")\n",
    "print(result.loc[result[\"Training-time\"].idxmin()])\n",
    "\n",
    "print(\"\\n\\nClassifier for which min Prediction-time is obtained:\")\n",
    "print(result.loc[result[\"Prediction-time\"].idxmin()])\n",
    "\n",
    "print(\"\\n\\nResults of all the Classifiers:\")\n",
    "result.sort_values(by=\"Accuracy\", ascending=False)"
   ]
  },
  {
   "cell_type": "markdown",
   "id": "388366ae-2d90-4ec6-9f8a-ee0381b16178",
   "metadata": {},
   "source": [
    "---\n",
    "#### *<div style=\"text-align: center\"> - - - - - Thank You - - - - - <div>*\n",
    "---"
   ]
  }
 ],
 "metadata": {
  "kernelspec": {
   "display_name": "Python 3 (ipykernel)",
   "language": "python",
   "name": "python3"
  },
  "language_info": {
   "codemirror_mode": {
    "name": "ipython",
    "version": 3
   },
   "file_extension": ".py",
   "mimetype": "text/x-python",
   "name": "python",
   "nbconvert_exporter": "python",
   "pygments_lexer": "ipython3",
   "version": "3.10.7"
  }
 },
 "nbformat": 4,
 "nbformat_minor": 5
}
