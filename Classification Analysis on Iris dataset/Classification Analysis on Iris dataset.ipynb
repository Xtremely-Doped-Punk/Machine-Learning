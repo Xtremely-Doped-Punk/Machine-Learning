{
 "cells": [
  {
   "cell_type": "code",
   "execution_count": 1,
   "id": "d5d1238e-5497-4f60-8120-0d974981a162",
   "metadata": {},
   "outputs": [],
   "source": [
    "#Import Libraries\n",
    "import numpy as np\n",
    "import pandas as pd\n",
    "from sklearn.model_selection import train_test_split\n",
    "from sklearn.linear_model import LogisticRegression\n",
    "from sklearn.neighbors import KNeighborsClassifier\n",
    "from sklearn.tree import DecisionTreeClassifier\n",
    "from sklearn.metrics import accuracy_score, confusion_matrix"
   ]
  },
  {
   "cell_type": "code",
   "execution_count": 3,
   "id": "471a6a66-af4a-42bd-bb9a-0e73722a2f23",
   "metadata": {},
   "outputs": [
    {
     "data": {
      "text/html": [
       "<div>\n",
       "<style scoped>\n",
       "    .dataframe tbody tr th:only-of-type {\n",
       "        vertical-align: middle;\n",
       "    }\n",
       "\n",
       "    .dataframe tbody tr th {\n",
       "        vertical-align: top;\n",
       "    }\n",
       "\n",
       "    .dataframe thead th {\n",
       "        text-align: right;\n",
       "    }\n",
       "</style>\n",
       "<table border=\"1\" class=\"dataframe\">\n",
       "  <thead>\n",
       "    <tr style=\"text-align: right;\">\n",
       "      <th></th>\n",
       "      <th>Id</th>\n",
       "      <th>SepalLengthCm</th>\n",
       "      <th>SepalWidthCm</th>\n",
       "      <th>PetalLengthCm</th>\n",
       "      <th>PetalWidthCm</th>\n",
       "      <th>Species</th>\n",
       "    </tr>\n",
       "  </thead>\n",
       "  <tbody>\n",
       "    <tr>\n",
       "      <th>0</th>\n",
       "      <td>1</td>\n",
       "      <td>5.1</td>\n",
       "      <td>3.5</td>\n",
       "      <td>1.4</td>\n",
       "      <td>0.2</td>\n",
       "      <td>Iris-setosa</td>\n",
       "    </tr>\n",
       "    <tr>\n",
       "      <th>1</th>\n",
       "      <td>2</td>\n",
       "      <td>4.9</td>\n",
       "      <td>3.0</td>\n",
       "      <td>1.4</td>\n",
       "      <td>0.2</td>\n",
       "      <td>Iris-setosa</td>\n",
       "    </tr>\n",
       "    <tr>\n",
       "      <th>2</th>\n",
       "      <td>3</td>\n",
       "      <td>4.7</td>\n",
       "      <td>3.2</td>\n",
       "      <td>1.3</td>\n",
       "      <td>0.2</td>\n",
       "      <td>Iris-setosa</td>\n",
       "    </tr>\n",
       "    <tr>\n",
       "      <th>3</th>\n",
       "      <td>4</td>\n",
       "      <td>4.6</td>\n",
       "      <td>3.1</td>\n",
       "      <td>1.5</td>\n",
       "      <td>0.2</td>\n",
       "      <td>Iris-setosa</td>\n",
       "    </tr>\n",
       "    <tr>\n",
       "      <th>4</th>\n",
       "      <td>5</td>\n",
       "      <td>5.0</td>\n",
       "      <td>3.6</td>\n",
       "      <td>1.4</td>\n",
       "      <td>0.2</td>\n",
       "      <td>Iris-setosa</td>\n",
       "    </tr>\n",
       "  </tbody>\n",
       "</table>\n",
       "</div>"
      ],
      "text/plain": [
       "   Id  SepalLengthCm  SepalWidthCm  PetalLengthCm  PetalWidthCm      Species\n",
       "0   1            5.1           3.5            1.4           0.2  Iris-setosa\n",
       "1   2            4.9           3.0            1.4           0.2  Iris-setosa\n",
       "2   3            4.7           3.2            1.3           0.2  Iris-setosa\n",
       "3   4            4.6           3.1            1.5           0.2  Iris-setosa\n",
       "4   5            5.0           3.6            1.4           0.2  Iris-setosa"
      ]
     },
     "execution_count": 3,
     "metadata": {},
     "output_type": "execute_result"
    }
   ],
   "source": [
    "df = pd.read_csv(\"Iris.csv\")\n",
    "df.head()"
   ]
  },
  {
   "cell_type": "code",
   "execution_count": 4,
   "id": "eb60e6b8-837b-41ca-87f2-4d2e241bfe62",
   "metadata": {},
   "outputs": [
    {
     "name": "stdout",
     "output_type": "stream",
     "text": [
      "(150, 3) \n",
      " (150,)\n"
     ]
    }
   ],
   "source": [
    "# First Row is just and ID which is not considered as a feature here\n",
    "Input = df.iloc[:,1:4].values\n",
    "Output = df.iloc[:,5].values\n",
    "\n",
    "print(Input.shape, \"\\n\", Output.shape)"
   ]
  },
  {
   "cell_type": "code",
   "execution_count": 5,
   "id": "c44c1659-5d73-428a-a574-68e5bc6c389d",
   "metadata": {},
   "outputs": [
    {
     "name": "stdout",
     "output_type": "stream",
     "text": [
      "\n",
      " (127, 3) \n",
      " (127,)\n",
      "\n",
      " (23, 3) \n",
      " (23,)\n"
     ]
    }
   ],
   "source": [
    "X_train, X_test, Y_train,Y_test = train_test_split(Input, Output, test_size=0.15, random_state=0)\n",
    "print(\"\\n\", X_train.shape, \"\\n\", Y_train.shape)\n",
    "print(\"\\n\", X_test.shape, \"\\n\", Y_test.shape)"
   ]
  },
  {
   "cell_type": "code",
   "execution_count": 5,
   "id": "5eabe4b0-d96f-48e1-87da-edafa08ee0b5",
   "metadata": {},
   "outputs": [
    {
     "name": "stdout",
     "output_type": "stream",
     "text": [
      "\n",
      "Accuracy: 100.0 %\n",
      "\n",
      "Prediction / Actual results\n",
      "\n",
      "[['Iris-virginica' 'Iris-virginica']\n",
      " ['Iris-versicolor' 'Iris-versicolor']\n",
      " ['Iris-setosa' 'Iris-setosa']\n",
      " ['Iris-virginica' 'Iris-virginica']\n",
      " ['Iris-setosa' 'Iris-setosa']\n",
      " ['Iris-virginica' 'Iris-virginica']\n",
      " ['Iris-setosa' 'Iris-setosa']\n",
      " ['Iris-versicolor' 'Iris-versicolor']\n",
      " ['Iris-versicolor' 'Iris-versicolor']\n",
      " ['Iris-versicolor' 'Iris-versicolor']\n",
      " ['Iris-virginica' 'Iris-virginica']\n",
      " ['Iris-versicolor' 'Iris-versicolor']\n",
      " ['Iris-versicolor' 'Iris-versicolor']\n",
      " ['Iris-versicolor' 'Iris-versicolor']\n",
      " ['Iris-versicolor' 'Iris-versicolor']\n",
      " ['Iris-setosa' 'Iris-setosa']\n",
      " ['Iris-versicolor' 'Iris-versicolor']\n",
      " ['Iris-versicolor' 'Iris-versicolor']\n",
      " ['Iris-setosa' 'Iris-setosa']\n",
      " ['Iris-setosa' 'Iris-setosa']\n",
      " ['Iris-virginica' 'Iris-virginica']\n",
      " ['Iris-versicolor' 'Iris-versicolor']\n",
      " ['Iris-setosa' 'Iris-setosa']]\n",
      "\n",
      " Confusion Matrix: \n",
      "[[ 7  0  0]\n",
      " [ 0 11  0]\n",
      " [ 0  0  5]]\n"
     ]
    }
   ],
   "source": [
    "#Note: here out data set value ranges between different features are within comparable scale (cm)\n",
    "#So we wont be needing the Standard scaler for here\n",
    "#Here we have more than two class, generaly logistic regression is binary classification\n",
    "#Thus the Function does one to many regression,i.e, if there is N classes, \n",
    "#there would be N binary logistic regresion to check whether the sample is belonging to that class or not\n",
    "\n",
    "log = LogisticRegression()\n",
    "log.fit(X_train, Y_train)\n",
    "Y_pred = log.predict(X_test)\n",
    "\n",
    "print(\"\\nAccuracy:\", accuracy_score(Y_test, Y_pred)*100, \"%\")\n",
    "print(\"\\nPrediction / Actual results\\n\")\n",
    "print(np.concatenate((Y_pred.reshape(-1,1), Y_test.reshape(-1,1)), axis =1))\n",
    "print(\"\\n Confusion Matrix: \")\n",
    "print(confusion_matrix(Y_test, Y_pred))"
   ]
  },
  {
   "cell_type": "code",
   "execution_count": 6,
   "id": "8f5312f2-277c-41c5-b025-a1c6058289a7",
   "metadata": {},
   "outputs": [
    {
     "name": "stdout",
     "output_type": "stream",
     "text": [
      "K-Neighbhor: 1 \t\tAccuracy: 95.65217391304348 %\n",
      "K-Neighbhor: 2 \t\tAccuracy: 100.0 %\n",
      "K-Neighbhor: 3 \t\tAccuracy: 91.30434782608695 %\n",
      "K-Neighbhor: 4 \t\tAccuracy: 91.30434782608695 %\n",
      "K-Neighbhor: 5 \t\tAccuracy: 91.30434782608695 %\n",
      "\n",
      "K-Neighbhor: 2 \t\tAccuracy: 100.0 %\n",
      "\n",
      " Prediction / Actual result\n",
      "\n",
      "[['Iris-virginica' 'Iris-virginica']\n",
      " ['Iris-versicolor' 'Iris-versicolor']\n",
      " ['Iris-setosa' 'Iris-setosa']\n",
      " ['Iris-virginica' 'Iris-virginica']\n",
      " ['Iris-setosa' 'Iris-setosa']\n",
      " ['Iris-virginica' 'Iris-virginica']\n",
      " ['Iris-setosa' 'Iris-setosa']\n",
      " ['Iris-versicolor' 'Iris-versicolor']\n",
      " ['Iris-versicolor' 'Iris-versicolor']\n",
      " ['Iris-versicolor' 'Iris-versicolor']\n",
      " ['Iris-virginica' 'Iris-virginica']\n",
      " ['Iris-versicolor' 'Iris-versicolor']\n",
      " ['Iris-versicolor' 'Iris-versicolor']\n",
      " ['Iris-versicolor' 'Iris-versicolor']\n",
      " ['Iris-versicolor' 'Iris-versicolor']\n",
      " ['Iris-setosa' 'Iris-setosa']\n",
      " ['Iris-versicolor' 'Iris-versicolor']\n",
      " ['Iris-versicolor' 'Iris-versicolor']\n",
      " ['Iris-setosa' 'Iris-setosa']\n",
      " ['Iris-setosa' 'Iris-setosa']\n",
      " ['Iris-virginica' 'Iris-virginica']\n",
      " ['Iris-versicolor' 'Iris-versicolor']\n",
      " ['Iris-setosa' 'Iris-setosa']]\n",
      "\n",
      " Confusion Matrix: \n",
      "[[7 0 0]\n",
      " [0 9 2]\n",
      " [0 0 5]]\n"
     ]
    }
   ],
   "source": [
    "#Note: here the algorithim's accuracy is pure based on the K-Neighbor value\n",
    "#The best accuracy is usually in the middle not too high or not too low, so it needs to be found out by hit and trial\n",
    "#Mostly the K value cant be greater than no.of classes (here 3)\n",
    "#hence here i take a loop from 1 to 5, finding which has the highest accuracy\n",
    "acc = 0\n",
    "K = 0\n",
    "for i in range(1,6):    \n",
    "    knn = KNeighborsClassifier(n_neighbors=i)\n",
    "    knn.fit(X_train, Y_train)\n",
    "    Y_pred = knn.predict(X_test)\n",
    "    \n",
    "    print(\"K-Neighbhor:\", i, \"\\t\\tAccuracy:\", accuracy_score(Y_test, Y_pred)*100, \"%\")\n",
    "    \n",
    "    if(accuracy_score(Y_test, Y_pred)*100 > acc):\n",
    "        acc = accuracy_score(Y_test, Y_pred)*100\n",
    "        Y_pred_final = Y_pred\n",
    "        K = i\n",
    "\n",
    "print(\"\\nK-Neighbhor:\", K, \"\\t\\tAccuracy:\", accuracy_score(Y_test, Y_pred_final)*100, \"%\")\n",
    "print(\"\\n Prediction / Actual result\\n\")\n",
    "print(np.concatenate((Y_pred_final.reshape(-1,1), Y_test.reshape(-1,1)), axis =1))\n",
    "print(\"\\n Confusion Matrix: \")\n",
    "print(confusion_matrix(Y_test, Y_pred))"
   ]
  },
  {
   "cell_type": "code",
   "execution_count": 6,
   "id": "92a35a7a-1f3e-4d3b-af83-1b63925c9694",
   "metadata": {},
   "outputs": [
    {
     "name": "stdout",
     "output_type": "stream",
     "text": [
      "\n",
      "Accuracy: 95.65217391304348 %\n",
      "\n",
      "Prediction / Actual results\n",
      "\n",
      "[['Iris-virginica' 'Iris-virginica']\n",
      " ['Iris-versicolor' 'Iris-versicolor']\n",
      " ['Iris-setosa' 'Iris-setosa']\n",
      " ['Iris-virginica' 'Iris-virginica']\n",
      " ['Iris-setosa' 'Iris-setosa']\n",
      " ['Iris-virginica' 'Iris-virginica']\n",
      " ['Iris-setosa' 'Iris-setosa']\n",
      " ['Iris-versicolor' 'Iris-versicolor']\n",
      " ['Iris-versicolor' 'Iris-versicolor']\n",
      " ['Iris-versicolor' 'Iris-versicolor']\n",
      " ['Iris-versicolor' 'Iris-virginica']\n",
      " ['Iris-versicolor' 'Iris-versicolor']\n",
      " ['Iris-versicolor' 'Iris-versicolor']\n",
      " ['Iris-versicolor' 'Iris-versicolor']\n",
      " ['Iris-versicolor' 'Iris-versicolor']\n",
      " ['Iris-setosa' 'Iris-setosa']\n",
      " ['Iris-versicolor' 'Iris-versicolor']\n",
      " ['Iris-versicolor' 'Iris-versicolor']\n",
      " ['Iris-setosa' 'Iris-setosa']\n",
      " ['Iris-setosa' 'Iris-setosa']\n",
      " ['Iris-virginica' 'Iris-virginica']\n",
      " ['Iris-versicolor' 'Iris-versicolor']\n",
      " ['Iris-setosa' 'Iris-setosa']]\n",
      "\n",
      " Confusion Matrix: \n",
      "[[ 7  0  0]\n",
      " [ 0 11  0]\n",
      " [ 0  1  4]]\n"
     ]
    }
   ],
   "source": [
    "#Decision Tree\n",
    "\n",
    "dt = DecisionTreeClassifier()\n",
    "dt.fit(X_train, Y_train)\n",
    "Y_pred = dt.predict(X_test)\n",
    "\n",
    "print(\"\\nAccuracy:\", accuracy_score(Y_test, Y_pred)*100, \"%\")\n",
    "print(\"\\nPrediction / Actual results\\n\")\n",
    "print(np.concatenate((Y_pred.reshape(-1,1), Y_test.reshape(-1,1)), axis =1))\n",
    "print(\"\\n Confusion Matrix: \")\n",
    "print(confusion_matrix(Y_test, Y_pred))"
   ]
  },
  {
   "cell_type": "markdown",
   "id": "16f09f69-f300-4b1d-89f3-b83ebdf1eeeb",
   "metadata": {},
   "source": [
    "-------------------------------------------------------------\n",
    "_**Finally we can see the ACCURACY of each Algorithim here:**_\n",
    "\n",
    "--------------------------------------------------------------\n",
    "Logistic Regression: 100%\n",
    "<br>KNN: 100%\n",
    "<br>Decision Tree: 95.65%"
   ]
  },
  {
   "cell_type": "code",
   "execution_count": null,
   "id": "b1595aeb-33b6-4d49-bf86-381278b7b342",
   "metadata": {},
   "outputs": [],
   "source": []
  }
 ],
 "metadata": {
  "kernelspec": {
   "display_name": "Python 3 (ipykernel)",
   "language": "python",
   "name": "python3"
  },
  "language_info": {
   "codemirror_mode": {
    "name": "ipython",
    "version": 3
   },
   "file_extension": ".py",
   "mimetype": "text/x-python",
   "name": "python",
   "nbconvert_exporter": "python",
   "pygments_lexer": "ipython3",
   "version": "3.9.6"
  }
 },
 "nbformat": 4,
 "nbformat_minor": 5
}
